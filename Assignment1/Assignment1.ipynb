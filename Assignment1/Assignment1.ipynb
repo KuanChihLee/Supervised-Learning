{
  "nbformat": 4,
  "nbformat_minor": 0,
  "metadata": {
    "colab": {
      "name": "Assignment1.ipynb",
      "version": "0.3.2",
      "provenance": [],
      "collapsed_sections": [],
      "include_colab_link": true
    },
    "kernelspec": {
      "display_name": "Python 3",
      "language": "python",
      "name": "python3"
    }
  },
  "cells": [
    {
      "cell_type": "markdown",
      "metadata": {
        "id": "view-in-github",
        "colab_type": "text"
      },
      "source": [
        "<a href=\"https://colab.research.google.com/github/KuanChihLee/Supervised-Learning/blob/master/Assignment1.ipynb\" target=\"_parent\"><img src=\"https://colab.research.google.com/assets/colab-badge.svg\" alt=\"Open In Colab\"/></a>"
      ]
    },
    {
      "metadata": {
        "id": "8OhT5IuzYAy2",
        "colab_type": "code",
        "colab": {}
      },
      "cell_type": "code",
      "source": [
        "%matplotlib inline\n",
        "import matplotlib.pyplot as plt\n",
        "plt.style.use('seaborn-whitegrid')\n",
        "import numpy as np"
      ],
      "execution_count": 0,
      "outputs": []
    },
    {
      "metadata": {
        "id": "5dH2yJaS3Apt",
        "colab_type": "text"
      },
      "cell_type": "markdown",
      "source": [
        "## This Assignment implement different loss functions and comparison.\n"
      ]
    },
    {
      "metadata": {
        "id": "yXF_5i6_YAzF",
        "colab_type": "text"
      },
      "cell_type": "markdown",
      "source": [
        "# Question 4"
      ]
    },
    {
      "metadata": {
        "id": "8Pl5P2OcYAzH",
        "colab_type": "text"
      },
      "cell_type": "markdown",
      "source": [
        "#### (a) Overlay graphs of the loss functions, Quadratic loss (L_2 norm), Mean absolute error (L_1 norm) and Huber loss, for a range of e (consider two different values of δ for Huber loss). Use the graph to discuss the relative advantages and disadvantages of these loss functions for linear regression."
      ]
    },
    {
      "metadata": {
        "id": "kZM07difYAzY",
        "colab_type": "text"
      },
      "cell_type": "markdown",
      "source": [
        "#### Answer:\n",
        "#### 1. Differentiable: MSE and Huber loss function can, but MAE is not differentiable\n",
        "#### 2. Robust to outliers: MAE and Huber loss function are better than MSE because MSE will square all the value of error"
      ]
    },
    {
      "metadata": {
        "id": "iUCZ-QkiYAzK",
        "colab_type": "code",
        "outputId": "9c2989bc-5cd1-4a3e-94d1-b79b28ead5dc",
        "colab": {}
      },
      "cell_type": "code",
      "source": [
        "upper = 5\n",
        "lower = -5\n",
        "points = 100\n",
        "err = np.linspace(lower, upper, points)\n",
        "\n",
        "fig, ax = plt.subplots()\n",
        "\n",
        "# Plot MSE and MAE\n",
        "MSE = err**2\n",
        "MAE = abs(err)\n",
        "\n",
        "ax.plot(err, MSE, '-b', label='MSE')\n",
        "ax.plot(err, MAE, '-r', label='MAE')\n",
        "\n",
        "# Plot Huber loss\n",
        "count = True\n",
        "for delta in [0.25, 2.5]:\n",
        "    H_loss_p1 = delta*( abs(err[err <= -delta]) - delta/2)\n",
        "    H_loss_p2 = (err[abs(err) <= delta])**2/2\n",
        "    H_loss_p3 = delta*( abs(err[err >= delta]) - delta/2)\n",
        "    H_loss = np.zeros(points)\n",
        "    H_loss[0:len(H_loss_p1)] = H_loss_p1\n",
        "    H_loss[len(H_loss_p1):len(H_loss_p1)+len(H_loss_p2)] = H_loss_p2\n",
        "    H_loss[len(H_loss_p1)+len(H_loss_p2):] = H_loss_p3\n",
        "    if count:\n",
        "        ax.plot(err, H_loss, '-g', label='Huber: ' + str(delta))\n",
        "    else:\n",
        "        ax.plot(err, H_loss, '--g', label='Huber: ' + str(delta))\n",
        "    count = False\n",
        "    \n",
        "leg = ax.legend();\n",
        "title = ax.set_title('Loss functions');\n",
        "xlabel = ax.set_xlabel('e (y - y-hat)');\n",
        "ylabel = ax.set_ylabel('e**2');"
      ],
      "execution_count": 0,
      "outputs": [
        {
          "output_type": "display_data",
          "data": {
            "image/png": "[encoded data removed]",
            "text/plain": [
              "<Figure size 432x288 with 1 Axes>"
            ]
          },
          "metadata": {
            "tags": [],
            "needs_background": "light"
          }
        }
      ]
    },
    {
      "metadata": {
        "id": "H4iOtpA5YAze",
        "colab_type": "text"
      },
      "cell_type": "markdown",
      "source": [
        "#### (b) Implement gradient descent for the loss functions above\n",
        "\n",
        "#### (c) Implement stochastic gradient descent for the loss functions above\n",
        "\n",
        "#### Here, the error reduced by gradient descent is shown. The real practice with generated data will be shown in the question 5."
      ]
    },
    {
      "metadata": {
        "id": "XsSYGVgeYAzg",
        "colab_type": "code",
        "colab": {}
      },
      "cell_type": "code",
      "source": [
        "# Original Function\n",
        "def func(x, name, delta = 1.0):\n",
        "    if name == 'MSE': \n",
        "        return np.square(x)\n",
        "    elif name == 'MAE': \n",
        "        return abs(x)\n",
        "    elif name == 'Huber':\n",
        "        H_loss = np.zeros(len(x))\n",
        "        i = 0\n",
        "        for x in x:\n",
        "            if abs(x) <= delta:\n",
        "                H_loss[i] = np.square(x)/2\n",
        "            else:\n",
        "                H_loss[i] = delta*( abs(x) - delta/2)\n",
        "            i += 1\n",
        "        return H_loss\n",
        "    \n",
        "# Derivative Function    \n",
        "def dfunc(x, name, delta):\n",
        "    if name == 'MSE': \n",
        "        return 2 * x\n",
        "    elif name == 'MAE':\n",
        "        if x > 0:\n",
        "            return 1\n",
        "        elif x < 0:\n",
        "            return -1\n",
        "        else: \n",
        "            return 0\n",
        "    elif name == 'Huber':\n",
        "        if abs(x) <= delta:\n",
        "            return x\n",
        "        else:\n",
        "            if x > 0: \n",
        "                return delta\n",
        "            else: \n",
        "                return -delta\n",
        "    \n",
        "            \n",
        "def GD(x_start, df, name, epochs, lr, delta = 1.0):\n",
        "    '''\n",
        "    Gradient Descent:\n",
        "    para x_start: starting point of x\n",
        "    para df: first order function of target function\n",
        "    para epochs: how many times to update\n",
        "    para lr: learning rate\n",
        "    para delta: it's only used in function named Huber\n",
        "    return: x_new, which is the new points after each epoch\n",
        "    '''\n",
        "    x_new = np.zeros(epochs + 1)\n",
        "    x = x_start\n",
        "    x_new[0] = x\n",
        "    for i in range(epochs):\n",
        "        dx = df(x, name, delta)\n",
        "        v = -dx * lr\n",
        "        x += v\n",
        "        x_new[i+1] = x\n",
        "    \n",
        "    return x_new\n",
        "    \n",
        "x_start = 5   \n",
        "epochs = 10\n",
        "lr = 0.3"
      ],
      "execution_count": 0,
      "outputs": []
    },
    {
      "metadata": {
        "id": "kIzCDjuLYAzn",
        "colab_type": "code",
        "outputId": "d5e53cd9-f227-45ce-fd3e-ac44d0a370c5",
        "colab": {}
      },
      "cell_type": "code",
      "source": [
        "func_name = 'MSE'\n",
        "x = GD(x_start, dfunc, func_name, epochs, lr=lr)\n",
        "\n",
        "t = np.arange(-5.0, 5.0, 0.01)\n",
        "plt.plot(t, func(t, func_name), c='b')\n",
        "plt.plot(x, func(x, func_name), c='r', label='lr={}'.format(lr))\n",
        "plt.scatter(x, func(x, func_name), c='r')\n",
        "plt.legend()\n",
        "plt.title('MSE')"
      ],
      "execution_count": 0,
      "outputs": [
        {
          "output_type": "execute_result",
          "data": {
            "text/plain": [
              "Text(0.5,1,'MSE')"
            ]
          },
          "metadata": {
            "tags": []
          },
          "execution_count": 4
        },
        {
          "output_type": "display_data",
          "data": {
            "image/png": "[encoded data removed]",
            "text/plain": [
              "<Figure size 432x288 with 1 Axes>"
            ]
          },
          "metadata": {
            "tags": [],
            "needs_background": "light"
          }
        }
      ]
    },
    {
      "metadata": {
        "id": "0umk42JaYAzv",
        "colab_type": "code",
        "outputId": "198437db-1630-42c2-c329-cb167242b0e1",
        "colab": {}
      },
      "cell_type": "code",
      "source": [
        "func_name = 'MAE'\n",
        "epochs = 100\n",
        "\n",
        "x = GD(x_start, dfunc, func_name, epochs, lr=lr)\n",
        "\n",
        "t = np.arange(-5.0, 5.0, 0.01)\n",
        "plt.plot(t, func(t, func_name), c='b')\n",
        "plt.plot(x, func(x, func_name), c='r', label='lr={}'.format(lr))\n",
        "plt.scatter(x, func(x, func_name), c='r')\n",
        "plt.legend()\n",
        "plt.title('MAE')"
      ],
      "execution_count": 0,
      "outputs": [
        {
          "output_type": "execute_result",
          "data": {
            "text/plain": [
              "Text(0.5,1,'MAE')"
            ]
          },
          "metadata": {
            "tags": []
          },
          "execution_count": 5
        },
        {
          "output_type": "display_data",
          "data": {
            "image/png": "[encoded data removed]",
            "text/plain": [
              "<Figure size 432x288 with 1 Axes>"
            ]
          },
          "metadata": {
            "tags": [],
            "needs_background": "light"
          }
        }
      ]
    },
    {
      "metadata": {
        "id": "fkw1bIKNYAz7",
        "colab_type": "code",
        "outputId": "2e8e053d-bcce-4033-dd94-5ef256c182e5",
        "colab": {}
      },
      "cell_type": "code",
      "source": [
        "func_name = 'Huber'\n",
        "epochs = 10\n",
        "delta = 4.0\n",
        "x = GD(x_start, dfunc, func_name, epochs, lr=lr, delta=delta)\n",
        "\n",
        "t = np.arange(-5.0, 5.0, 0.01)\n",
        "plt.plot(t, func(t, func_name, delta=delta), c='b')\n",
        "plt.plot(x, func(x, func_name, delta=delta), c='r', label='lr={}'.format(lr))\n",
        "plt.scatter(x, func(x, func_name, delta=delta), c='r')\n",
        "plt.legend()\n",
        "plt.title('Huber Loss')"
      ],
      "execution_count": 0,
      "outputs": [
        {
          "output_type": "execute_result",
          "data": {
            "text/plain": [
              "Text(0.5,1,'Huber Loss')"
            ]
          },
          "metadata": {
            "tags": []
          },
          "execution_count": 6
        },
        {
          "output_type": "display_data",
          "data": {
            "image/png": "[encoded data removed]",
            "text/plain": [
              "<Figure size 432x288 with 1 Axes>"
            ]
          },
          "metadata": {
            "tags": [],
            "needs_background": "light"
          }
        }
      ]
    },
    {
      "metadata": {
        "id": "EyZBFB37YA0J",
        "colab_type": "text"
      },
      "cell_type": "markdown",
      "source": [
        "# Question 5"
      ]
    },
    {
      "metadata": {
        "id": "4MviC9aLY5Nr",
        "colab_type": "text"
      },
      "cell_type": "markdown",
      "source": [
        "#### In this question we will revisit JW Figure 3.3, and empirically evaluate various approaches to fitting linear regression."
      ]
    },
    {
      "metadata": {
        "id": "wigEyCjIYA0O",
        "colab_type": "code",
        "outputId": "ab497090-f7ae-4813-e1ef-eba3127cb844",
        "colab": {}
      },
      "cell_type": "code",
      "source": [
        "## Creating data required in question 5\n",
        "S_Num = 50\n",
        "Slope = 3\n",
        "Inter = 2\n",
        "Mean = 0\n",
        "Std = 2\n",
        "#rng = np.random.RandomState(42)\n",
        "#x = 10 * rng.rand(S_Num)\n",
        "es = np.random.normal(Mean, Std, S_Num)\n",
        "x = np.linspace(-2, 2, S_Num)\n",
        "y = Slope * x + Inter + es\n",
        "plt.scatter(x, y)"
      ],
      "execution_count": 0,
      "outputs": [
        {
          "output_type": "execute_result",
          "data": {
            "text/plain": [
              "<matplotlib.collections.PathCollection at 0x7f92a33b4240>"
            ]
          },
          "metadata": {
            "tags": []
          },
          "execution_count": 7
        },
        {
          "output_type": "display_data",
          "data": {
            "image/png": "[encoded data removed]",
            "text/plain": [
              "<Figure size 432x288 with 1 Axes>"
            ]
          },
          "metadata": {
            "tags": [],
            "needs_background": "light"
          }
        }
      ]
    },
    {
      "metadata": {
        "id": "wynEx-FFYA0V",
        "colab_type": "code",
        "outputId": "b0c25143-5ce1-4eac-9142-580e61b1135e",
        "colab": {}
      },
      "cell_type": "code",
      "source": [
        "## Presenting errors are following Normal Distribution\n",
        "s = np.random.normal(Mean, Std, 1000)\n",
        "count, bins, ignored = plt.hist(s, 100, density=True)"
      ],
      "execution_count": 0,
      "outputs": [
        {
          "output_type": "display_data",
          "data": {
            "image/png": "[encoded data removed]",
            "text/plain": [
              "<Figure size 432x288 with 1 Axes>"
            ]
          },
          "metadata": {
            "tags": [],
            "needs_background": "light"
          }
        }
      ]
    },
    {
      "metadata": {
        "id": "B1M8lE_sYA0d",
        "colab_type": "text"
      },
      "cell_type": "markdown",
      "source": [
        "Following cell is the loss function, which adjustable parameter for different gradient descent"
      ]
    },
    {
      "metadata": {
        "id": "LG8kj9q_YA0d",
        "colab_type": "code",
        "colab": {}
      },
      "cell_type": "code",
      "source": [
        "import pandas as pd\n",
        "from random import shuffle\n",
        "\n",
        "X = pd.DataFrame({'Inter': np.ones(len(x))})\n",
        "X['Slope'] = x\n",
        "\n",
        "def loss_func(X, y, theta, name, delta):\n",
        "    N, P = X.shape\n",
        "    grad = np.zeros(P)\n",
        "    err = X.dot(theta) - y \n",
        "    \n",
        "    if name == 'MSE':\n",
        "        J = sum(err ** 2.0) * (2.0/N)                              \n",
        "        grad = X.T.dot(err) / N\n",
        "    elif name == 'MAE':\n",
        "        J = sum(abs(err)) / N\n",
        "        for i in range(N):\n",
        "            if err[i] > 0:\n",
        "                grad += X[i,:].T\n",
        "            elif err[i] < 0:\n",
        "                grad -= X[i,:].T\n",
        "            else: grad = grad\n",
        "        grad /= N\n",
        "    elif name == 'Huber':\n",
        "        J = 0\n",
        "        for i in range(N):\n",
        "            if abs(err[i]) <= delta:\n",
        "                J += err[i]**2 / 2\n",
        "                grad += X[i].T.dot(err[i])\n",
        "            else:\n",
        "                J += delta * (abs(err[i]) - delta/2)\n",
        "                if err[i] > 0:\n",
        "                    grad += X[i,:].T * delta\n",
        "                elif err[i] < 0:\n",
        "                    grad -= X[i,:].T * delta\n",
        "                else: grad = grad\n",
        "        J /= N\n",
        "        grad /= N\n",
        "\n",
        "    return J, grad\n",
        "\n",
        "def optimizer_func(X, y, batch, theta, name, alpha, max_iter, delta=1.0):\n",
        "    N, P = X.shape\n",
        "    order = np.array(range(N))\n",
        "    X_shuffle = np.zeros((1,P))\n",
        "    for i in range(max_iter):\n",
        "        if batch:\n",
        "            X_input = X.values\n",
        "            J, grad = loss_func(X_input, y, theta, name, delta)\n",
        "        else:\n",
        "            shuffle(order)\n",
        "            for i in range(P):\n",
        "                X_shuffle[0,i] = X.iloc[order[0],i]\n",
        "            y_shuffle = y[order]\n",
        "            J, grad = loss_func(X_shuffle, y_shuffle[0], theta, name, delta)\n",
        "        theta = theta - alpha*grad\n",
        "    return theta\n",
        "\n",
        "def analytic_solu(x, y, N):\n",
        "    xmean = sum(x) / N\n",
        "    ymean = sum(y) / N\n",
        "    \n",
        "    Sxx = sum((x - xmean) ** 2)\n",
        "    Syy = sum((y - ymean) ** 2)\n",
        "    Sxy = sum((x - xmean) * (y - ymean))\n",
        "    \n",
        "    theta = [ymean - Sxy/Sxx*xmean, Sxy/Sxx]\n",
        "    return theta"
      ],
      "execution_count": 0,
      "outputs": []
    },
    {
      "metadata": {
        "id": "wn33yGbIYA0n",
        "colab_type": "code",
        "outputId": "bc2dd36a-dbed-49b4-ac0c-3272801332cd",
        "colab": {}
      },
      "cell_type": "code",
      "source": [
        "## Here is Linear Regression model from sklearn\n",
        "from sklearn.linear_model import LinearRegression\n",
        "model = LinearRegression(fit_intercept = True)\n",
        "X_new = x[:, np.newaxis]\n",
        "model.fit(X,y)\n",
        "print(model.coef_, model.intercept_)"
      ],
      "execution_count": 0,
      "outputs": [
        {
          "output_type": "stream",
          "text": [
            "[0.         2.88915571] 1.8451106639377564\n"
          ],
          "name": "stdout"
        }
      ]
    },
    {
      "metadata": {
        "id": "ogX3S_9bYA0t",
        "colab_type": "text"
      },
      "cell_type": "markdown",
      "source": [
        "Estimated slope = 2.890,  intercept = 1.845;    Designed function with out noise: slope = 3.0,   intercept = 2.0"
      ]
    },
    {
      "metadata": {
        "id": "FX_yjeOOYA0u",
        "colab_type": "text"
      },
      "cell_type": "markdown",
      "source": [
        "#### (a) Simulate N=50 values of X i , distributed Uniformly on interval (-2,2). Simulate the values of Y i = 2 + 3X i + e i , where e i is drawn from N (0, 4). Fit linear regression with squared loss to the simulated data using (i) analytical solution, (ii) gradient descent, and (iii) batch gradient descent implemented in Question 4. Set learning rate α to a small value (say, α = 0.01)."
      ]
    },
    {
      "metadata": {
        "id": "VHZiD32Hc1-P",
        "colab_type": "text"
      },
      "cell_type": "markdown",
      "source": [
        "(i) analytical solution"
      ]
    },
    {
      "metadata": {
        "id": "bhAGTZhLYA0w",
        "colab_type": "code",
        "outputId": "1e2d83a9-fcb8-45a1-ef67-fa89dfd996ad",
        "colab": {}
      },
      "cell_type": "code",
      "source": [
        "theta = analytic_solu(x, y, S_Num)\n",
        "print(\"parameters:\\n\" + \"Intercept: \" + str(theta[0]) + '\\n' + \"Slope: \" + str(theta[1]))"
      ],
      "execution_count": 0,
      "outputs": [
        {
          "output_type": "stream",
          "text": [
            "parameters:\n",
            "Intercept: 1.8451106639377564\n",
            "Slope: 2.8891557071344587\n"
          ],
          "name": "stdout"
        }
      ]
    },
    {
      "metadata": {
        "id": "kOySSxPWc54d",
        "colab_type": "text"
      },
      "cell_type": "markdown",
      "source": [
        "(ii) & (iii) gradient descent"
      ]
    },
    {
      "metadata": {
        "id": "w9bd2c55YA06",
        "colab_type": "text"
      },
      "cell_type": "markdown",
      "source": [
        "Stochastic and batch gradient descent can be switched with parameter \"batch\""
      ]
    },
    {
      "metadata": {
        "id": "-XIpyDKwYA08",
        "colab_type": "code",
        "outputId": "6956eab6-112b-4c15-ae2e-48e68c6a7b8a",
        "colab": {}
      },
      "cell_type": "code",
      "source": [
        "alpha = 0.01\n",
        "max_iter = 1000\n",
        "theta_init = [0,0]\n",
        "batch = True             # batch = False, is stochastic GD\n",
        "loss_func_name = 'MSE'   # Here I use Mean Squared Error as loss function\n",
        "theta = optimizer_func(X, y, batch, theta_init, loss_func_name, alpha, max_iter)\n",
        "print(\"parameters:\\n\" + \"Intercept: \" + str(theta[0]) + '\\n' + \"Slope: \" + str(theta[1]))\n",
        "print(\"GD error:\" + str(sum((X.dot(theta) - y) ** 2.0) * (2.0/S_Num)))"
      ],
      "execution_count": 0,
      "outputs": [
        {
          "output_type": "stream",
          "text": [
            "parameters:\n",
            "Intercept: 1.8450310082087833\n",
            "Slope: 2.889153243271589\n",
            "GD error:5.429529647373626\n"
          ],
          "name": "stdout"
        }
      ]
    },
    {
      "metadata": {
        "id": "rKuUnE7vYA1H",
        "colab_type": "text"
      },
      "cell_type": "markdown",
      "source": [
        "#### (b) Repeat (a) 1,000 times, overlay the histograms of the estimates of the slopes, and overlay the true value. Comment on how the choice of the algorithm affects the estimates of the slope parameter."
      ]
    },
    {
      "metadata": {
        "id": "WCFtl1gPYA1b",
        "colab_type": "text"
      },
      "cell_type": "markdown",
      "source": [
        "#### Answer:\n",
        "#### For the case using MSE as loss function, I got a similar result of slopes between batch and stochastic gradient descent. But, the standard deviation of stochastic gradient descent (std = 0.274) is slightly larger than the one using batch gradient descent (std = 0.254). This means that stochastic gradient descent will cause a larger variance error in this case."
      ]
    },
    {
      "metadata": {
        "id": "rP0L0evcZ9NG",
        "colab_type": "text"
      },
      "cell_type": "markdown",
      "source": [
        "Using batch gradient descent"
      ]
    },
    {
      "metadata": {
        "id": "aSaEkgCbYA1I",
        "colab_type": "code",
        "outputId": "c14bc6ad-7906-4eea-af49-d8f777394a9b",
        "colab": {}
      },
      "cell_type": "code",
      "source": [
        "repeat_times = 1000\n",
        "x = np.linspace(-2, 2, S_Num)\n",
        "slopes = np.zeros(repeat_times)\n",
        "for i in range(repeat_times):\n",
        "    es = np.random.normal(Mean, Std, S_Num)\n",
        "    y_new = Slope * x + Inter + es\n",
        "    theta_init = [0,0]\n",
        "    batch = True\n",
        "    loss_func_name = 'MSE'\n",
        "    theta = optimizer_func(X, y_new, batch, theta_init, loss_func_name, alpha, max_iter)\n",
        "    slopes[i] = theta[1]\n",
        "    \n",
        "plt.hist(slopes)\n",
        "print(\"Mean: \", slopes.mean())\n",
        "print(\"Std: \", slopes.std())\n",
        "print(\"Min: \", slopes.min())\n",
        "print(\"25%: \", np.percentile(slopes, 25))\n",
        "print(\"50%: \", np.percentile(slopes, 50))\n",
        "print(\"75%: \", np.percentile(slopes, 75))\n",
        "print(\"Max: \", slopes.max())"
      ],
      "execution_count": 0,
      "outputs": [
        {
          "output_type": "stream",
          "text": [
            "Mean:  2.988370823131351\n",
            "Std:  0.25430741574700344\n",
            "Min:  2.1905807665887225\n",
            "25%:  2.8132204028459418\n",
            "50%:  2.989653350559874\n",
            "75%:  3.1643497107757566\n",
            "Max:  3.8182923850011727\n"
          ],
          "name": "stdout"
        },
        {
          "output_type": "display_data",
          "data": {
            "image/png": "[encoded data removed]",
            "text/plain": [
              "<Figure size 432x288 with 1 Axes>"
            ]
          },
          "metadata": {
            "tags": [],
            "needs_background": "light"
          }
        }
      ]
    },
    {
      "metadata": {
        "id": "VAr8S7kLaFij",
        "colab_type": "text"
      },
      "cell_type": "markdown",
      "source": [
        "Using stochastic gradient descent"
      ]
    },
    {
      "metadata": {
        "id": "Y6lfrm3NYA1R",
        "colab_type": "code",
        "outputId": "fbe6d6cf-7527-4002-f978-0e76091e4c92",
        "colab": {}
      },
      "cell_type": "code",
      "source": [
        "for i in range(repeat_times):\n",
        "    es = np.random.normal(Mean, Std, S_Num)\n",
        "    y_new = Slope * x + Inter + es\n",
        "    theta_init = [0,0]\n",
        "    batch = False\n",
        "    loss_func_name = 'MSE'\n",
        "    theta = optimizer_func(X, y_new, batch, theta_init, loss_func_name, alpha, max_iter)\n",
        "    slopes[i] = theta[1]\n",
        "    \n",
        "plt.hist(slopes)\n",
        "print(\"Mean: \", slopes.mean())\n",
        "print(\"Std: \", slopes.std())\n",
        "print(\"Min: \", slopes.min())\n",
        "print(\"25%: \", np.percentile(slopes, 25))\n",
        "print(\"50%: \", np.percentile(slopes, 50))\n",
        "print(\"75%: \", np.percentile(slopes, 75))\n",
        "print(\"Max: \", slopes.max())"
      ],
      "execution_count": 0,
      "outputs": [
        {
          "output_type": "stream",
          "text": [
            "Mean:  3.0118426031029175\n",
            "Std:  0.27481515585697563\n",
            "Min:  2.1107374722465067\n",
            "25%:  2.832995737022755\n",
            "50%:  3.028614337917065\n",
            "75%:  3.1879977224654907\n",
            "Max:  3.942989964184504\n"
          ],
          "name": "stdout"
        },
        {
          "output_type": "display_data",
          "data": {
            "image/png": "[encoded data removed]",
            "text/plain": [
              "<Figure size 432x288 with 1 Axes>"
            ]
          },
          "metadata": {
            "tags": [],
            "needs_background": "light"
          }
        }
      ]
    },
    {
      "metadata": {
        "id": "UwXejFbAYA1d",
        "colab_type": "text"
      },
      "cell_type": "markdown",
      "source": [
        "#### (c) Simulate N=50 values of X i , distributed Uniformly on interval (-2,2). Simulate the values of Y i = 2+3X i +e i , where e i is drawn from N (0, 4). Fit linear regression with (i) squared loss with the analytical solution, (ii) mean absolute error with gradient descent, and (iii) Huber loss with gradient descent implemented in Question 4. Set learning rate α to a small value (say, α = 0.01)."
      ]
    },
    {
      "metadata": {
        "id": "_MC3kR87dMAv",
        "colab_type": "text"
      },
      "cell_type": "markdown",
      "source": [
        "Remind: Designed slope = 3.0, intercept = 2.0"
      ]
    },
    {
      "metadata": {
        "id": "8JwggIsza52K",
        "colab_type": "text"
      },
      "cell_type": "markdown",
      "source": [
        "(i) MSE with analytical solution"
      ]
    },
    {
      "metadata": {
        "id": "QC0lS16qYA1e",
        "colab_type": "code",
        "outputId": "c6df49b6-cc33-47eb-8167-10a93d6b1c5c",
        "colab": {}
      },
      "cell_type": "code",
      "source": [
        "theta = analytic_solu(x, y, S_Num)\n",
        "print(\"parameters:\\n\" + \"Intercept: \" + str(theta[0]) + '\\n' + \"Slope: \" + str(theta[1]))"
      ],
      "execution_count": 0,
      "outputs": [
        {
          "output_type": "stream",
          "text": [
            "parameters:\n",
            "Intercept: 1.8451106639377564\n",
            "Slope: 2.8891557071344587\n"
          ],
          "name": "stdout"
        }
      ]
    },
    {
      "metadata": {
        "id": "8Sz_gKyBa8sK",
        "colab_type": "text"
      },
      "cell_type": "markdown",
      "source": [
        "(ii) MAE + batch GD"
      ]
    },
    {
      "metadata": {
        "id": "Jvd_UWBbYA1o",
        "colab_type": "code",
        "outputId": "7a610402-283c-4ffa-c456-1fffd8a63167",
        "colab": {}
      },
      "cell_type": "code",
      "source": [
        "alpha = 0.01\n",
        "max_iter = 1000\n",
        "theta_init = [0,0]\n",
        "batch = True             # batch = False, is stochastic GD\n",
        "loss_func_name = 'MAE'   # Here I use Mean Absolute Error as loss function\n",
        "theta = optimizer_func(X, y, batch, theta_init, loss_func_name, alpha, max_iter)\n",
        "print(\"parameters:\\n\" + \"Intercept: \" + str(theta[0]) + '\\n' + \"Slope: \" + str(theta[1]))\n",
        "print(\"GD error:\" + str(sum(abs(X.dot(theta) - y)) / S_Num))"
      ],
      "execution_count": 0,
      "outputs": [
        {
          "output_type": "stream",
          "text": [
            "parameters:\n",
            "Intercept: 1.8143999999999945\n",
            "Slope: 2.915559183673455\n",
            "GD error:1.2877983918690226\n"
          ],
          "name": "stdout"
        }
      ]
    },
    {
      "metadata": {
        "id": "danoqBkea_yE",
        "colab_type": "text"
      },
      "cell_type": "markdown",
      "source": [
        "(iii) Huber loss + batch GD"
      ]
    },
    {
      "metadata": {
        "id": "8wScYow1YA1v",
        "colab_type": "code",
        "outputId": "1c923973-d00c-406f-b420-477770151cd1",
        "colab": {}
      },
      "cell_type": "code",
      "source": [
        "alpha = 0.01\n",
        "max_iter = 1000\n",
        "theta_init = [0,0]\n",
        "batch = True              # batch = False, is stochastic GD\n",
        "delta = 2.5               # adjusible delta\n",
        "loss_func_name = 'Huber'  # Here I use Huber Loss as loss function\n",
        "theta = optimizer_func(X, y, batch, theta_init, loss_func_name, alpha, max_iter, delta)\n",
        "print(\"parameters:\\n\" + \"Intercept: \" + str(theta[0]) + '\\n' + \"Slope: \" + str(theta[1]))"
      ],
      "execution_count": 0,
      "outputs": [
        {
          "output_type": "stream",
          "text": [
            "parameters:\n",
            "Intercept: 1.8471151612026624\n",
            "Slope: 2.858331308855216\n"
          ],
          "name": "stdout"
        }
      ]
    },
    {
      "metadata": {
        "id": "0yXckQk4YA11",
        "colab_type": "text"
      },
      "cell_type": "markdown",
      "source": [
        "#### (d) Repeat (c) 1,000 times, overlay the histograms of the estimates of the slopes, and overlay the true value. Comment on how the choice of the loss function in the case of Normal distribution affects the estimates of the slope parameter."
      ]
    },
    {
      "metadata": {
        "id": "ESAgUXmmYA2O",
        "colab_type": "text"
      },
      "cell_type": "markdown",
      "source": [
        "#### Answer: \n",
        "#### With same gradient descent method (batch gradient descent), all loss functions have a similar result. But, MSE and Huber loss have smaller standard deviation of slopes (0.241 and 0.242) than MAE has (std = 0.288). It makes sense that this Huber loss has similar performance as MSE because I gave it a higher delta (2.5)."
      ]
    },
    {
      "metadata": {
        "id": "S08UJDsTdcOd",
        "colab_type": "text"
      },
      "cell_type": "markdown",
      "source": [
        "Remind: Designed slope = 3.0, intercept = 2.0"
      ]
    },
    {
      "metadata": {
        "id": "YNHszHe2b2GF",
        "colab_type": "text"
      },
      "cell_type": "markdown",
      "source": [
        "(i) MSE + batch GD"
      ]
    },
    {
      "metadata": {
        "id": "A7EbkhbqYA12",
        "colab_type": "code",
        "outputId": "09350b92-6f0e-4fda-bb62-267b9be95678",
        "colab": {}
      },
      "cell_type": "code",
      "source": [
        "repeat_times = 1000\n",
        "x = np.linspace(-2, 2, S_Num)\n",
        "slopes = np.zeros(repeat_times)\n",
        "for i in range(repeat_times):\n",
        "    es = np.random.normal(Mean, Std, S_Num)\n",
        "    y_new = Slope * x + Inter + es\n",
        "    theta_init = [0,0]\n",
        "    batch = True\n",
        "    loss_func_name = 'MSE'\n",
        "    theta = optimizer_func(X, y_new, batch, theta_init, loss_func_name, alpha, max_iter)\n",
        "    slopes[i] = theta[1]\n",
        "    \n",
        "plt.hist(slopes)\n",
        "print(\"Mean: \", slopes.mean())\n",
        "print(\"Std: \", slopes.std())\n",
        "print(\"Min: \", slopes.min())\n",
        "print(\"25%: \", np.percentile(slopes, 25))\n",
        "print(\"50%: \", np.percentile(slopes, 50))\n",
        "print(\"75%: \", np.percentile(slopes, 75))\n",
        "print(\"Max: \", slopes.max())"
      ],
      "execution_count": 0,
      "outputs": [
        {
          "output_type": "stream",
          "text": [
            "Mean:  2.9929063597276144\n",
            "Std:  0.24063624985248958\n",
            "Min:  2.1775498330341754\n",
            "25%:  2.8360532327226653\n",
            "50%:  2.997445769235198\n",
            "75%:  3.148266198437699\n",
            "Max:  3.811166813831145\n"
          ],
          "name": "stdout"
        },
        {
          "output_type": "display_data",
          "data": {
            "image/png": "[encoded data removed]",
            "text/plain": [
              "<Figure size 432x288 with 1 Axes>"
            ]
          },
          "metadata": {
            "tags": [],
            "needs_background": "light"
          }
        }
      ]
    },
    {
      "metadata": {
        "id": "SC7_2v4LdhWe",
        "colab_type": "text"
      },
      "cell_type": "markdown",
      "source": [
        "(ii) MAE + batch GD"
      ]
    },
    {
      "metadata": {
        "id": "41WFEeqTYA1-",
        "colab_type": "code",
        "outputId": "643f4693-ba7c-4487-d44f-b5e2082ef870",
        "colab": {}
      },
      "cell_type": "code",
      "source": [
        "repeat_times = 1000\n",
        "x = np.linspace(-2, 2, S_Num)\n",
        "slopes = np.zeros(repeat_times)\n",
        "for i in range(repeat_times):\n",
        "    es = np.random.normal(Mean, Std, S_Num)\n",
        "    y_new = Slope * x + Inter + es\n",
        "    theta_init = [0,0]\n",
        "    batch = True\n",
        "    loss_func_name = 'MAE'\n",
        "    theta = optimizer_func(X, y_new, batch, theta_init, loss_func_name, alpha, max_iter)\n",
        "    slopes[i] = theta[1]\n",
        "    \n",
        "plt.hist(slopes)\n",
        "print(\"Mean: \", slopes.mean())\n",
        "print(\"Std: \", slopes.std())\n",
        "print(\"Min: \", slopes.min())\n",
        "print(\"25%: \", np.percentile(slopes, 25))\n",
        "print(\"50%: \", np.percentile(slopes, 50))\n",
        "print(\"75%: \", np.percentile(slopes, 75))\n",
        "print(\"Max: \", slopes.max())"
      ],
      "execution_count": 0,
      "outputs": [
        {
          "output_type": "stream",
          "text": [
            "Mean:  2.934161028571428\n",
            "Std:  0.2878351466872439\n",
            "Min:  1.937485714285751\n",
            "25%:  2.744946938775511\n",
            "50%:  2.935077551020476\n",
            "75%:  3.136787755102039\n",
            "Max:  3.8650938775510735\n"
          ],
          "name": "stdout"
        },
        {
          "output_type": "display_data",
          "data": {
            "image/png": "[encoded data removed]",
            "text/plain": [
              "<Figure size 432x288 with 1 Axes>"
            ]
          },
          "metadata": {
            "tags": [],
            "needs_background": "light"
          }
        }
      ]
    },
    {
      "metadata": {
        "id": "evZd_P6WdnM1",
        "colab_type": "text"
      },
      "cell_type": "markdown",
      "source": [
        "(iii) Huber loss + batch GD"
      ]
    },
    {
      "metadata": {
        "id": "hgVZUg62YA2H",
        "colab_type": "code",
        "outputId": "c0bacbcf-3fa2-454f-d5be-80f68ce3f9a3",
        "colab": {}
      },
      "cell_type": "code",
      "source": [
        "repeat_times = 1000\n",
        "x = np.linspace(-2, 2, S_Num)\n",
        "slopes = np.zeros(repeat_times)\n",
        "for i in range(repeat_times):\n",
        "    es = np.random.normal(Mean, Std, S_Num)\n",
        "    y_new = Slope * x + Inter + es\n",
        "    theta_init = [0,0]\n",
        "    batch = True\n",
        "    loss_func_name = 'Huber'\n",
        "    theta = optimizer_func(X, y_new, batch, theta_init, loss_func_name, alpha, max_iter, delta = 2.5)\n",
        "    slopes[i] = theta[1]\n",
        "    \n",
        "plt.hist(slopes)\n",
        "print(\"Mean: \", slopes.mean())\n",
        "print(\"Std: \", slopes.std())\n",
        "print(\"Min: \", slopes.min())\n",
        "print(\"25%: \", np.percentile(slopes, 25))\n",
        "print(\"50%: \", np.percentile(slopes, 50))\n",
        "print(\"75%: \", np.percentile(slopes, 75))\n",
        "print(\"Max: \", slopes.max())"
      ],
      "execution_count": 0,
      "outputs": [
        {
          "output_type": "stream",
          "text": [
            "Mean:  2.9847789644180076\n",
            "Std:  0.2424340408481533\n",
            "Min:  1.8987893795383253\n",
            "25%:  2.8234893887429164\n",
            "50%:  2.977145765959535\n",
            "75%:  3.1386318070211576\n",
            "Max:  4.046692509254027\n"
          ],
          "name": "stdout"
        },
        {
          "output_type": "display_data",
          "data": {
            "image/png": "[encoded data removed]",
            "text/plain": [
              "<Figure size 432x288 with 1 Axes>"
            ]
          },
          "metadata": {
            "tags": [],
            "needs_background": "light"
          }
        }
      ]
    },
    {
      "metadata": {
        "id": "Rzeudz-nYA2P",
        "colab_type": "text"
      },
      "cell_type": "markdown",
      "source": [
        "#### (e) Simulate N=50 values of X i , distributed Uniformly on interval (-2,2). Simulate the values of Y i = 2 + 3X i + e i , where e i is drawn from N (0, 4). Modify the simulated values of Y to introduce outliers, as follows. With probability 0.1, select an observation for modification. If it is selected, increase its value by 50% with probability 0.5, and decrease its value by 50% with probability 0.5. Fit linear regression to the modified data, with (i) squared loss with the analytical solution, (ii) mean absolute error with gradient descent, and (iii) Huber loss with gradient descent implemented in Question 4. Set learning rate α to a small value (say, α = 0.01)."
      ]
    },
    {
      "metadata": {
        "id": "EzXij9fYYA2Q",
        "colab_type": "code",
        "outputId": "0298b01e-c6f7-4406-c4c9-411391dcf59d",
        "colab": {}
      },
      "cell_type": "code",
      "source": [
        "## Creating data\n",
        "from math import ceil, floor\n",
        "S_Num = 50\n",
        "Slope = 3\n",
        "Inter = 2\n",
        "Mean = 0\n",
        "Std = 2\n",
        "#rng = np.random.RandomState(42)\n",
        "#x = 10 * rng.rand(S_Num)\n",
        "es = np.random.normal(Mean, Std, S_Num)\n",
        "x = np.linspace(-2, 2, S_Num)\n",
        "order = np.array(range(S_Num))\n",
        "shuffle(order)\n",
        "picked_idx_front = order[0:floor(0.1*S_Num/2)]\n",
        "picked_idx_back = order[floor(0.1*S_Num/2):round(0.1*S_Num)]\n",
        "y2 = Slope * x + Inter + es\n",
        "for idx in picked_idx_front:\n",
        "    y2[idx] *= 1.5\n",
        "for idx in picked_idx_back:\n",
        "    y2[idx] *= 0.5\n",
        "plt.scatter(x, y)"
      ],
      "execution_count": 0,
      "outputs": [
        {
          "output_type": "execute_result",
          "data": {
            "text/plain": [
              "<matplotlib.collections.PathCollection at 0x7f92853bacc0>"
            ]
          },
          "metadata": {
            "tags": []
          },
          "execution_count": 21
        },
        {
          "output_type": "display_data",
          "data": {
            "image/png": "[encoded data removed]",
            "text/plain": [
              "<Figure size 432x288 with 1 Axes>"
            ]
          },
          "metadata": {
            "tags": [],
            "needs_background": "light"
          }
        }
      ]
    },
    {
      "metadata": {
        "id": "7giqebzud_-t",
        "colab_type": "text"
      },
      "cell_type": "markdown",
      "source": [
        "(i) MSE with analytical solution"
      ]
    },
    {
      "metadata": {
        "id": "Kq6OgG4IYA2X",
        "colab_type": "code",
        "outputId": "65fad7d3-657c-413b-cec9-82aab641d40e",
        "colab": {}
      },
      "cell_type": "code",
      "source": [
        "theta = analytic_solu(x, y2, S_Num)\n",
        "print(\"parameters:\\n\" + \"Intercept: \" + str(theta[0]) + '\\n' + \"Slope: \" + str(theta[1]))"
      ],
      "execution_count": 0,
      "outputs": [
        {
          "output_type": "stream",
          "text": [
            "parameters:\n",
            "Intercept: 2.4017730217120916\n",
            "Slope: 2.9960576338408598\n"
          ],
          "name": "stdout"
        }
      ]
    },
    {
      "metadata": {
        "id": "Yo0WfgSNeFXY",
        "colab_type": "text"
      },
      "cell_type": "markdown",
      "source": [
        "(ii) MAE + batch GD"
      ]
    },
    {
      "metadata": {
        "id": "-l5z5QxhYA2d",
        "colab_type": "code",
        "outputId": "21ba7e87-47f4-4658-f105-abb0c3ca46fe",
        "colab": {}
      },
      "cell_type": "code",
      "source": [
        "alpha = 0.01\n",
        "max_iter = 1000\n",
        "theta_init = [0,0]\n",
        "batch = True             # batch = False, is stochastic GD\n",
        "loss_func_name = 'MAE'   # Here I use Mean Absolute Error as loss function\n",
        "theta = optimizer_func(X, y2, batch, theta_init, loss_func_name, alpha, max_iter)\n",
        "print(\"parameters:\\n\" + \"Intercept: \" + str(theta[0]) + '\\n' + \"Slope: \" + str(theta[1]))"
      ],
      "execution_count": 0,
      "outputs": [
        {
          "output_type": "stream",
          "text": [
            "parameters:\n",
            "Intercept: 2.1951999999999843\n",
            "Slope: 2.936261224489838\n"
          ],
          "name": "stdout"
        }
      ]
    },
    {
      "metadata": {
        "id": "QaYPuWeueHoM",
        "colab_type": "text"
      },
      "cell_type": "markdown",
      "source": [
        "(iii) Huber loss + batch GD"
      ]
    },
    {
      "metadata": {
        "id": "9UqjDRJhYA2k",
        "colab_type": "code",
        "outputId": "b6b74288-3a9e-4a1b-b588-08e4c08f216c",
        "colab": {}
      },
      "cell_type": "code",
      "source": [
        "alpha = 0.01\n",
        "max_iter = 1000\n",
        "theta_init = [0,0]\n",
        "batch = True              # batch = False, is stochastic GD\n",
        "delta = 2.5               # adjusible delta\n",
        "loss_func_name = 'Huber'  # Here I use Huber Loss as loss function\n",
        "theta = optimizer_func(X, y2, batch, theta_init, loss_func_name, alpha, max_iter, delta)\n",
        "print(\"parameters:\\n\" + \"Intercept: \" + str(theta[0]) + '\\n' + \"Slope: \" + str(theta[1]))"
      ],
      "execution_count": 0,
      "outputs": [
        {
          "output_type": "stream",
          "text": [
            "parameters:\n",
            "Intercept: 2.4875150285962127\n",
            "Slope: 3.0550047174952684\n"
          ],
          "name": "stdout"
        }
      ]
    },
    {
      "metadata": {
        "id": "egf3mlP0ePUL",
        "colab_type": "text"
      },
      "cell_type": "markdown",
      "source": [
        "Linear Regression model from sklearn"
      ]
    },
    {
      "metadata": {
        "id": "lon2BxmcYA2r",
        "colab_type": "code",
        "outputId": "d9800c2f-0ca3-4a66-e32b-84e6863289c7",
        "colab": {}
      },
      "cell_type": "code",
      "source": [
        "from sklearn.linear_model import LinearRegression\n",
        "model = LinearRegression(fit_intercept = True)\n",
        "X_new = x[:, np.newaxis]\n",
        "model.fit(X,y2)\n",
        "print(model.coef_, model.intercept_)"
      ],
      "execution_count": 0,
      "outputs": [
        {
          "output_type": "stream",
          "text": [
            "[0.         2.99605763] 2.4017730217120925\n"
          ],
          "name": "stdout"
        }
      ]
    },
    {
      "metadata": {
        "id": "9v6eFKsDYA2v",
        "colab_type": "text"
      },
      "cell_type": "markdown",
      "source": [
        "#### (f) Repeat (e) 1,000 times, overlay the histograms of the estimates of the slopes, and overlay the true value. Comment on how the choice of the loss function in presence of outliers affects the estimates of the slope parameter."
      ]
    },
    {
      "metadata": {
        "id": "yB-JbatgYA3C",
        "colab_type": "text"
      },
      "cell_type": "markdown",
      "source": [
        "#### Answer:\n",
        "#### The result shows that both loss functions are converged, but Huber loss function has higher quality for its linear regression result (because it has smaller standard deviation than MAE has). This result provides the simliar idea mentioned in question 5(b), the parameters variance is smaller when we use Huber or MSE as a loss function."
      ]
    },
    {
      "metadata": {
        "id": "hbslmN0PeluF",
        "colab_type": "text"
      },
      "cell_type": "markdown",
      "source": [
        "Remind: Designed slope = 3.0, intercept = 2.0"
      ]
    },
    {
      "metadata": {
        "id": "7giWDwOZecGK",
        "colab_type": "text"
      },
      "cell_type": "markdown",
      "source": [
        "(i) MAE + batch GD"
      ]
    },
    {
      "metadata": {
        "id": "aTFHzsyMYA2w",
        "colab_type": "code",
        "outputId": "38064424-712d-49de-ec39-819ebc8d8589",
        "colab": {}
      },
      "cell_type": "code",
      "source": [
        "repeat_times = 1000\n",
        "x = np.linspace(-2, 2, S_Num)\n",
        "slopes = np.zeros(repeat_times)\n",
        "for i in range(repeat_times):\n",
        "    es = np.random.normal(Mean, Std, S_Num)\n",
        "    order = np.array(range(S_Num))\n",
        "    shuffle(order)\n",
        "    picked_idx_front = order[0:floor(0.1*S_Num/2)]\n",
        "    picked_idx_back = order[floor(0.1*S_Num/2):round(0.1*S_Num)]\n",
        "    y_new2 = Slope * x + Inter + es\n",
        "    for idx in picked_idx_front:\n",
        "        y_new2[idx] *= 1.5\n",
        "    for idx in picked_idx_back:\n",
        "        y_new2[idx] *= 0.5\n",
        "    theta_init = [0,0]\n",
        "    batch = True\n",
        "    loss_func_name = 'MAE'\n",
        "    theta = optimizer_func(X, y_new2, batch, theta_init, loss_func_name, alpha, max_iter)\n",
        "    slopes[i] = theta[1]\n",
        "    \n",
        "plt.hist(slopes)\n",
        "print(\"Mean: \", slopes.mean())\n",
        "print(\"Std: \", slopes.std())\n",
        "print(\"Min: \", slopes.min())\n",
        "print(\"25%: \", np.percentile(slopes, 25))\n",
        "print(\"50%: \", np.percentile(slopes, 50))\n",
        "print(\"75%: \", np.percentile(slopes, 75))\n",
        "print(\"Max: \", slopes.max())"
      ],
      "execution_count": 0,
      "outputs": [
        {
          "output_type": "stream",
          "text": [
            "Mean:  2.861802155102041\n",
            "Std:  0.2922568804220398\n",
            "Min:  1.9129469387755063\n",
            "25%:  2.669424489795886\n",
            "50%:  2.863257142857187\n",
            "75%:  3.058008163265322\n",
            "Max:  3.8480816326530687\n"
          ],
          "name": "stdout"
        },
        {
          "output_type": "display_data",
          "data": {
            "image/png": "[encoded data removed]",
            "text/plain": [
              "<Figure size 432x288 with 1 Axes>"
            ]
          },
          "metadata": {
            "tags": [],
            "needs_background": "light"
          }
        }
      ]
    },
    {
      "metadata": {
        "id": "UxbirrZkenyn",
        "colab_type": "text"
      },
      "cell_type": "markdown",
      "source": [
        "(ii) Huber loss + batch GD"
      ]
    },
    {
      "metadata": {
        "id": "BVUuOEIxYA25",
        "colab_type": "code",
        "outputId": "dc5cc535-e0ad-49df-eaa5-ce15ddd73990",
        "colab": {}
      },
      "cell_type": "code",
      "source": [
        "repeat_times = 1000\n",
        "x = np.linspace(-2, 2, S_Num)\n",
        "slopes = np.zeros(repeat_times)\n",
        "for i in range(repeat_times):\n",
        "    es = np.random.normal(Mean, Std, S_Num)\n",
        "    order = np.array(range(S_Num))\n",
        "    shuffle(order)\n",
        "    picked_idx_front = order[0:floor(0.1*S_Num/2)]\n",
        "    picked_idx_back = order[floor(0.1*S_Num/2):round(0.1*S_Num)]\n",
        "    y_new2 = Slope * x + Inter + es\n",
        "    for idx in picked_idx_front:\n",
        "        y_new2[idx] *= 1.5\n",
        "    for idx in picked_idx_back:\n",
        "        y_new2[idx] *= 0.5\n",
        "    theta_init = [0,0]\n",
        "    batch = True\n",
        "    loss_func_name = 'Huber'\n",
        "    theta = optimizer_func(X, y_new2, batch, theta_init, loss_func_name, alpha, max_iter, delta = 2.5)\n",
        "    slopes[i] = theta[1]\n",
        "    \n",
        "plt.hist(slopes)\n",
        "print(\"Mean: \", slopes.mean())\n",
        "print(\"Std: \", slopes.std())\n",
        "print(\"Min: \", slopes.min())\n",
        "print(\"25%: \", np.percentile(slopes, 25))\n",
        "print(\"50%: \", np.percentile(slopes, 50))\n",
        "print(\"75%: \", np.percentile(slopes, 75))\n",
        "print(\"Max: \", slopes.max())"
      ],
      "execution_count": 0,
      "outputs": [
        {
          "output_type": "stream",
          "text": [
            "Mean:  2.960657258133352\n",
            "Std:  0.2548702311493833\n",
            "Min:  2.225805575915907\n",
            "25%:  2.781674882510974\n",
            "50%:  2.9615389238697967\n",
            "75%:  3.1358115282521526\n",
            "Max:  3.6672385549942215\n"
          ],
          "name": "stdout"
        },
        {
          "output_type": "display_data",
          "data": {
            "image/png": "[encoded data removed]",
            "text/plain": [
              "<Figure size 432x288 with 1 Axes>"
            ]
          },
          "metadata": {
            "tags": [],
            "needs_background": "light"
          }
        }
      ]
    }
  ]
}
