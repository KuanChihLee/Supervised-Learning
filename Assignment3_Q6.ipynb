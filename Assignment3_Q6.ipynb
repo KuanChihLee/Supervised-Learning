{
  "nbformat": 4,
  "nbformat_minor": 0,
  "metadata": {
    "colab": {
      "name": "Assignment3-Q6.ipynb",
      "version": "0.3.2",
      "provenance": [],
      "collapsed_sections": [],
      "include_colab_link": true
    },
    "kernelspec": {
      "display_name": "Python 3",
      "language": "python",
      "name": "python3"
    }
  },
  "cells": [
    {
      "cell_type": "markdown",
      "metadata": {
        "id": "view-in-github",
        "colab_type": "text"
      },
      "source": [
        "<a href=\"https://colab.research.google.com/github/KuanChihLee/Supervised-Learning/blob/master/Assignment3_Q6.ipynb\" target=\"_parent\"><img src=\"https://colab.research.google.com/assets/colab-badge.svg\" alt=\"Open In Colab\"/></a>"
      ]
    },
    {
      "metadata": {
        "id": "phy5stg378XJ",
        "colab_type": "text"
      },
      "cell_type": "markdown",
      "source": [
        "## This assignment section implement a classification case study. The goal is to predict which companies attract venture capital funding by a given dataset about 482 initial public offerings (IPOs) of private companies."
      ]
    },
    {
      "metadata": {
        "id": "AJypjRgy76XE",
        "colab_type": "code",
        "outputId": "3914aa64-787a-4274-96e1-809bbed2066c",
        "colab": {
          "base_uri": "https://localhost:8080/",
          "height": 206
        }
      },
      "cell_type": "code",
      "source": [
        "%matplotlib inline\n",
        "import matplotlib.pyplot as plt\n",
        "plt.style.use('seaborn-whitegrid')\n",
        "import numpy as np\n",
        "import pandas as pd\n",
        "from sklearn.linear_model import LogisticRegression\n",
        "from sklearn.discriminant_analysis import LinearDiscriminantAnalysis\n",
        "from sklearn.metrics import roc_curve, auc\n",
        "from sklearn.feature_selection import SelectFromModel\n",
        "from sklearn.model_selection import GridSearchCV\n",
        "from sklearn import preprocessing\n",
        "from sklearn.metrics import accuracy_score\n",
        "\n",
        "from sklearn.feature_extraction import DictVectorizer\n",
        "\n",
        "# Saving TXT file to CSV file\n",
        "import csv\n",
        "import sys\n",
        "\n",
        "txt_file = \"./hw3_dataset.txt\"\n",
        "csv_file = \"./IPO_dataset.csv\"\n",
        "\n",
        "with open(txt_file, \"rt\") as fin:\n",
        "    lines = fin.readlines()\n",
        "    data = [line.split() for line in lines]        \n",
        "    \n",
        "with open(csv_file, 'wt') as fout:\n",
        "    out_csv = csv.writer(fout)\n",
        "    out_csv.writerows(data)\n",
        "    \n",
        "# Saving CSV file to dataframe\n",
        "df_IPO = pd.read_csv(csv_file, names=['ID', 'Venture_Fund', 'Face_Value', 'Offer_shares', 'Lev_Buyout'])\n",
        "df_IPO.head()"
      ],
      "execution_count": 0,
      "outputs": [
        {
          "output_type": "execute_result",
          "data": {
            "text/html": [
              "<div>\n",
              "<style scoped>\n",
              "    .dataframe tbody tr th:only-of-type {\n",
              "        vertical-align: middle;\n",
              "    }\n",
              "\n",
              "    .dataframe tbody tr th {\n",
              "        vertical-align: top;\n",
              "    }\n",
              "\n",
              "    .dataframe thead th {\n",
              "        text-align: right;\n",
              "    }\n",
              "</style>\n",
              "<table border=\"1\" class=\"dataframe\">\n",
              "  <thead>\n",
              "    <tr style=\"text-align: right;\">\n",
              "      <th></th>\n",
              "      <th>ID</th>\n",
              "      <th>Venture_Fund</th>\n",
              "      <th>Face_Value</th>\n",
              "      <th>Offer_shares</th>\n",
              "      <th>Lev_Buyout</th>\n",
              "    </tr>\n",
              "  </thead>\n",
              "  <tbody>\n",
              "    <tr>\n",
              "      <th>0</th>\n",
              "      <td>1</td>\n",
              "      <td>0</td>\n",
              "      <td>1200000</td>\n",
              "      <td>3000000</td>\n",
              "      <td>0</td>\n",
              "    </tr>\n",
              "    <tr>\n",
              "      <th>1</th>\n",
              "      <td>2</td>\n",
              "      <td>0</td>\n",
              "      <td>1454000</td>\n",
              "      <td>1454000</td>\n",
              "      <td>1</td>\n",
              "    </tr>\n",
              "    <tr>\n",
              "      <th>2</th>\n",
              "      <td>3</td>\n",
              "      <td>0</td>\n",
              "      <td>1500000</td>\n",
              "      <td>300000</td>\n",
              "      <td>0</td>\n",
              "    </tr>\n",
              "    <tr>\n",
              "      <th>3</th>\n",
              "      <td>4</td>\n",
              "      <td>0</td>\n",
              "      <td>1530000</td>\n",
              "      <td>510000</td>\n",
              "      <td>0</td>\n",
              "    </tr>\n",
              "    <tr>\n",
              "      <th>4</th>\n",
              "      <td>5</td>\n",
              "      <td>0</td>\n",
              "      <td>2000000</td>\n",
              "      <td>800000</td>\n",
              "      <td>0</td>\n",
              "    </tr>\n",
              "  </tbody>\n",
              "</table>\n",
              "</div>"
            ],
            "text/plain": [
              "   ID  Venture_Fund  Face_Value  Offer_shares  Lev_Buyout\n",
              "0   1             0     1200000       3000000           0\n",
              "1   2             0     1454000       1454000           1\n",
              "2   3             0     1500000        300000           0\n",
              "3   4             0     1530000        510000           0\n",
              "4   5             0     2000000        800000           0"
            ]
          },
          "metadata": {
            "tags": []
          },
          "execution_count": 7
        }
      ]
    },
    {
      "metadata": {
        "id": "-GwfXYLO76Xu",
        "colab_type": "text"
      },
      "cell_type": "markdown",
      "source": [
        "## Problem 6"
      ]
    },
    {
      "metadata": {
        "id": "4THfNhMJ76Xz",
        "colab_type": "text"
      },
      "cell_type": "markdown",
      "source": [
        "#### Split data into different datasets"
      ]
    },
    {
      "metadata": {
        "id": "taLwPqIk76X6",
        "colab_type": "code",
        "outputId": "d8eb96a6-efa7-4689-f5a6-ba08c668a16f",
        "colab": {
          "base_uri": "https://localhost:8080/",
          "height": 72
        }
      },
      "cell_type": "code",
      "source": [
        "Train = df_IPO.sample(frac=0.3333, random_state=20)\n",
        "df_IPO = df_IPO.drop(Train.index)\n",
        "Dev = df_IPO.sample(frac=0.5, random_state=20)\n",
        "Eval = df_IPO.drop(Dev.index)\n",
        "\n",
        "del Train['ID']\n",
        "del Dev['ID']\n",
        "del Eval['ID']\n",
        "print(\"Train size:\", Train.shape)\n",
        "print(\"Dev size:\",Dev.shape)\n",
        "print(\"Eval size:\",Eval.shape)"
      ],
      "execution_count": 0,
      "outputs": [
        {
          "output_type": "stream",
          "text": [
            "Train size: (161, 4)\n",
            "Dev size: (160, 4)\n",
            "Eval size: (161, 4)\n"
          ],
          "name": "stdout"
        }
      ]
    },
    {
      "metadata": {
        "id": "NXQ7r-g_76YP",
        "colab_type": "text"
      },
      "cell_type": "markdown",
      "source": [
        "#### Test the performance of raw data"
      ]
    },
    {
      "metadata": {
        "id": "d0vd9abb76Yf",
        "colab_type": "code",
        "colab": {}
      },
      "cell_type": "code",
      "source": [
        "X_train = Train.drop(['Venture_Fund'], axis=1).values\n",
        "y_train = Train.Venture_Fund.values\n",
        "\n",
        "X_dev = Dev.drop(['Venture_Fund'], axis=1).values\n",
        "y_dev = Dev.Venture_Fund.values"
      ],
      "execution_count": 0,
      "outputs": []
    },
    {
      "metadata": {
        "id": "iqJdDC9I76ZA",
        "colab_type": "code",
        "outputId": "a990be04-5e06-4a28-e2f5-6c10aa120352",
        "colab": {
          "base_uri": "https://localhost:8080/",
          "height": 294
        }
      },
      "cell_type": "code",
      "source": [
        "model = LogisticRegression(solver='liblinear', max_iter=1000, fit_intercept=False)\n",
        "y_score = model.fit(X_train, y_train).decision_function(X_dev)\n",
        "fpr, tpr, _ = roc_curve(y_dev, y_score)\n",
        "roc_auc = auc(fpr, tpr)\n",
        "\n",
        "plt.figure()\n",
        "plt.plot(fpr, tpr, label='ROC curve (area = %0.2f)' % roc_auc)\n",
        "plt.plot([0, 1], [0, 1], 'k--')\n",
        "plt.xlim([0.0, 1.0])\n",
        "plt.ylim([0.0, 1.05])\n",
        "plt.xlabel('False Positive Rate')\n",
        "plt.ylabel('True Positive Rate')\n",
        "plt.title('Receiver operating characteristic example')\n",
        "plt.legend(loc=\"lower right\")\n",
        "plt.show()"
      ],
      "execution_count": 0,
      "outputs": [
        {
          "output_type": "display_data",
          "data": {
            "image/png": "[encoded data removed]",
            "text/plain": [
              "<Figure size 432x288 with 1 Axes>"
            ]
          },
          "metadata": {
            "tags": []
          }
        }
      ]
    },
    {
      "metadata": {
        "id": "FhPNiXa276ZR",
        "colab_type": "code",
        "outputId": "b584f927-2735-4f48-a165-04760f577222",
        "colab": {
          "base_uri": "https://localhost:8080/",
          "height": 163
        }
      },
      "cell_type": "code",
      "source": [
        "model_logis = LogisticRegression(solver='liblinear', max_iter=1000, fit_intercept=False).fit(X_train, y_train)\n",
        "model_LDA = LinearDiscriminantAnalysis(solver='svd').fit(X_train, y_train)\n",
        "\n",
        "y_pred_train_logis = model_logis.predict(X_train)\n",
        "y_pred_train_LDA = model_LDA.predict(X_train)\n",
        "y_pred_dev_logis = model_logis.predict(X_dev)\n",
        "y_pred_dev_LDA = model_LDA.predict(X_dev)\n",
        "\n",
        "accur_train_logis = accuracy_score(y_train, y_pred_train_logis)\n",
        "accur_train_LDA = accuracy_score(y_train, y_pred_train_LDA)\n",
        "accur_dev_logis = accuracy_score(y_dev, y_pred_dev_logis)\n",
        "accur_dev_LDA = accuracy_score(y_dev, y_pred_dev_LDA)\n",
        "\n",
        "print('Logis Train Accuracy %s \\n' % (accur_train_logis))\n",
        "print('LDA Train Accuracy %s \\n' % (accur_train_LDA))\n",
        "print('Logis Dev Accuracy %s \\n' % (accur_dev_logis))\n",
        "print('LDA Dev Accuracy %s \\n' % (accur_dev_LDA))"
      ],
      "execution_count": 0,
      "outputs": [
        {
          "output_type": "stream",
          "text": [
            "Logis Train Accuracy 0.453416149068323 \n",
            "\n",
            "LDA Train Accuracy 0.5590062111801242 \n",
            "\n",
            "Logis Dev Accuracy 0.44375 \n",
            "\n",
            "LDA Dev Accuracy 0.53125 \n",
            "\n"
          ],
          "name": "stdout"
        }
      ]
    },
    {
      "metadata": {
        "id": "m3cDYiNZ76Za",
        "colab_type": "text"
      },
      "cell_type": "markdown",
      "source": [
        "### Statistics summary"
      ]
    },
    {
      "metadata": {
        "id": "Zd5MxQYs76Zk",
        "colab_type": "text"
      },
      "cell_type": "markdown",
      "source": [
        "#### One-variable summary"
      ]
    },
    {
      "metadata": {
        "id": "AeALu3FW76Z0",
        "colab_type": "code",
        "outputId": "a618827b-3316-4d1e-b837-8fc52c06c3aa",
        "colab": {
          "base_uri": "https://localhost:8080/",
          "height": 311
        }
      },
      "cell_type": "code",
      "source": [
        "fig, ax = plt.subplots(figsize=(15, 4))\n",
        "fig.subplots_adjust(wspace=0.5)\n",
        "\n",
        "plt.subplot(1, 4, 1)\n",
        "Train.Venture_Fund.hist()\n",
        "plt.title(\"Venture Fund\")\n",
        "\n",
        "plt.subplot(1, 4, 2)\n",
        "Train.Face_Value.hist()\n",
        "plt.title(\"Face Value of Company\")\n",
        "\n",
        "plt.subplot(1, 4, 3)\n",
        "Train.Offer_shares.hist()\n",
        "plt.title(\"Number of shares offered\")\n",
        "\n",
        "plt.subplot(1, 4, 4)\n",
        "Train.Lev_Buyout.hist()\n",
        "plt.title(\"Leveraged Buyout\")"
      ],
      "execution_count": 0,
      "outputs": [
        {
          "output_type": "execute_result",
          "data": {
            "text/plain": [
              "Text(0.5, 1.0, 'Leveraged Buyout')"
            ]
          },
          "metadata": {
            "tags": []
          },
          "execution_count": 12
        },
        {
          "output_type": "display_data",
          "data": {
            "image/png": "[encoded data removed]",
            "text/plain": [
              "<Figure size 1080x288 with 4 Axes>"
            ]
          },
          "metadata": {
            "tags": []
          }
        }
      ]
    },
    {
      "metadata": {
        "id": "RAOyBp6w76aG",
        "colab_type": "text"
      },
      "cell_type": "markdown",
      "source": [
        "Face value of company and Number of shares offered are skewed, which means the data in these two predictors are unbalanced spread. We learned using **log transformatio**n to handle the skewness. "
      ]
    },
    {
      "metadata": {
        "id": "bJq0n0qS76aK",
        "colab_type": "code",
        "outputId": "33228b37-bb28-4ea0-9128-f39cbf992465",
        "colab": {
          "base_uri": "https://localhost:8080/",
          "height": 298
        }
      },
      "cell_type": "code",
      "source": [
        "# Applying log(x+1) transformation to all the splits\n",
        "Train.Face_Value = np.log1p(Train.Face_Value)\n",
        "Train.Offer_shares = np.log1p(Train.Offer_shares)\n",
        "\n",
        "Dev.Face_Value = np.log1p(Dev.Face_Value)\n",
        "Dev.Offer_shares = np.log1p(Dev.Offer_shares)\n",
        "\n",
        "Eval.Face_Value = np.log1p(Eval.Face_Value)\n",
        "Eval.Offer_shares = np.log1p(Eval.Offer_shares)\n",
        "\n",
        "fig, ax = plt.subplots(figsize=(8, 4))\n",
        "fig.subplots_adjust(wspace=0.5)\n",
        "plt.subplot(1, 2, 1)\n",
        "Train.Face_Value.hist()\n",
        "plt.title(\"Face Value of Company\")\n",
        "\n",
        "plt.subplot(1, 2, 2)\n",
        "Train.Offer_shares.hist()\n",
        "plt.title(\"Number of shares offered\")"
      ],
      "execution_count": 0,
      "outputs": [
        {
          "output_type": "execute_result",
          "data": {
            "text/plain": [
              "Text(0.5, 1.0, 'Number of shares offered')"
            ]
          },
          "metadata": {
            "tags": []
          },
          "execution_count": 13
        },
        {
          "output_type": "display_data",
          "data": {
            "image/png": "[encoded data removed]",
            "text/plain": [
              "<Figure size 576x288 with 2 Axes>"
            ]
          },
          "metadata": {
            "tags": []
          }
        }
      ]
    },
    {
      "metadata": {
        "id": "EUnA076a76am",
        "colab_type": "text"
      },
      "cell_type": "markdown",
      "source": [
        "#### Two-variables summary"
      ]
    },
    {
      "metadata": {
        "id": "S8UXTyb_76au",
        "colab_type": "text"
      },
      "cell_type": "markdown",
      "source": [
        "We're interested in the relationship between the target, verture funding, and other variables. "
      ]
    },
    {
      "metadata": {
        "id": "DDFNc5v676a2",
        "colab_type": "code",
        "outputId": "e7314a32-6fe8-40c1-9b95-5c33e0ae2199",
        "colab": {
          "base_uri": "https://localhost:8080/",
          "height": 338
        }
      },
      "cell_type": "code",
      "source": [
        "import seaborn as sns; sns.set()\n",
        "corr = Train.corr()\n",
        "\n",
        "# Generate a mask for the upper triangle\n",
        "mask = np.zeros_like(corr, dtype=np.bool)\n",
        "mask[np.triu_indices_from(mask)] = True\n",
        "\n",
        "# Set up the matplotlib figure\n",
        "f, ax = plt.subplots(figsize=(8, 5))\n",
        "\n",
        "# Generate a custom diverging colormap\n",
        "cmap = sns.diverging_palette(220, 10, as_cmap=True)\n",
        "\n",
        "# Draw the heatmap with the mask and correct aspect ratio\n",
        "sns.heatmap(corr, mask=mask, cmap=cmap, center=0,\n",
        "            square=True, linewidths=.5, cbar_kws={\"shrink\": .5})"
      ],
      "execution_count": 0,
      "outputs": [
        {
          "output_type": "execute_result",
          "data": {
            "text/plain": [
              "<matplotlib.axes._subplots.AxesSubplot at 0x7fc8ed5d4668>"
            ]
          },
          "metadata": {
            "tags": []
          },
          "execution_count": 14
        },
        {
          "output_type": "display_data",
          "data": {
            "image/png": "[encoded data removed]",
            "text/plain": [
              "<Figure size 576x360 with 2 Axes>"
            ]
          },
          "metadata": {
            "tags": []
          }
        }
      ]
    },
    {
      "metadata": {
        "id": "eF3Y8orK76bB",
        "colab_type": "code",
        "outputId": "901007af-8fd4-407f-de08-80475d648067",
        "colab": {
          "base_uri": "https://localhost:8080/",
          "height": 340
        }
      },
      "cell_type": "code",
      "source": [
        "plot = pd.plotting.scatter_matrix(Train[['Venture_Fund', 'Face_Value', 'Offer_shares', 'Lev_Buyout']],\n",
        "                                  alpha=0.2, figsize=(5,5))"
      ],
      "execution_count": 0,
      "outputs": [
        {
          "output_type": "display_data",
          "data": {
            "image/png": "[encoded data removed]",
            "text/plain": [
              "<Figure size 360x360 with 16 Axes>"
            ]
          },
          "metadata": {
            "tags": []
          }
        }
      ]
    },
    {
      "metadata": {
        "id": "xbeGrMj976bO",
        "colab_type": "text"
      },
      "cell_type": "markdown",
      "source": [
        "It looks that there is no strong correlation between Venture funding and other variables, but Face value of company and Number of shares offered have very strong relationship to each other. "
      ]
    },
    {
      "metadata": {
        "id": "qL7e5iMY76bU",
        "colab_type": "code",
        "outputId": "02757cc5-d383-44e0-ecda-0898edd51432",
        "colab": {
          "base_uri": "https://localhost:8080/",
          "height": 339
        }
      },
      "cell_type": "code",
      "source": [
        "ax = Train.drop(['Venture_Fund', 'Lev_Buyout'], axis=1).boxplot(figsize=(8,5), rot=20)"
      ],
      "execution_count": 0,
      "outputs": [
        {
          "output_type": "display_data",
          "data": {
            "image/png": "[encoded data removed]",
            "text/plain": [
              "<Figure size 576x360 with 1 Axes>"
            ]
          },
          "metadata": {
            "tags": []
          }
        }
      ]
    },
    {
      "metadata": {
        "id": "VpFUlrT576bm",
        "colab_type": "text"
      },
      "cell_type": "markdown",
      "source": [
        "There are almost no outliers in our dealed data, with log1p transform. Then, we start encoding categorical data into our training data."
      ]
    },
    {
      "metadata": {
        "id": "bN9DEQXY76bp",
        "colab_type": "text"
      },
      "cell_type": "markdown",
      "source": [
        "### One-Hot Encoder"
      ]
    },
    {
      "metadata": {
        "id": "epWgX9nb76bt",
        "colab_type": "code",
        "outputId": "0973ef6f-3915-4f41-b23d-ba3ec754af75",
        "colab": {
          "base_uri": "https://localhost:8080/",
          "height": 261
        }
      },
      "cell_type": "code",
      "source": [
        "def transform_categorized_feature(df, *argv):\n",
        "    df_IPO_features = df.drop([arg for arg in argv], axis=1)\n",
        "\n",
        "    Lev = ['LB'+str(i) for i in df.Lev_Buyout.values]\n",
        "    df_IPO_features['Lev_Buyout'] = Lev\n",
        "\n",
        "    return df_IPO_features\n",
        "\n",
        "Train_PreOneHot = transform_categorized_feature(Train, 'Lev_Buyout')\n",
        "vec = DictVectorizer(sparse=False, dtype=int)\n",
        "Train_OneHot = pd.DataFrame(vec.fit_transform(Train_PreOneHot.to_dict('records')), \n",
        "                                       columns=vec.get_feature_names())\n",
        "\n",
        "Dev_PreOneHot = transform_categorized_feature(Dev, 'Lev_Buyout')\n",
        "vec = DictVectorizer(sparse=False, dtype=int)\n",
        "Dev_OneHot = pd.DataFrame(vec.fit_transform(Dev_PreOneHot.to_dict('records')), \n",
        "                                       columns=vec.get_feature_names())\n",
        "\n",
        "Eval_PreOneHot = transform_categorized_feature(Eval, 'Lev_Buyout')\n",
        "vec = DictVectorizer(sparse=False, dtype=int)\n",
        "Eval_OneHot = pd.DataFrame(vec.fit_transform(Eval_PreOneHot.to_dict('records')), \n",
        "                                       columns=vec.get_feature_names())\n",
        "\n",
        "print(\"Train Shape: \", Train_OneHot.shape)\n",
        "print(\"Dev Shape: \", Dev_OneHot.shape)\n",
        "print(\"Eval Shape: \", Eval_OneHot.shape)\n",
        "Train_OneHot.head()"
      ],
      "execution_count": 0,
      "outputs": [
        {
          "output_type": "stream",
          "text": [
            "Train Shape:  (161, 5)\n",
            "Dev Shape:  (160, 5)\n",
            "Eval Shape:  (161, 5)\n"
          ],
          "name": "stdout"
        },
        {
          "output_type": "execute_result",
          "data": {
            "text/html": [
              "<div>\n",
              "<style scoped>\n",
              "    .dataframe tbody tr th:only-of-type {\n",
              "        vertical-align: middle;\n",
              "    }\n",
              "\n",
              "    .dataframe tbody tr th {\n",
              "        vertical-align: top;\n",
              "    }\n",
              "\n",
              "    .dataframe thead th {\n",
              "        text-align: right;\n",
              "    }\n",
              "</style>\n",
              "<table border=\"1\" class=\"dataframe\">\n",
              "  <thead>\n",
              "    <tr style=\"text-align: right;\">\n",
              "      <th></th>\n",
              "      <th>Face_Value</th>\n",
              "      <th>Lev_Buyout=LB0</th>\n",
              "      <th>Lev_Buyout=LB1</th>\n",
              "      <th>Offer_shares</th>\n",
              "      <th>Venture_Fund</th>\n",
              "    </tr>\n",
              "  </thead>\n",
              "  <tbody>\n",
              "    <tr>\n",
              "      <th>0</th>\n",
              "      <td>14</td>\n",
              "      <td>1</td>\n",
              "      <td>0</td>\n",
              "      <td>13</td>\n",
              "      <td>0</td>\n",
              "    </tr>\n",
              "    <tr>\n",
              "      <th>1</th>\n",
              "      <td>18</td>\n",
              "      <td>1</td>\n",
              "      <td>0</td>\n",
              "      <td>15</td>\n",
              "      <td>0</td>\n",
              "    </tr>\n",
              "    <tr>\n",
              "      <th>2</th>\n",
              "      <td>15</td>\n",
              "      <td>1</td>\n",
              "      <td>0</td>\n",
              "      <td>13</td>\n",
              "      <td>0</td>\n",
              "    </tr>\n",
              "    <tr>\n",
              "      <th>3</th>\n",
              "      <td>17</td>\n",
              "      <td>1</td>\n",
              "      <td>0</td>\n",
              "      <td>15</td>\n",
              "      <td>0</td>\n",
              "    </tr>\n",
              "    <tr>\n",
              "      <th>4</th>\n",
              "      <td>16</td>\n",
              "      <td>1</td>\n",
              "      <td>0</td>\n",
              "      <td>14</td>\n",
              "      <td>1</td>\n",
              "    </tr>\n",
              "  </tbody>\n",
              "</table>\n",
              "</div>"
            ],
            "text/plain": [
              "   Face_Value  Lev_Buyout=LB0  Lev_Buyout=LB1  Offer_shares  Venture_Fund\n",
              "0          14               1               0            13             0\n",
              "1          18               1               0            15             0\n",
              "2          15               1               0            13             0\n",
              "3          17               1               0            15             0\n",
              "4          16               1               0            14             1"
            ]
          },
          "metadata": {
            "tags": []
          },
          "execution_count": 17
        }
      ]
    },
    {
      "metadata": {
        "id": "QpFPoAb676b2",
        "colab_type": "text"
      },
      "cell_type": "markdown",
      "source": [
        "#### Checking no null values in datasets"
      ]
    },
    {
      "metadata": {
        "id": "JZmGhSdu76b4",
        "colab_type": "code",
        "outputId": "d061f58a-9c6c-450a-9037-8de0d4d34061",
        "colab": {
          "base_uri": "https://localhost:8080/",
          "height": 108
        }
      },
      "cell_type": "code",
      "source": [
        "for col in Train_OneHot:\n",
        "    print(col, ': \\tTrain: ', Train_OneHot[col].isnull().values.any(), \n",
        "          ' \\tDev: ', Dev_OneHot[col].isnull().values.any(), \n",
        "         ' \\tEval: ', Eval_OneHot[col].isnull().values.any())"
      ],
      "execution_count": 0,
      "outputs": [
        {
          "output_type": "stream",
          "text": [
            "Face_Value : \tTrain:  False  \tDev:  False  \tEval:  False\n",
            "Lev_Buyout=LB0 : \tTrain:  False  \tDev:  False  \tEval:  False\n",
            "Lev_Buyout=LB1 : \tTrain:  False  \tDev:  False  \tEval:  False\n",
            "Offer_shares : \tTrain:  False  \tDev:  False  \tEval:  False\n",
            "Venture_Fund : \tTrain:  False  \tDev:  False  \tEval:  False\n"
          ],
          "name": "stdout"
        }
      ]
    },
    {
      "metadata": {
        "id": "N4w4eCAt76cH",
        "colab_type": "text"
      },
      "cell_type": "markdown",
      "source": [
        "#### Testing performance after preprocessing (log transformation and one-hot encoder)"
      ]
    },
    {
      "metadata": {
        "id": "StPBphQ876cQ",
        "colab_type": "code",
        "colab": {}
      },
      "cell_type": "code",
      "source": [
        "X_train = Train_OneHot.drop('Venture_Fund', axis=1).values\n",
        "y_train = Train_OneHot.Venture_Fund.values\n",
        "\n",
        "X_dev = Dev_OneHot.drop('Venture_Fund', axis=1).values\n",
        "y_dev = Dev_OneHot.Venture_Fund.values"
      ],
      "execution_count": 0,
      "outputs": []
    },
    {
      "metadata": {
        "id": "dbLgG6g-76cY",
        "colab_type": "code",
        "outputId": "d46568f6-b443-4877-f802-7d53e8d65e58",
        "colab": {
          "base_uri": "https://localhost:8080/",
          "height": 376
        }
      },
      "cell_type": "code",
      "source": [
        "model = LogisticRegression(solver='liblinear', max_iter=1000, fit_intercept=False)\n",
        "y_score = model.fit(X_train, y_train).decision_function(X_dev)\n",
        "fpr, tpr, _ = roc_curve(y_dev, y_score)\n",
        "roc_auc = auc(fpr, tpr)\n",
        "\n",
        "plt.figure()\n",
        "plt.plot(fpr, tpr, label='ROC curve (area = %0.2f)' % roc_auc)\n",
        "plt.plot([0, 1], [0, 1], 'k--')\n",
        "plt.xlim([0.0, 1.0])\n",
        "plt.ylim([0.0, 1.05])\n",
        "plt.xlabel('False Positive Rate')\n",
        "plt.ylabel('True Positive Rate')\n",
        "plt.title('Receiver operating characteristic example')\n",
        "plt.legend(loc=\"lower right\")\n",
        "plt.show()"
      ],
      "execution_count": 0,
      "outputs": [
        {
          "output_type": "display_data",
          "data": {
            "image/png": "[encoded data removed]",
            "text/plain": [
              "<Figure size 576x396 with 1 Axes>"
            ]
          },
          "metadata": {
            "tags": []
          }
        }
      ]
    },
    {
      "metadata": {
        "id": "pqRkaF2z76ce",
        "colab_type": "code",
        "outputId": "e63cf6dc-2b0c-4a6d-813d-4d8046473017",
        "colab": {
          "base_uri": "https://localhost:8080/",
          "height": 200
        }
      },
      "cell_type": "code",
      "source": [
        "model_logis = LogisticRegression(solver='liblinear', max_iter=1000, fit_intercept=False).fit(X_train, y_train)\n",
        "model_LDA = LinearDiscriminantAnalysis(solver='svd').fit(X_train, y_train)\n",
        "\n",
        "y_pred_train_logis = model_logis.predict(X_train)\n",
        "y_pred_train_LDA = model_LDA.predict(X_train)\n",
        "y_pred_dev_logis = model_logis.predict(X_dev)\n",
        "y_pred_dev_LDA = model_LDA.predict(X_dev)\n",
        "\n",
        "accur_train_logis = accuracy_score(y_train, y_pred_train_logis)\n",
        "accur_train_LDA = accuracy_score(y_train, y_pred_train_LDA)\n",
        "accur_dev_logis = accuracy_score(y_dev, y_pred_dev_logis)\n",
        "accur_dev_LDA = accuracy_score(y_dev, y_pred_dev_LDA)\n",
        "\n",
        "print('Logis Train Accuracy %s \\n' % (accur_train_logis))\n",
        "print('LDA Train Accuracy %s \\n' % (accur_train_LDA))\n",
        "print('Logis Dev Accuracy %s \\n' % (accur_dev_logis))\n",
        "print('LDA Dev Accuracy %s \\n' % (accur_dev_LDA))"
      ],
      "execution_count": 0,
      "outputs": [
        {
          "output_type": "stream",
          "text": [
            "Logis Train Accuracy 0.5217391304347826 \n",
            "\n",
            "LDA Train Accuracy 0.4782608695652174 \n",
            "\n",
            "Logis Dev Accuracy 0.51875 \n",
            "\n",
            "LDA Dev Accuracy 0.50625 \n",
            "\n"
          ],
          "name": "stdout"
        },
        {
          "output_type": "stream",
          "text": [
            "/usr/local/lib/python3.6/dist-packages/sklearn/discriminant_analysis.py:388: UserWarning: Variables are collinear.\n",
            "  warnings.warn(\"Variables are collinear.\")\n"
          ],
          "name": "stderr"
        }
      ]
    },
    {
      "metadata": {
        "id": "RMcdr_yD76cm",
        "colab_type": "text"
      },
      "cell_type": "markdown",
      "source": [
        "With log transformation for Face value of company and Number of shares offered as well as one-hot encoder for Leverage Buyout, we can obtain a beteer model than the model which uses original raw data as input. But, as we can see above, the AUC area is still low. We need to add more features, such as higher-order terms or interaction between two features."
      ]
    },
    {
      "metadata": {
        "id": "ypPvGAs076cp",
        "colab_type": "text"
      },
      "cell_type": "markdown",
      "source": [
        "### Interacting two variables and increasing higher-order terms\n",
        "Because Face value of company and Number of shares offered terms are high correlated, I try to multiply them together to create a new feature and create second-order terms for each of them."
      ]
    },
    {
      "metadata": {
        "id": "II5Qs1zK76cv",
        "colab_type": "code",
        "colab": {}
      },
      "cell_type": "code",
      "source": [
        "def Model_complexity_power(dataset, Power):\n",
        "    data_interaction = dataset.copy()\n",
        "\n",
        "    for degree in range(Power-1):\n",
        "        data_interaction['Face'+str(degree+2)] = data_interaction.Face_Value.values ** (degree+2) \n",
        "        data_interaction['Share'+str(degree+2)] = data_interaction.Offer_shares.values ** (degree+2)\n",
        "\n",
        "    data_interaction['FaceXShare'] = data_interaction.Face_Value.values * data_interaction.Offer_shares.values\n",
        "    data_interaction['Face-Share'] = data_interaction.Face_Value.values - data_interaction.Offer_shares.values\n",
        "       \n",
        "    X = data_interaction.drop(['Venture_Fund'], axis=1).values\n",
        "    y = data_interaction.Venture_Fund.values\n",
        "\n",
        "    return X, y\n",
        "\n",
        "def Model_complexity_interaction(dataset, Power, interaction):\n",
        "    data_interaction = dataset.copy()\n",
        "\n",
        "    data_interaction['Face2'] = data_interaction.Face_Value.values ** Power\n",
        "    data_interaction['Share2'] = data_interaction.Offer_shares.values ** Power\n",
        "\n",
        "    for inter in range(interaction-1):\n",
        "        data_interaction['Face'+str(inter+2)+'XShare'] = ((data_interaction.Face_Value.values ** (inter+2)) \n",
        "                                                          * data_interaction.Offer_shares.values)\n",
        "        data_interaction['FaceXShare'+str(inter+2)] = (data_interaction.Face_Value.values * \n",
        "                                                       (data_interaction.Offer_shares.values ** (inter+2)))\n",
        "        \n",
        "    data_interaction['FaceXShare'] = data_interaction.Face_Value.values * data_interaction.Offer_shares.values\n",
        "    data_interaction['Face-Share'] = data_interaction.Face_Value.values - data_interaction.Offer_shares.values\n",
        "       \n",
        "    X = data_interaction.drop(['Venture_Fund'], axis=1).values\n",
        "    y = data_interaction.Venture_Fund.values\n",
        "\n",
        "    return X, y\n",
        "\n",
        "def Model_complexity(dataset, Power, interaction):\n",
        "    data_interaction = dataset.copy()\n",
        "\n",
        "    for degree in range(Power-1):\n",
        "        data_interaction['Face'+str(degree+2)] = data_interaction.Face_Value.values ** (degree+2) \n",
        "        data_interaction['Share'+str(degree+2)] = data_interaction.Offer_shares.values ** (degree+2)\n",
        "        #data_interaction['FaceXLev'+str(degree+2)] = data_interaction.FaceXLev.values ** (degree+2)\n",
        "        #data_interaction['ShareXLev'+str(degree+2)] = data_interaction.FaceXLev.values ** (degree+2)\n",
        "        \n",
        "    for inter in range(interaction-1):\n",
        "        data_interaction['Face'+str(inter+2)+'XShare'] = ((data_interaction.Face_Value.values ** (inter+2)) \n",
        "                                                          * data_interaction.Offer_shares.values)\n",
        "        data_interaction['FaceXShare'+str(inter+2)] = (data_interaction.Face_Value.values * \n",
        "                                                       (data_interaction.Offer_shares.values ** (inter+2)))\n",
        "        \n",
        "    data_interaction['FaceXShare'] = data_interaction.Face_Value.values * data_interaction.Offer_shares.values\n",
        "    data_interaction['Face-Share'] = data_interaction.Face_Value.values - data_interaction.Offer_shares.values\n",
        "       \n",
        "    X = data_interaction.drop(['Venture_Fund'], axis=1).values\n",
        "    y = data_interaction.Venture_Fund.values\n",
        "\n",
        "    return X, y"
      ],
      "execution_count": 0,
      "outputs": []
    },
    {
      "metadata": {
        "id": "uA9Sc91f76c7",
        "colab_type": "text"
      },
      "cell_type": "markdown",
      "source": [
        "#### Using GridSearchCV to find the best parameters"
      ]
    },
    {
      "metadata": {
        "id": "maQHpM98FWid",
        "colab_type": "text"
      },
      "cell_type": "markdown",
      "source": [
        "#### Using in Logistic Regreesion- question 6(b)"
      ]
    },
    {
      "metadata": {
        "id": "K5_Igfma76c-",
        "colab_type": "code",
        "colab": {}
      },
      "cell_type": "code",
      "source": [
        "interaction = 4\n",
        "power = 4\n",
        "for degree in range(power):\n",
        "    for inter in range(interaction):\n",
        "        X_train, y_train = Model_complexity(Train_OneHot, degree+1, inter+1)\n",
        "        X_dev, y_dev = Model_complexity(Dev_OneHot, degree+1, inter+1)\n",
        "        \n",
        "        logistic = LogisticRegression(solver='liblinear', max_iter=8000, fit_intercept=False)\n",
        "        penalty = ['l1','l2']\n",
        "        ## inverse of lambda\n",
        "        C = np.logspace(0, 2, 7)\n",
        "        hyperparameters = dict(C=C, penalty=penalty)\n",
        "        clf = GridSearchCV(logistic, hyperparameters, cv=3)\n",
        "        best_model = clf.fit(X_train, y_train)\n",
        "        print('Best Penalty:', best_model.best_estimator_.get_params()['penalty'])\n",
        "        print('Best C:', best_model.best_estimator_.get_params()['C'])\n",
        "\n",
        "        model = LogisticRegression(max_iter = 8000, solver = 'liblinear', fit_intercept=False,\n",
        "                                   penalty = best_model.best_estimator_.get_params()['penalty'],\n",
        "                                   C = best_model.best_estimator_.get_params()['C'])\n",
        "        y_score = model.fit(X_train, y_train).decision_function(X_dev)\n",
        "        fpr, tpr, _ = roc_curve(y_dev, y_score)\n",
        "        roc_auc = auc(fpr, tpr)\n",
        "        print('Degree %s, Interaction %s: ROC curve (area = %0.2f)\\n' % (degree+1, inter+1, roc_auc))"
      ],
      "execution_count": 0,
      "outputs": []
    },
    {
      "metadata": {
        "id": "Gsf2K6Ye76dF",
        "colab_type": "text"
      },
      "cell_type": "markdown",
      "source": [
        "Summary:\n",
        "The combination of features Face value of company and Number of shares offered looks like, x1 + x2 + (x1^2) + (x2^2) +  (x1^x2) + (x1^2) * x2 + (x1^3) * x2 + (x2^2) * x1 + (x2^3) * x1 + (x1 - x2). In this case, I choose the simplest model, which Degree=2, Interaction=3, and AUC=0.68."
      ]
    },
    {
      "metadata": {
        "id": "soddjuWR76dG",
        "colab_type": "text"
      },
      "cell_type": "markdown",
      "source": [
        "It takes so long, so I record the result as below.\n",
        "1. Degree: 1, Interaction: 1- L1, 100.0, 0.63\n",
        "2. Degree: 1, Interaction: 2- L1, 10.0, 0.66\n",
        "3. Degree: 1, Interaction: 3- L1, 1.0, 0.67\n",
        "4. Degree: 1, Interaction: 4- L1, 1.0, 0.67\n",
        "\n",
        "1. Degree: 2, Interaction: 1- L1, 100.0, 0.66\n",
        "2. Degree: 2, Interaction: 2- L1, 10.0, 0.66\n",
        "3. Degree: 2, Interaction: 3- L2, 1.0, 0.68\n",
        "4. Degree: 2, Interaction: 4- L1, 1.0, 0.68\n",
        "\n",
        "1. Degree: 3, Interaction: 1- L1, 3.16, 0.67\n",
        "2. Degree: 3, Interaction: 2- L1, 100.0, 0.66\n",
        "3. Degree: 3, Interaction: 3- L2, 10.0, 0.68\n",
        "4. Degree: 3, Interaction: 4- L1, 3.16, 0.68\n",
        "\n",
        "1. Degree: 4, Interaction: 1- L1, 1.0, 0.67\n",
        "2. Degree: 4, Interaction: 2- L2, 1.0, 0.68\n",
        "3. Degree: 4, Interaction: 3- L1, 1.0, 0.68\n",
        "4. Degree: 4, Interaction: 4- L1, 3.16, 0.68"
      ]
    },
    {
      "metadata": {
        "id": "3-zkLLfmF-Xt",
        "colab_type": "text"
      },
      "cell_type": "markdown",
      "source": [
        "Final option: L2, C = 1.0"
      ]
    },
    {
      "metadata": {
        "id": "XlGWarm_Dwhr",
        "colab_type": "text"
      },
      "cell_type": "markdown",
      "source": [
        "#### Question 6(c)"
      ]
    },
    {
      "metadata": {
        "id": "vUH_PJwZ76dN",
        "colab_type": "code",
        "colab": {}
      },
      "cell_type": "code",
      "source": [
        "interaction = 4\n",
        "power = 4\n",
        "for degree in range(power):\n",
        "    for inter in range(interaction):\n",
        "        X_train, y_train = Model_complexity(Train_OneHot, degree+1, inter+1)\n",
        "        X_dev, y_dev = Model_complexity(Dev_OneHot, degree+1, inter+1)\n",
        "        \n",
        "        model = LinearDiscriminantAnalysis(solver='lsqr')\n",
        "        y_score = model.fit(X_train, y_train).decision_function(X_dev)\n",
        "\n",
        "        fpr, tpr, _ = roc_curve(y_dev, y_score)\n",
        "        roc_auc = auc(fpr, tpr)\n",
        "        print('Degree %s, Interaction %s: ROC curve (area = %0.2f)\\n' % (degree+1, inter+1, roc_auc))"
      ],
      "execution_count": 0,
      "outputs": []
    },
    {
      "metadata": {
        "id": "dpB2DDFU76dW",
        "colab_type": "text"
      },
      "cell_type": "markdown",
      "source": [
        "### Summary\n",
        "Based on best model/parameters selection (GridsearchCV) from LogisticRegression() and LinearDiscriminantAnalysis(), I choose 4 candidate model- \n",
        "1. Degree 1, Interaction 3, L1,  C = 1.0\n",
        "2. Degree 2, Interaction 3, L2, C = 1.0\n",
        "3. Degree 3, Interaction 1, L1, C = 3.16\n",
        "4. Degree 4, Interaction 1, L1, C = 1"
      ]
    },
    {
      "metadata": {
        "id": "E_RfKrWm76dd",
        "colab_type": "text"
      },
      "cell_type": "markdown",
      "source": [
        "#### Problem 6(d)"
      ]
    },
    {
      "metadata": {
        "id": "2IY7W8N576df",
        "colab_type": "code",
        "outputId": "ac7c68a6-40c5-4cd9-e05a-dd8bb778496b",
        "colab": {
          "base_uri": "https://localhost:8080/",
          "height": 1169
        }
      },
      "cell_type": "code",
      "source": [
        "model_complexity_para = [(1,1,'l1',1.0), (1,3,'l1',1.0), (2,3,'l2',1.0), (3,1,'l1',3.16), (4,1,'l1',1)]\n",
        "for degree, inter, penalty, C in model_complexity_para:\n",
        "    X_train, y_train = Model_complexity(Train_OneHot, degree, inter)\n",
        "    X_dev, y_dev = Model_complexity(Dev_OneHot, degree, inter)\n",
        "    \n",
        "    model_logis = LogisticRegression(solver = 'liblinear', fit_intercept=False,\n",
        "                                     penalty = penalty, C = C).fit(X_train, y_train)\n",
        "    model_LDA = LinearDiscriminantAnalysis(solver='svd').fit(X_train, y_train)\n",
        "    \n",
        "    y_pred_train_logis = model_logis.predict(X_train)\n",
        "    y_pred_train_LDA = model_LDA.predict(X_train)\n",
        "    y_pred_dev_logis = model_logis.predict(X_dev)\n",
        "    y_pred_dev_LDA = model_LDA.predict(X_dev)\n",
        "\n",
        "    accur_train_logis = accuracy_score(y_train, y_pred_train_logis)\n",
        "    accur_train_LDA = accuracy_score(y_train, y_pred_train_LDA)\n",
        "    accur_dev_logis = accuracy_score(y_dev, y_pred_dev_logis)\n",
        "    accur_dev_LDA = accuracy_score(y_dev, y_pred_dev_LDA)\n",
        "    \n",
        "    print('Degree %s, Interaction %s: Logis Train Accuracy %s \\n' % (degree, inter, accur_train_logis))\n",
        "    print('Degree %s, Interaction %s: LDA Train Accuracy %s \\n' % (degree, inter, accur_train_LDA))\n",
        "    print('Degree %s, Interaction %s: Logis Dev Accuracy %s \\n' % (degree, inter, accur_dev_logis))\n",
        "    print('Degree %s, Interaction %s: LDA Dev Accuracy %s \\n\\n' % (degree, inter, accur_dev_LDA))"
      ],
      "execution_count": 0,
      "outputs": [
        {
          "output_type": "stream",
          "text": [
            "/usr/local/lib/python3.6/dist-packages/sklearn/svm/base.py:931: ConvergenceWarning: Liblinear failed to converge, increase the number of iterations.\n",
            "  \"the number of iterations.\", ConvergenceWarning)\n",
            "/usr/local/lib/python3.6/dist-packages/sklearn/discriminant_analysis.py:388: UserWarning: Variables are collinear.\n",
            "  warnings.warn(\"Variables are collinear.\")\n"
          ],
          "name": "stderr"
        },
        {
          "output_type": "stream",
          "text": [
            "Degree 1, Interaction 1: Logis Train Accuracy 0.4968944099378882 \n",
            "\n",
            "Degree 1, Interaction 1: LDA Train Accuracy 0.6708074534161491 \n",
            "\n",
            "Degree 1, Interaction 1: Logis Dev Accuracy 0.53125 \n",
            "\n",
            "Degree 1, Interaction 1: LDA Dev Accuracy 0.625 \n",
            "\n",
            "\n"
          ],
          "name": "stdout"
        },
        {
          "output_type": "stream",
          "text": [
            "/usr/local/lib/python3.6/dist-packages/sklearn/svm/base.py:931: ConvergenceWarning: Liblinear failed to converge, increase the number of iterations.\n",
            "  \"the number of iterations.\", ConvergenceWarning)\n",
            "/usr/local/lib/python3.6/dist-packages/sklearn/discriminant_analysis.py:388: UserWarning: Variables are collinear.\n",
            "  warnings.warn(\"Variables are collinear.\")\n",
            "/usr/local/lib/python3.6/dist-packages/sklearn/discriminant_analysis.py:388: UserWarning: Variables are collinear.\n",
            "  warnings.warn(\"Variables are collinear.\")\n"
          ],
          "name": "stderr"
        },
        {
          "output_type": "stream",
          "text": [
            "Degree 1, Interaction 3: Logis Train Accuracy 0.639751552795031 \n",
            "\n",
            "Degree 1, Interaction 3: LDA Train Accuracy 0.6770186335403726 \n",
            "\n",
            "Degree 1, Interaction 3: Logis Dev Accuracy 0.60625 \n",
            "\n",
            "Degree 1, Interaction 3: LDA Dev Accuracy 0.63125 \n",
            "\n",
            "\n",
            "Degree 2, Interaction 3: Logis Train Accuracy 0.6770186335403726 \n",
            "\n",
            "Degree 2, Interaction 3: LDA Train Accuracy 0.6770186335403726 \n",
            "\n",
            "Degree 2, Interaction 3: Logis Dev Accuracy 0.63125 \n",
            "\n",
            "Degree 2, Interaction 3: LDA Dev Accuracy 0.63125 \n",
            "\n",
            "\n"
          ],
          "name": "stdout"
        },
        {
          "output_type": "stream",
          "text": [
            "/usr/local/lib/python3.6/dist-packages/sklearn/svm/base.py:931: ConvergenceWarning: Liblinear failed to converge, increase the number of iterations.\n",
            "  \"the number of iterations.\", ConvergenceWarning)\n",
            "/usr/local/lib/python3.6/dist-packages/sklearn/discriminant_analysis.py:388: UserWarning: Variables are collinear.\n",
            "  warnings.warn(\"Variables are collinear.\")\n"
          ],
          "name": "stderr"
        },
        {
          "output_type": "stream",
          "text": [
            "Degree 3, Interaction 1: Logis Train Accuracy 0.6335403726708074 \n",
            "\n",
            "Degree 3, Interaction 1: LDA Train Accuracy 0.6770186335403726 \n",
            "\n",
            "Degree 3, Interaction 1: Logis Dev Accuracy 0.5875 \n",
            "\n",
            "Degree 3, Interaction 1: LDA Dev Accuracy 0.63125 \n",
            "\n",
            "\n",
            "Degree 4, Interaction 1: Logis Train Accuracy 0.639751552795031 \n",
            "\n",
            "Degree 4, Interaction 1: LDA Train Accuracy 0.6770186335403726 \n",
            "\n",
            "Degree 4, Interaction 1: Logis Dev Accuracy 0.60625 \n",
            "\n",
            "Degree 4, Interaction 1: LDA Dev Accuracy 0.63125 \n",
            "\n",
            "\n"
          ],
          "name": "stdout"
        },
        {
          "output_type": "stream",
          "text": [
            "/usr/local/lib/python3.6/dist-packages/sklearn/svm/base.py:931: ConvergenceWarning: Liblinear failed to converge, increase the number of iterations.\n",
            "  \"the number of iterations.\", ConvergenceWarning)\n",
            "/usr/local/lib/python3.6/dist-packages/sklearn/discriminant_analysis.py:388: UserWarning: Variables are collinear.\n",
            "  warnings.warn(\"Variables are collinear.\")\n"
          ],
          "name": "stderr"
        }
      ]
    },
    {
      "metadata": {
        "id": "0yQD2lm476d8",
        "colab_type": "text"
      },
      "cell_type": "markdown",
      "source": [
        "#### Conclusion- question 6(e)\n",
        "\n",
        "(1) The results shown above are improved a lot compared with the result using raw data as input.\n",
        "\n",
        "(2) We can observe that Linear Discriminant Analysis seems to be the upper bound of Linear Regression. Furthermore, if I choose the model out of my candidate models, I will obtain a result that always smaller than LDA accuracy.\n",
        "\n",
        "(3) Based on the results shown above, I choose the second one (degree=2, Interaction=3) as my final model.\n",
        "\n",
        "(4) But, the performance of my designed models are still poor, about 0.68 in training dataset and 0.63 in developing dataset.\n",
        "\n",
        "(5) Totally, I think that my models are still underfitting because both training and developing errors are pretty high. Furthermore, the training accuracy should be always higher than developing accuracy because we fit our model by training dataset, but sometimes if it's underfitting or training dataset is too complicated to interpret, developing accuracy will be higher than training accuracy."
      ]
    },
    {
      "metadata": {
        "id": "YgcDxJC4GV7F",
        "colab_type": "code",
        "colab": {}
      },
      "cell_type": "code",
      "source": [
        ""
      ],
      "execution_count": 0,
      "outputs": []
    }
  ]
}