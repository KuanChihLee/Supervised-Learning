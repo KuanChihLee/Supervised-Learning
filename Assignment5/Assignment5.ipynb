{
  "nbformat": 4,
  "nbformat_minor": 0,
  "metadata": {
    "colab": {
      "name": "Assignment5.ipynb",
      "version": "0.3.2",
      "provenance": [],
      "collapsed_sections": [],
      "include_colab_link": true
    },
    "kernelspec": {
      "display_name": "Python 3",
      "language": "python",
      "name": "python3"
    }
  },
  "cells": [
    {
      "cell_type": "markdown",
      "metadata": {
        "id": "view-in-github",
        "colab_type": "text"
      },
      "source": [
        "<a href=\"https://colab.research.google.com/github/KuanChihLee/Supervised-Learning/blob/master/Assignment5.ipynb\" target=\"_parent\"><img src=\"https://colab.research.google.com/assets/colab-badge.svg\" alt=\"Open In Colab\"/></a>"
      ]
    },
    {
      "metadata": {
        "id": "KV897Uojjbcv",
        "colab_type": "text"
      },
      "cell_type": "markdown",
      "source": [
        "## This assignment implements Neural Network to classificaiton problem.\n"
      ]
    },
    {
      "metadata": {
        "id": "gHfhzqRZjUbP",
        "colab_type": "code",
        "colab": {}
      },
      "cell_type": "code",
      "source": [
        "%matplotlib inline\n",
        "import matplotlib.pyplot as plt\n",
        "import seaborn as sns\n",
        "plt.style.use('seaborn-whitegrid')\n",
        "import numpy as np\n",
        "import pandas as pd\n",
        "import math\n",
        "\n",
        "csv_file = \"./HW5_dataset.csv\"\n",
        "data = pd.read_csv(csv_file)\n",
        "data = data.rename(index=str, columns={\"a\": \"x1\", \"b\": \"x2\", \"label\":\"y\"});"
      ],
      "execution_count": 0,
      "outputs": []
    },
    {
      "metadata": {
        "id": "O7p2m8UMjUbn",
        "colab_type": "code",
        "outputId": "34b88017-3771-4f2c-f33b-edc495ec03ef",
        "colab": {
          "base_uri": "https://localhost:8080/",
          "height": 206
        }
      },
      "cell_type": "code",
      "source": [
        "data.head(5)"
      ],
      "execution_count": 0,
      "outputs": [
        {
          "output_type": "execute_result",
          "data": {
            "text/html": [
              "<div>\n",
              "<style scoped>\n",
              "    .dataframe tbody tr th:only-of-type {\n",
              "        vertical-align: middle;\n",
              "    }\n",
              "\n",
              "    .dataframe tbody tr th {\n",
              "        vertical-align: top;\n",
              "    }\n",
              "\n",
              "    .dataframe thead th {\n",
              "        text-align: right;\n",
              "    }\n",
              "</style>\n",
              "<table border=\"1\" class=\"dataframe\">\n",
              "  <thead>\n",
              "    <tr style=\"text-align: right;\">\n",
              "      <th></th>\n",
              "      <th>x1</th>\n",
              "      <th>x2</th>\n",
              "      <th>y</th>\n",
              "    </tr>\n",
              "  </thead>\n",
              "  <tbody>\n",
              "    <tr>\n",
              "      <th>0</th>\n",
              "      <td>7.308150</td>\n",
              "      <td>3.378029</td>\n",
              "      <td>1</td>\n",
              "    </tr>\n",
              "    <tr>\n",
              "      <th>1</th>\n",
              "      <td>-16.243747</td>\n",
              "      <td>-16.011393</td>\n",
              "      <td>0</td>\n",
              "    </tr>\n",
              "    <tr>\n",
              "      <th>2</th>\n",
              "      <td>7.584490</td>\n",
              "      <td>2.642162</td>\n",
              "      <td>1</td>\n",
              "    </tr>\n",
              "    <tr>\n",
              "      <th>3</th>\n",
              "      <td>-15.965623</td>\n",
              "      <td>-12.119112</td>\n",
              "      <td>0</td>\n",
              "    </tr>\n",
              "    <tr>\n",
              "      <th>4</th>\n",
              "      <td>-18.601721</td>\n",
              "      <td>15.422406</td>\n",
              "      <td>1</td>\n",
              "    </tr>\n",
              "  </tbody>\n",
              "</table>\n",
              "</div>"
            ],
            "text/plain": [
              "          x1         x2  y\n",
              "0   7.308150   3.378029  1\n",
              "1 -16.243747 -16.011393  0\n",
              "2   7.584490   2.642162  1\n",
              "3 -15.965623 -12.119112  0\n",
              "4 -18.601721  15.422406  1"
            ]
          },
          "metadata": {
            "tags": []
          },
          "execution_count": 6
        }
      ]
    },
    {
      "metadata": {
        "id": "tPY8KfEWjUb3",
        "colab_type": "code",
        "outputId": "a63b72dc-8e4a-424e-93bf-1e71cb7c4e5d",
        "colab": {
          "base_uri": "https://localhost:8080/",
          "height": 72
        }
      },
      "cell_type": "code",
      "source": [
        "Train = data.sample(frac=0.70, random_state=20)\n",
        "Test = data.drop(Train.index)\n",
        "Valid = Test.sample(frac=0.6666, random_state=20)\n",
        "Test = Test.drop(Valid.index)\n",
        "\n",
        "print(\"Train size:\", Train.shape)\n",
        "print(\"Valid size:\", Valid.shape)\n",
        "print(\"Test size:\", Test.shape)"
      ],
      "execution_count": 0,
      "outputs": [
        {
          "output_type": "stream",
          "text": [
            "Train size: (3500, 3)\n",
            "Valid size: (1000, 3)\n",
            "Test size: (500, 3)\n"
          ],
          "name": "stdout"
        }
      ]
    },
    {
      "metadata": {
        "id": "rNnCLGZ5jUcT",
        "colab_type": "text"
      },
      "cell_type": "markdown",
      "source": [
        "#### NN Design: How many units in input layer and output layer? question(a)\n",
        "Here, I use 2 predictors/units in input layer. And, output layer is 2 units corresponding to classes (0 and 1).\n",
        "Ouput layer is transformed by softmax (activation function used in the last layer only), and loss function is cross-entropy."
      ]
    },
    {
      "metadata": {
        "id": "HfAa_vD7jUcU",
        "colab_type": "text"
      },
      "cell_type": "markdown",
      "source": [
        "#### Implementation sigmoid, hyperbolic tangent and rectifier linear activation- question(b)"
      ]
    },
    {
      "metadata": {
        "id": "gf2dm0RzjUcF",
        "colab_type": "code",
        "colab": {}
      },
      "cell_type": "code",
      "source": [
        "def Sigmoid(X, derivative=False):\n",
        "    sigm = 1. / (1. + np.exp(-X))\n",
        "    if derivative:\n",
        "        return sigm * (1. - sigm)\n",
        "    return sigm\n",
        "\n",
        "def ReLu(X, derivative=False):\n",
        "    relu = X * (X > 0)\n",
        "    if derivative:\n",
        "        return 1. * (X > 0)\n",
        "    return relu\n",
        "\n",
        "def Tanh(X, derivative=False):\n",
        "    tanh = np.tanh(X) \n",
        "    if derivative:\n",
        "        return 1 - np.power(tanh, 2)\n",
        "    return tanh\n",
        "\n",
        "def Activation(X, function, derivative=False):\n",
        "    if function == \"relu\":\n",
        "        return ReLu(X, derivative)\n",
        "    elif function == \"tanh\":\n",
        "        return Tanh(X, derivative)\n",
        "    else:\n",
        "        return Sigmoid(X, derivative)\n",
        "\n",
        "def calculate_loss(model, X, y, function, lamda, regul): \n",
        "    \n",
        "    W0, B0, W1, B1 = model['W0'], model['B0'], model['W1'], model['B1'] \n",
        "    \n",
        "    # Forward propagation to calculate our predictions \n",
        "    Z1 = X.dot(W0) + B0        # N x hidden_dim\n",
        "    A1 = Activation(Z1, function)\n",
        "    Z2 = A1.dot(W1) + B1       # N x output_dim\n",
        "    indi_exp = np.exp(Z2)\n",
        "    softmax_prob = indi_exp / np.sum(indi_exp, axis=1, keepdims=True)\n",
        "    \n",
        "    # Calculating the loss \n",
        "    correct_logprobs = -np.log(softmax_prob[range(X.shape[0]), y]) \n",
        "    data_loss = np.sum(correct_logprobs)\n",
        "    \n",
        "    # Add regulatization term to loss (optional)\n",
        "    if regul == 'l2':\n",
        "        data_loss += lamda/2 * (np.sum(np.square(W0)) + np.sum(np.square(W1)))\n",
        "    elif regul == 'l1':\n",
        "        data_loss += lamda * (np.sum(abs(W0)) + np.sum(abs(W1)))\n",
        "    else:\n",
        "        data_loss = data_loss\n",
        "        \n",
        "    return 1./X.shape[0] * data_loss     \n",
        "    \n",
        "def NN_Model(data, hidden_dim, output_dim, function=\"sigmoid\", batch_size=100, epochs=10,\n",
        "             lamda=0, regul=None, lr=0.1, print_loss=False):\n",
        "    \n",
        "    data_size, data_dims = data.shape\n",
        "    update_times = math.ceil(data_size / batch_size)\n",
        "    if batch_size >= data_size:\n",
        "        sample_size = data_size\n",
        "    else:\n",
        "        sample_size = batch_size\n",
        "    \n",
        "    # Init W, Bias\n",
        "    np.random.seed(0)\n",
        "    W0 = np.random.randn(data_dims-1, hidden_dim)\n",
        "    B0 = np.zeros((1, hidden_dim))\n",
        "    W1 = np.random.randn(hidden_dim, output_dim)\n",
        "    B1 = np.zeros((1, output_dim))\n",
        "    \n",
        "    # Return model (parameters)\n",
        "    model = {}\n",
        "    print(\"Function: \", function)\n",
        "    for epo in range(epochs):\n",
        "        for times in range(update_times):\n",
        "\n",
        "            sub_data = data.sample(sample_size)\n",
        "            X = sub_data.drop(sub_data.columns[-1], axis=1).values\n",
        "            y = sub_data[sub_data.columns[-1]].values\n",
        "           \n",
        "            # Forward Pass\n",
        "            Z1 = X.dot(W0) + B0        # N x hidden_dim\n",
        "            A1 = Activation(Z1, function)\n",
        "            Z2 = A1.dot(W1) + B1       # N x output_dim\n",
        "            indi_exp = np.exp(Z2)\n",
        "            softmax_prob = indi_exp / np.sum(indi_exp, axis=1, keepdims=True)\n",
        "\n",
        "            #Backward Pass\n",
        "            dZ2 = softmax_prob \n",
        "            dZ2[range(sample_size), y] -= 1\n",
        "            dW1 = (A1.T).dot(dZ2)\n",
        "            dB1 = np.sum(dZ2, axis=0)\n",
        "            dZ1 = dZ2.dot(W1.T) * Activation(Z1, function, derivative=True)\n",
        "            dW0 = (X.T).dot(dZ1)\n",
        "            dB0 = np.sum(dZ1, axis=0)\n",
        "\n",
        "            if regul == 'l2':\n",
        "                W1 = (1 - lr*lamda) * W1 - lr * dW1\n",
        "                W0 = (1 - lr*lamda) * W0 - lr * dW0\n",
        "            elif regul == 'l1':\n",
        "                W1 = W1 - lr * dW1 - lr * lamda * np.sign(W1)\n",
        "                W0 = W0 - lr * dW0 - lr * lamda * np.sign(W0)\n",
        "            else:\n",
        "                W1 -= lr * dW1 \n",
        "                W0 -= lr * dW0\n",
        "            B1 -= lr * B1\n",
        "            B0 -= lr * B0\n",
        "\n",
        "            model = {'W0': W0, 'B0': B0, 'W1': W1, 'B1': B1}\n",
        "            #if times%1000 == 0:\n",
        "            #    print(times, \" times for batch\")\n",
        "\n",
        "        if print_loss and (epo+1)%100 == 0: \n",
        "            print(\"Loss after iteration %i: %f\" %\n",
        "                  (epo+1, calculate_loss(model, X, y, function, lamda, regul))) \n",
        "        \n",
        "    return model"
      ],
      "execution_count": 0,
      "outputs": []
    },
    {
      "metadata": {
        "id": "mrEkF1YCjUcN",
        "colab_type": "code",
        "colab": {}
      },
      "cell_type": "code",
      "source": [
        "def predict(model, data, function=\"sigmoid\"): \n",
        "    \n",
        "    W0, B0, W1, B1 = model['W0'], model['B0'], model['W1'], model['B1'] \n",
        "    X = data.drop(data.columns[-1], axis=1).values\n",
        "    \n",
        "    # Forward propagation \n",
        "    Z1 = X.dot(W0) + B0        # N x hidden_dim\n",
        "    A1 = Activation(Z1, function)\n",
        "    Z2 = A1.dot(W1) + B1       # N x output_dim\n",
        "    indi_exp = np.exp(Z2) \n",
        "    softmax_prob = indi_exp / np.sum(indi_exp, axis=1, keepdims=True) \n",
        "    return np.argmax(softmax_prob, axis=1) \n",
        "    \n",
        "def plot_decision_boundary(data, predicton_function): \n",
        "\n",
        "    X = data.drop(data.columns[-1], axis=1)\n",
        "    y = data[data.columns[-1]]\n",
        "    \n",
        "    # Set min and max values and give it some padding \n",
        "    x_min, x_max = X.iloc[:, 0].min() - .5, X.iloc[:, 0].max() + .5 \n",
        "    y_min, y_max = X.iloc[:, 1].min() - 1.5, X.iloc[:, 1].max() + 1.5 \n",
        "    h = 0.01\n",
        "    \n",
        "    # Generate a grid of points with distance h between them \n",
        "    xx, yy = np.meshgrid(np.arange(x_min, x_max, h), np.arange(y_min, y_max, h)) \n",
        "    \n",
        "    # Predict the function value for the whole gid\n",
        "    obs = pd.DataFrame(np.c_[xx.ravel(), yy.ravel(), xx.ravel()], columns=['x1', 'x2', 'fake'])\n",
        "    Z = predicton_function(obs) \n",
        "    Z = Z.reshape(xx.shape) \n",
        "    \n",
        "    classes = [0, 1]\n",
        "    markers = ['s', '.']\n",
        "    colors = ['red', 'blue']\n",
        "    \n",
        "    # Plot the contour and training examples\n",
        "    fig, ax = plt.subplots(figsize=(12, 8))\n",
        "    ax.contourf(xx, yy, Z, cmap='RdGy', alpha=0.3) \n",
        "    for color, mark, clas in zip(colors, markers, classes):\n",
        "        x1 = [X.iloc[i,0] for i in range(X.shape[0]) if y[i] == clas]\n",
        "        x2 = [X.iloc[i,1] for i in range(X.shape[0]) if y[i] == clas]\n",
        "        ax.scatter(x1, x2, c=color, marker=mark, label=\"Class\"+str(clas))\n",
        "    ax.legend()\n",
        "    ax.grid(False)"
      ],
      "execution_count": 0,
      "outputs": []
    },
    {
      "metadata": {
        "id": "2G5AQkyXjUcW",
        "colab_type": "text"
      },
      "cell_type": "markdown",
      "source": [
        "#### Following 3 cells implement different activation functions with L1 regularization.\n",
        "batch_size=500, epoch=1000 and learning rate is 0.001 (ReLu learning rate is 0.0001). Weights and biases in each layer are marked as the dictionary names, 'W0', 'B0', 'W1', 'B1', in model (for example model['W0'])."
      ]
    },
    {
      "metadata": {
        "id": "32nhmA7vjUcb",
        "colab_type": "code",
        "outputId": "09790287-3506-4072-f47b-ac5644d08207",
        "colab": {}
      },
      "cell_type": "code",
      "source": [
        "# Hidden layer with tanh\n",
        "model = NN_Model(data, hidden_dim=2, output_dim=2, function=\"tanh\", batch_size=500, epochs=1000,\n",
        "             lamda=1.0, regul='l2', lr=0.001, print_loss=True)\n",
        "\n",
        "prediction = predict(model, Train, function=\"tanh\")\n",
        "error_num = sum(abs(prediction - Train[Train.columns[-1]].values))\n",
        "print(\"Train Error Rate:\", error_num / Train.shape[0] * 100, \"%\")\n",
        "\n",
        "prediction = predict(model, Valid, function=\"tanh\")\n",
        "error_num = sum(abs(prediction - Valid[Valid.columns[-1]].values))\n",
        "print(\"Valid Error Rate:\", error_num / Valid.shape[0] * 100, \"%\")"
      ],
      "execution_count": 0,
      "outputs": [
        {
          "output_type": "stream",
          "text": [
            "Function:  tanh\n",
            "Loss after iteration 100: 0.488286\n",
            "Loss after iteration 200: 0.485181\n",
            "Loss after iteration 300: 0.479538\n",
            "Loss after iteration 400: 0.481746\n",
            "Loss after iteration 500: 0.481439\n",
            "Loss after iteration 600: 0.474314\n",
            "Loss after iteration 700: 0.501996\n",
            "Loss after iteration 800: 0.459661\n",
            "Loss after iteration 900: 0.498177\n",
            "Loss after iteration 1000: 0.501077\n",
            "Train Error Rate: 24.628571428571426 %\n",
            "Valid Error Rate: 24.4 %\n"
          ],
          "name": "stdout"
        }
      ]
    },
    {
      "metadata": {
        "id": "whOj93chjUcl",
        "colab_type": "code",
        "outputId": "c04f527c-5528-4cf6-cd3e-bce096be81f0",
        "colab": {}
      },
      "cell_type": "code",
      "source": [
        "# ReLu is really easier to encounter NaN value because W0 and W0 might be too big\n",
        "# decease learning rate by a factor of 10\n",
        "model = NN_Model(data, hidden_dim=2, output_dim=2, function=\"relu\", batch_size=500, epochs=1000,\n",
        "             lamda=1.0, regul='l2', lr=0.0001, print_loss=True)\n",
        "\n",
        "prediction = predict(model, Train, function=\"relu\")\n",
        "error_num = sum(abs(prediction - Train[Train.columns[-1]].values))\n",
        "print(\"Train Error Rate:\", error_num / Train.shape[0] * 100, \"%\")\n",
        "\n",
        "prediction = predict(model, Valid, function=\"relu\")\n",
        "error_num = sum(abs(prediction - Valid[Valid.columns[-1]].values))\n",
        "print(\"Valid Error Rate:\", error_num / Valid.shape[0] * 100, \"%\")"
      ],
      "execution_count": 0,
      "outputs": [
        {
          "output_type": "stream",
          "text": [
            "Function:  relu\n",
            "Loss after iteration 100: 0.361464\n",
            "Loss after iteration 200: 0.356502\n",
            "Loss after iteration 300: 0.358559\n",
            "Loss after iteration 400: 0.349609\n",
            "Loss after iteration 500: 0.363231\n",
            "Loss after iteration 600: 0.378768\n",
            "Loss after iteration 700: 0.344064\n",
            "Loss after iteration 800: 0.360862\n",
            "Loss after iteration 900: 0.346801\n",
            "Loss after iteration 1000: 0.356561\n",
            "Train Error Rate: 25.4 %\n",
            "Valid Error Rate: 24.9 %\n"
          ],
          "name": "stdout"
        }
      ]
    },
    {
      "metadata": {
        "id": "Ny0EScMsjUc9",
        "colab_type": "code",
        "outputId": "67291539-634d-44c0-af80-bc6c7eafbe99",
        "colab": {}
      },
      "cell_type": "code",
      "source": [
        "# Hidden layer with sigmoid\n",
        "model = NN_Model(data, hidden_dim=2, output_dim=2, function=\"sigmoid\", batch_size=500, epochs=1000,\n",
        "             lamda=1.0, regul='l2', lr=0.001, print_loss=True)\n",
        "\n",
        "prediction = predict(model, Train, function=\"sigmoid\")\n",
        "error_num = sum(abs(prediction - Train[Train.columns[-1]].values))\n",
        "print(\"Train Error Rate:\", error_num / Train.shape[0] * 100, \"%\")\n",
        "\n",
        "prediction = predict(model, Valid, function=\"sigmoid\")\n",
        "error_num = sum(abs(prediction - Valid[Valid.columns[-1]].values))\n",
        "print(\"Valid Error Rate:\", error_num / Valid.shape[0] * 100, \"%\")"
      ],
      "execution_count": 0,
      "outputs": [
        {
          "output_type": "stream",
          "text": [
            "Function:  sigmoid\n",
            "Loss after iteration 100: 0.556285\n",
            "Loss after iteration 200: 0.545484\n",
            "Loss after iteration 300: 0.551131\n",
            "Loss after iteration 400: 0.551198\n",
            "Loss after iteration 500: 0.536943\n",
            "Loss after iteration 600: 0.534630\n",
            "Loss after iteration 700: 0.564721\n",
            "Loss after iteration 800: 0.530854\n",
            "Loss after iteration 900: 0.540561\n",
            "Loss after iteration 1000: 0.545443\n",
            "Train Error Rate: 50.828571428571436 %\n",
            "Valid Error Rate: 52.2 %\n"
          ],
          "name": "stdout"
        }
      ]
    },
    {
      "metadata": {
        "id": "GJvj_tqyjUdD",
        "colab_type": "text"
      },
      "cell_type": "markdown",
      "source": [
        "#### Following one cell use ReLu as activation function and implement regularization with different λ."
      ]
    },
    {
      "metadata": {
        "id": "oES8MysWjUdF",
        "colab_type": "code",
        "outputId": "f1324348-d0f2-4bae-fe8a-045749d31619",
        "colab": {}
      },
      "cell_type": "code",
      "source": [
        "lamda_list = [0.0, 0.01, 0.05, 0.1, 0.5, 1.0, 1.5, 2, 5, 8, 10, 20, 50, 100] \n",
        "\n",
        "best_lambda = 0\n",
        "best_valid_error = 1\n",
        "for lamda in lamda_list: \n",
        "    print(\"Lambda is \", lamda)\n",
        "    model = NN_Model(data, hidden_dim=2, output_dim=2, function=\"relu\", batch_size=500, \n",
        "                     epochs=1000, lamda=lamda, regul='l2', lr=0.0001, print_loss=False)\n",
        "    \n",
        "    prediction = predict(model, Train, function=\"relu\")\n",
        "    error_num = sum(abs(prediction - Train[Train.columns[-1]].values))\n",
        "    print(\"Train Error Rate:\", error_num / Train.shape[0] * 100, \"%\")\n",
        "\n",
        "    prediction = predict(model, Valid, function=\"relu\")\n",
        "    error_num = sum(abs(prediction - Valid[Valid.columns[-1]].values))\n",
        "    print(\"Valid Error Rate:\", error_num / Valid.shape[0] * 100, \"%\")\n",
        "    if (error_num/Valid.shape[0]) < best_valid_error:\n",
        "        best_valid_error = error_num/Valid.shape[0]\n",
        "        best_lambda = lamda"
      ],
      "execution_count": 0,
      "outputs": [
        {
          "output_type": "stream",
          "text": [
            "Lambda is  0.0\n",
            "Function:  relu\n",
            "Train Error Rate: 25.4 %\n",
            "Valid Error Rate: 24.9 %\n",
            "Lambda is  0.01\n",
            "Function:  relu\n",
            "Train Error Rate: 25.4 %\n",
            "Valid Error Rate: 24.9 %\n",
            "Lambda is  0.05\n",
            "Function:  relu\n",
            "Train Error Rate: 25.4 %\n",
            "Valid Error Rate: 24.9 %\n",
            "Lambda is  0.1\n",
            "Function:  relu\n",
            "Train Error Rate: 25.4 %\n",
            "Valid Error Rate: 24.9 %\n",
            "Lambda is  0.5\n",
            "Function:  relu\n",
            "Train Error Rate: 25.4 %\n",
            "Valid Error Rate: 24.9 %\n",
            "Lambda is  1.0\n",
            "Function:  relu\n",
            "Train Error Rate: 25.4 %\n",
            "Valid Error Rate: 24.9 %\n",
            "Lambda is  1.5\n",
            "Function:  relu\n",
            "Train Error Rate: 25.4 %\n",
            "Valid Error Rate: 24.9 %\n",
            "Lambda is  2\n",
            "Function:  relu\n",
            "Train Error Rate: 25.4 %\n",
            "Valid Error Rate: 24.9 %\n",
            "Lambda is  5\n",
            "Function:  relu\n",
            "Train Error Rate: 25.4 %\n",
            "Valid Error Rate: 24.9 %\n",
            "Lambda is  8\n",
            "Function:  relu\n",
            "Train Error Rate: 25.4 %\n",
            "Valid Error Rate: 24.9 %\n",
            "Lambda is  10\n",
            "Function:  relu\n",
            "Train Error Rate: 25.4 %\n",
            "Valid Error Rate: 24.9 %\n",
            "Lambda is  20\n",
            "Function:  relu\n",
            "Train Error Rate: 25.4 %\n",
            "Valid Error Rate: 24.9 %\n",
            "Lambda is  50\n",
            "Function:  relu\n",
            "Train Error Rate: 25.4 %\n",
            "Valid Error Rate: 24.9 %\n",
            "Lambda is  100\n",
            "Function:  relu\n",
            "Train Error Rate: 25.4 %\n",
            "Valid Error Rate: 24.9 %\n"
          ],
          "name": "stdout"
        }
      ]
    },
    {
      "metadata": {
        "id": "SNtCoYUKjUdL",
        "colab_type": "text"
      },
      "cell_type": "markdown",
      "source": [
        "#### Find the best lambda in validation set and try it on Test data set."
      ]
    },
    {
      "metadata": {
        "id": "HnqmI1y_jUdN",
        "colab_type": "code",
        "outputId": "f8191066-9ee7-4004-9268-58bb20fdac85",
        "colab": {}
      },
      "cell_type": "code",
      "source": [
        "print(\"Best Lambda: \", best_lambda)\n",
        "\n",
        "model = NN_Model(data, hidden_dim=2, output_dim=2, function=\"relu\", batch_size=500, \n",
        "                 epochs=1000, lamda=best_lambda, regul='l2', lr=0.0001, print_loss=False)\n",
        "\n",
        "prediction = predict(model, Train, function=\"relu\")\n",
        "error_num = sum(abs(prediction - Train[Train.columns[-1]].values))\n",
        "print(\"Train Error Rate:\", error_num / Train.shape[0] * 100, \"%\")\n",
        "\n",
        "prediction = predict(model, Test, function=\"relu\")\n",
        "error_num = sum(abs(prediction - Test[Test.columns[-1]].values))\n",
        "print(\"Test Error Rate:\", error_num / Test.shape[0] * 100, \"%\")"
      ],
      "execution_count": 0,
      "outputs": [
        {
          "output_type": "stream",
          "text": [
            "Best Lambda:  0.0\n",
            "Function:  relu\n",
            "Train Error Rate: 25.4 %\n",
            "Test Error Rate: 22.400000000000002 %\n"
          ],
          "name": "stdout"
        }
      ]
    },
    {
      "metadata": {
        "id": "6QvfhPKWjUdW",
        "colab_type": "text"
      },
      "cell_type": "markdown",
      "source": [
        "#### Repeat above processes with 10-units hidden layer- question(c)"
      ]
    },
    {
      "metadata": {
        "id": "g2iU4x-XjUdX",
        "colab_type": "code",
        "outputId": "5144f389-fad6-474b-da19-e5aa640d2d9b",
        "colab": {}
      },
      "cell_type": "code",
      "source": [
        "lamda_list = [0.0, 0.01, 0.05, 0.1, 0.5, 1.0, 1.5, 2, 5, 8, 10, 20, 50, 100] \n",
        "\n",
        "best_lambda = 0\n",
        "best_valid_error = 1\n",
        "for lamda in lamda_list: \n",
        "    print(\"Lambda is \", lamda)\n",
        "    model = NN_Model(data, hidden_dim=10, output_dim=2, function=\"relu\", batch_size=500, \n",
        "                     epochs=1000, lamda=lamda, regul='l2', lr=0.0001, print_loss=False)\n",
        "    \n",
        "    prediction = predict(model, Train, function=\"relu\")\n",
        "    error_num = sum(abs(prediction - Train[Train.columns[-1]].values))\n",
        "    print(\"Train Error Rate:\", error_num / Train.shape[0] * 100, \"%\")\n",
        "\n",
        "    prediction = predict(model, Valid, function=\"relu\")\n",
        "    error_num = sum(abs(prediction - Valid[Valid.columns[-1]].values))\n",
        "    print(\"Valid Error Rate:\", error_num / Valid.shape[0] * 100, \"%\")\n",
        "    if (error_num/Valid.shape[0]) < best_valid_error:\n",
        "        best_valid_error = error_num/Valid.shape[0]\n",
        "        best_lambda = lamda"
      ],
      "execution_count": 0,
      "outputs": [
        {
          "output_type": "stream",
          "text": [
            "Lambda is  0.0\n",
            "Function:  relu\n",
            "Train Error Rate: 0.0 %\n",
            "Valid Error Rate: 0.0 %\n",
            "Lambda is  0.01\n",
            "Function:  relu\n",
            "Train Error Rate: 0.0 %\n",
            "Valid Error Rate: 0.0 %\n",
            "Lambda is  0.05\n",
            "Function:  relu\n",
            "Train Error Rate: 0.0 %\n",
            "Valid Error Rate: 0.0 %\n",
            "Lambda is  0.1\n",
            "Function:  relu\n",
            "Train Error Rate: 0.0 %\n",
            "Valid Error Rate: 0.0 %\n",
            "Lambda is  0.5\n",
            "Function:  relu\n",
            "Train Error Rate: 0.0 %\n",
            "Valid Error Rate: 0.0 %\n",
            "Lambda is  1.0\n",
            "Function:  relu\n",
            "Train Error Rate: 0.0 %\n",
            "Valid Error Rate: 0.0 %\n",
            "Lambda is  1.5\n",
            "Function:  relu\n",
            "Train Error Rate: 0.0 %\n",
            "Valid Error Rate: 0.0 %\n",
            "Lambda is  2\n",
            "Function:  relu\n",
            "Train Error Rate: 0.0 %\n",
            "Valid Error Rate: 0.0 %\n",
            "Lambda is  5\n",
            "Function:  relu\n",
            "Train Error Rate: 0.0 %\n",
            "Valid Error Rate: 0.0 %\n",
            "Lambda is  8\n",
            "Function:  relu\n",
            "Train Error Rate: 0.0 %\n",
            "Valid Error Rate: 0.0 %\n",
            "Lambda is  10\n",
            "Function:  relu\n",
            "Train Error Rate: 0.0 %\n",
            "Valid Error Rate: 0.0 %\n",
            "Lambda is  20\n",
            "Function:  relu\n",
            "Train Error Rate: 0.0 %\n",
            "Valid Error Rate: 0.0 %\n",
            "Lambda is  50\n",
            "Function:  relu\n",
            "Train Error Rate: 0.0 %\n",
            "Valid Error Rate: 0.0 %\n",
            "Lambda is  100\n",
            "Function:  relu\n",
            "Train Error Rate: 0.0 %\n",
            "Valid Error Rate: 0.0 %\n"
          ],
          "name": "stdout"
        }
      ]
    },
    {
      "metadata": {
        "id": "DOuDloGKjUdd",
        "colab_type": "text"
      },
      "cell_type": "markdown",
      "source": [
        "#### Find the best lambda in validation set and try it on Test data set."
      ]
    },
    {
      "metadata": {
        "id": "cdXv-mFLjUdf",
        "colab_type": "code",
        "outputId": "7fd4affa-2e8f-4b9c-d539-d866569a9755",
        "colab": {}
      },
      "cell_type": "code",
      "source": [
        "print(\"Best Lambda: \", best_lambda)\n",
        "\n",
        "model = NN_Model(data, hidden_dim=10, output_dim=2, function=\"relu\", batch_size=500, \n",
        "                 epochs=1000, lamda=best_lambda, regul='l2', lr=0.0001, print_loss=False)\n",
        "\n",
        "prediction = predict(model, Train, function=\"relu\")\n",
        "error_num = sum(abs(prediction - Train[Train.columns[-1]].values))\n",
        "print(\"Train Error Rate:\", error_num / Train.shape[0] * 100, \"%\")\n",
        "\n",
        "prediction = predict(model, Test, function=\"relu\")\n",
        "error_num = sum(abs(prediction - Test[Test.columns[-1]].values))\n",
        "print(\"Test Error Rate:\", error_num / Test.shape[0] * 100, \"%\")"
      ],
      "execution_count": 0,
      "outputs": [
        {
          "output_type": "stream",
          "text": [
            "Best Lambda:  0.0\n",
            "Function:  relu\n",
            "Train Error Rate: 0.0 %\n",
            "Test Error Rate: 0.2 %\n"
          ],
          "name": "stdout"
        }
      ]
    },
    {
      "metadata": {
        "id": "y_FOuuIkjUdo",
        "colab_type": "text"
      },
      "cell_type": "markdown",
      "source": [
        "#### Decision Boundary- question(d)"
      ]
    },
    {
      "metadata": {
        "id": "1u_e_GZWjUdp",
        "colab_type": "code",
        "outputId": "f4c55204-731a-4de6-bc0f-96e6729de608",
        "colab": {}
      },
      "cell_type": "code",
      "source": [
        "print(\"Best Lambda: \", 0.0)\n",
        "model = NN_Model(data, hidden_dim=2, output_dim=2, function=\"relu\", batch_size=500, \n",
        "                 epochs=1000, lamda=0.0, regul='l2', lr=0.0001, print_loss=False)\n",
        "\n",
        "prediction = predict(model, Train, function=\"relu\")\n",
        "error_num = sum(abs(prediction - Train[Train.columns[-1]].values))\n",
        "print(\"Train Error Rate:\", error_num / Train.shape[0] * 100, \"%\")"
      ],
      "execution_count": 0,
      "outputs": [
        {
          "output_type": "stream",
          "text": [
            "Best Lambda:  0.0\n",
            "Function:  relu\n",
            "Train Error Rate: 25.4 %\n"
          ],
          "name": "stdout"
        }
      ]
    },
    {
      "metadata": {
        "id": "fM_2ial5jUd1",
        "colab_type": "code",
        "outputId": "8caa80da-44d3-4e5d-9ae5-09d19025438b",
        "colab": {}
      },
      "cell_type": "code",
      "source": [
        "# Plot the decision boundary \n",
        "plot_decision_boundary(Train, lambda x: predict(model, x, function=\"relu\")) \n",
        "plt.title(\"Decision Boundary for 2-Units Hidden Layer\") "
      ],
      "execution_count": 0,
      "outputs": [
        {
          "output_type": "execute_result",
          "data": {
            "text/plain": [
              "Text(0.5, 1.0, 'Decision Boundary for 2-Units Hidden Layer')"
            ]
          },
          "metadata": {
            "tags": []
          },
          "execution_count": 17
        },
        {
          "output_type": "display_data",
          "data": {
            "image/png": "[encoded data removed]",
            "text/plain": [
              "<Figure size 864x576 with 1 Axes>"
            ]
          },
          "metadata": {
            "tags": [],
            "needs_background": "light"
          }
        }
      ]
    },
    {
      "metadata": {
        "id": "KX7aQiJ8jUd_",
        "colab_type": "code",
        "outputId": "3fb55640-b26e-4863-d9b8-4b4c34f8044d",
        "colab": {}
      },
      "cell_type": "code",
      "source": [
        "print(\"Best Lambda: \", 0.0)\n",
        "model = NN_Model(data, hidden_dim=10, output_dim=2, function=\"relu\", batch_size=500, \n",
        "                 epochs=1000, lamda=0.0, regul='l2', lr=0.0001, print_loss=False)\n",
        "\n",
        "prediction = predict(model, Train, function=\"relu\")\n",
        "error_num = sum(abs(prediction - Train[Train.columns[-1]].values))\n",
        "print(\"Train Error Rate:\", error_num / Train.shape[0] * 100, \"%\")"
      ],
      "execution_count": 0,
      "outputs": [
        {
          "output_type": "stream",
          "text": [
            "Best Lambda:  0.0\n",
            "Function:  relu\n",
            "Train Error Rate: 0.0 %\n"
          ],
          "name": "stdout"
        }
      ]
    },
    {
      "metadata": {
        "id": "4HOAypj8jUeH",
        "colab_type": "code",
        "outputId": "e194173f-8bbd-4bcc-ebf2-cafafe8cff67",
        "colab": {}
      },
      "cell_type": "code",
      "source": [
        "# Plot the decision boundary \n",
        "plot_decision_boundary(Train, lambda x: predict(model, x, function=\"relu\")) \n",
        "plt.title(\"Decision Boundary for 10-Units Hidden Layer\") "
      ],
      "execution_count": 0,
      "outputs": [
        {
          "output_type": "execute_result",
          "data": {
            "text/plain": [
              "Text(0.5, 1.0, 'Decision Boundary for 10-Units Hidden Layer')"
            ]
          },
          "metadata": {
            "tags": []
          },
          "execution_count": 19
        },
        {
          "output_type": "display_data",
          "data": {
            "image/png": "[encoded data removed]",
            "text/plain": [
              "<Figure size 864x576 with 1 Axes>"
            ]
          },
          "metadata": {
            "tags": [],
            "needs_background": "light"
          }
        }
      ]
    },
    {
      "metadata": {
        "id": "4nvZ0kdkjUeU",
        "colab_type": "text"
      },
      "cell_type": "markdown",
      "source": [
        "#### Explanation:\n",
        "It's obvious that the dicision boundary in 10-units Hidden layer NN is more complicated than 2-units one. Therefore, 10-units NN can successfully separate four groups of data marked as different labels in predictor domain, X1 vs. X2. Also, because I use ReLu as activation function in hidden layer, boundaries are linear in each section."
      ]
    }
  ]
}
