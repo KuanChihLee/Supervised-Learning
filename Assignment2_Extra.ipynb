{
  "nbformat": 4,
  "nbformat_minor": 0,
  "metadata": {
    "colab": {
      "name": "Assignment2-Extra.ipynb",
      "version": "0.3.2",
      "provenance": [],
      "collapsed_sections": [],
      "include_colab_link": true
    },
    "kernelspec": {
      "display_name": "Python 3",
      "language": "python",
      "name": "python3"
    }
  },
  "cells": [
    {
      "cell_type": "markdown",
      "metadata": {
        "id": "view-in-github",
        "colab_type": "text"
      },
      "source": [
        "<a href=\"https://colab.research.google.com/github/KuanChihLee/Supervised-Learning/blob/master/Assignment2_Extra.ipynb\" target=\"_parent\"><img src=\"https://colab.research.google.com/assets/colab-badge.svg\" alt=\"Open In Colab\"/></a>"
      ]
    },
    {
      "metadata": {
        "id": "JqiPgjvB0hbu",
        "colab_type": "code",
        "colab": {}
      },
      "cell_type": "code",
      "source": [
        "%matplotlib inline\n",
        "import matplotlib.pyplot as plt\n",
        "plt.style.use('seaborn-whitegrid')\n",
        "import numpy as np"
      ],
      "execution_count": 0,
      "outputs": []
    },
    {
      "metadata": {
        "id": "AKjmbKfZ0hb_",
        "colab_type": "text"
      },
      "cell_type": "markdown",
      "source": [
        "# Question 4"
      ]
    },
    {
      "metadata": {
        "id": "9YjxAjrd0hcC",
        "colab_type": "code",
        "outputId": "7f0cf742-b77e-4cc9-9a03-925c1d55520b",
        "colab": {}
      },
      "cell_type": "code",
      "source": [
        "## Creating data required in question 5\n",
        "SampleNum = 50\n",
        "Slope = 3\n",
        "Intercept = 2\n",
        "Mean = 0\n",
        "Std = 2\n",
        "#rng = np.random.RandomState(42)\n",
        "#x = 10 * rng.rand(S_Num)\n",
        "es = np.random.normal(Mean, Std, SampleNum)\n",
        "x = np.linspace(-2, 2, SampleNum)\n",
        "y = Slope * x + Intercept + es\n",
        "plt.scatter(x, y)"
      ],
      "execution_count": 0,
      "outputs": [
        {
          "output_type": "execute_result",
          "data": {
            "text/plain": [
              "<matplotlib.collections.PathCollection at 0x7fe5bbce16d8>"
            ]
          },
          "metadata": {
            "tags": []
          },
          "execution_count": 8
        },
        {
          "output_type": "display_data",
          "data": {
            "image/png": "[encoded data removed]",
            "text/plain": [
              "<Figure size 432x288 with 1 Axes>"
            ]
          },
          "metadata": {
            "tags": [],
            "needs_background": "light"
          }
        }
      ]
    },
    {
      "metadata": {
        "id": "CJfjpgpq0hcN",
        "colab_type": "code",
        "colab": {}
      },
      "cell_type": "code",
      "source": [
        "import pandas as pd\n",
        "from random import shuffle\n",
        "from math import sqrt, ceil, floor\n",
        "from numpy.linalg import inv\n",
        "\n",
        "def LS_AnalyticalSolu(x, y):\n",
        "    theta = np.round(np.dot(inv(x.T.dot(x)).dot(x.T), y), 10)\n",
        "    \n",
        "    return theta\n",
        "\n",
        "\n",
        "def Rid_AnalyticalSolu_L2(x, y, lamda):\n",
        "    N, P = x.shape\n",
        "    Identity = np.identity(P)\n",
        "    ## Very important!! We don't add penalty to Intercept\n",
        "    Identity[0,0] = 0\n",
        "    theta = np.round(np.dot(inv(x.T.dot(x) + lamda*Identity).dot(x.T), y), 10)\n",
        "    \n",
        "    return theta\n",
        "\n",
        "\n",
        "def Lasso_AnalyticalSolu_L1(x, y, theta, lamda):\n",
        "    N, P = x.shape\n",
        "    diag_theta = np.zeros(P)\n",
        "    for ele in range(len(theta)):\n",
        "        if theta[ele] != 0:\n",
        "            diag_theta[ele] = 1 / abs(theta[ele])\n",
        "        else:\n",
        "            diag_theta[ele] = 0\n",
        "    diag_theta[0] = 0\n",
        "    theta = np.round(np.dot(inv(x.T.dot(x)/N + lamda*np.diag(diag_theta)).dot(x.T), y)/N, 10)\n",
        "    \n",
        "    return theta\n",
        "\n",
        "\n",
        "def LS_MSE_Loss(x, y, theta):\n",
        "    N, P = x.shape\n",
        "    grad = np.zeros(P)\n",
        "    \n",
        "    err = x.dot(theta) - y \n",
        "    L = (sum(err ** 2.0)) / (2.0*N)\n",
        "    grad = np.round((2.0*x.T.dot(err)) / (2.0*N), 10)\n",
        "   \n",
        "    return L, grad\n",
        "    \n",
        "\n",
        "def Rid_MSE_Loss(x, y, theta, lamda):\n",
        "    N, P = x.shape\n",
        "    grad = np.zeros(P)\n",
        "    \n",
        "    err = x.dot(theta) - y \n",
        "    L2_norm = lamda * np.dot(theta.T, theta)\n",
        "    L = (sum(err ** 2.0) + L2_norm) / (2.0*N)\n",
        "    grad = np.round((x.T.dot(err) + lamda*theta) / N, 10)\n",
        "   \n",
        "    return L, grad\n",
        "    \n",
        "    \n",
        "def Lasso_MSE_Loss(x, y, theta, lamda):\n",
        "    N, P = x.shape\n",
        "    grad = np.zeros(P)\n",
        "    \n",
        "    err = x.dot(theta) - y \n",
        "    L1_norm = sum(abs(theta * lamda))\n",
        "    L = (sum(err ** 2.0) + L1_norm) / (2.0*N)\n",
        "    grad = Lasso_AnalyticalSolu_L1(x, y, theta, lamda)\n",
        "\n",
        "    return L, grad\n",
        "\n",
        "\n",
        "def Optimizer_func(x, y, lr, theta, max_iter, reg = \"LS\", lamda = 0):\n",
        "    N, P = x.shape\n",
        "    order = np.array(range(N))\n",
        "    x_shuffle = np.zeros((1,P))\n",
        "    \n",
        "    for i in range(max_iter):\n",
        "        x_input = x.values\n",
        "        if reg == \"lasso\":\n",
        "            J, grad = Lasso_MSE_Loss(x_input, y, theta, lamda)\n",
        "            theta = grad\n",
        "        elif reg == \"ridge\":\n",
        "            J, grad = Rid_MSE_Loss(x_input, y, theta, lamda)\n",
        "            theta -= lr*grad\n",
        "        else:\n",
        "            J, grad = LS_MSE_Loss(x_input, y, theta)\n",
        "            theta -= lr*grad\n",
        "        \n",
        "    return theta\n",
        "\n",
        "\n",
        "def Create_predictors(x, NumberOfPredictor):\n",
        "    X = pd.DataFrame({'Inter': np.ones(len(x))})\n",
        "    for degree in range(NumberOfPredictor):\n",
        "        name = \"Degree_\" + str(degree+1)\n",
        "        X[name] = pow(x, degree+1)\n",
        "        \n",
        "    return X"
      ],
      "execution_count": 0,
      "outputs": []
    },
    {
      "metadata": {
        "id": "lBZsABwV0hcX",
        "colab_type": "code",
        "outputId": "10f08234-cc11-4f4b-8fe4-11b3ed3f37aa",
        "colab": {}
      },
      "cell_type": "code",
      "source": [
        "NumberOfPredictor = 5\n",
        "X = Create_predictors(x, NumberOfPredictor)\n",
        "X.head()"
      ],
      "execution_count": 0,
      "outputs": [
        {
          "output_type": "execute_result",
          "data": {
            "text/html": [
              "<div>\n",
              "<style scoped>\n",
              "    .dataframe tbody tr th:only-of-type {\n",
              "        vertical-align: middle;\n",
              "    }\n",
              "\n",
              "    .dataframe tbody tr th {\n",
              "        vertical-align: top;\n",
              "    }\n",
              "\n",
              "    .dataframe thead th {\n",
              "        text-align: right;\n",
              "    }\n",
              "</style>\n",
              "<table border=\"1\" class=\"dataframe\">\n",
              "  <thead>\n",
              "    <tr style=\"text-align: right;\">\n",
              "      <th></th>\n",
              "      <th>Inter</th>\n",
              "      <th>Degree_1</th>\n",
              "      <th>Degree_2</th>\n",
              "      <th>Degree_3</th>\n",
              "      <th>Degree_4</th>\n",
              "      <th>Degree_5</th>\n",
              "    </tr>\n",
              "  </thead>\n",
              "  <tbody>\n",
              "    <tr>\n",
              "      <th>0</th>\n",
              "      <td>1.0</td>\n",
              "      <td>-2.000000</td>\n",
              "      <td>4.000000</td>\n",
              "      <td>-8.000000</td>\n",
              "      <td>16.000000</td>\n",
              "      <td>-32.000000</td>\n",
              "    </tr>\n",
              "    <tr>\n",
              "      <th>1</th>\n",
              "      <td>1.0</td>\n",
              "      <td>-1.918367</td>\n",
              "      <td>3.680133</td>\n",
              "      <td>-7.059848</td>\n",
              "      <td>13.543381</td>\n",
              "      <td>-25.981180</td>\n",
              "    </tr>\n",
              "    <tr>\n",
              "      <th>2</th>\n",
              "      <td>1.0</td>\n",
              "      <td>-1.836735</td>\n",
              "      <td>3.373594</td>\n",
              "      <td>-6.196398</td>\n",
              "      <td>11.381139</td>\n",
              "      <td>-20.904132</td>\n",
              "    </tr>\n",
              "    <tr>\n",
              "      <th>3</th>\n",
              "      <td>1.0</td>\n",
              "      <td>-1.755102</td>\n",
              "      <td>3.080383</td>\n",
              "      <td>-5.406387</td>\n",
              "      <td>9.488760</td>\n",
              "      <td>-16.653743</td>\n",
              "    </tr>\n",
              "    <tr>\n",
              "      <th>4</th>\n",
              "      <td>1.0</td>\n",
              "      <td>-1.673469</td>\n",
              "      <td>2.800500</td>\n",
              "      <td>-4.686551</td>\n",
              "      <td>7.842799</td>\n",
              "      <td>-13.124684</td>\n",
              "    </tr>\n",
              "  </tbody>\n",
              "</table>\n",
              "</div>"
            ],
            "text/plain": [
              "   Inter  Degree_1  Degree_2  Degree_3   Degree_4   Degree_5\n",
              "0    1.0 -2.000000  4.000000 -8.000000  16.000000 -32.000000\n",
              "1    1.0 -1.918367  3.680133 -7.059848  13.543381 -25.981180\n",
              "2    1.0 -1.836735  3.373594 -6.196398  11.381139 -20.904132\n",
              "3    1.0 -1.755102  3.080383 -5.406387   9.488760 -16.653743\n",
              "4    1.0 -1.673469  2.800500 -4.686551   7.842799 -13.124684"
            ]
          },
          "metadata": {
            "tags": []
          },
          "execution_count": 4
        }
      ]
    },
    {
      "metadata": {
        "id": "xflzz4os0hcf",
        "colab_type": "text"
      },
      "cell_type": "markdown",
      "source": [
        "### OLS Analytical Solution- Question 4(a)(b)(i)"
      ]
    },
    {
      "metadata": {
        "id": "xC89eDLh0hci",
        "colab_type": "code",
        "outputId": "f2690c83-7f65-4550-c6c6-df6e420b1f1a",
        "colab": {}
      },
      "cell_type": "code",
      "source": [
        "theta_ols  = LS_AnalyticalSolu(X, y)\n",
        "print(\"parameters:\\n\" + \"Intercept: \" + str(theta_ols[0]))\n",
        "for degree in range(NumberOfPredictor):\n",
        "    print(\"Degree_\" + str(degree+1) + \": \" + str(theta_ols[degree+1]))\n",
        "yhat_ols = X.dot(theta_ols)\n",
        "print(\"Predicted MSE: \", sum((y - yhat_ols) ** 2)/(2*SampleNum))"
      ],
      "execution_count": 0,
      "outputs": [
        {
          "output_type": "stream",
          "text": [
            "parameters:\n",
            "Intercept: 2.2436966072\n",
            "Degree_1: 0.7776867138\n",
            "Degree_2: -0.6947904786\n",
            "Degree_3: 2.5295307459\n",
            "Degree_4: 0.2931163813\n",
            "Degree_5: -0.495109105\n",
            "Predicted MSE:  1.106505750014385\n"
          ],
          "name": "stdout"
        }
      ]
    },
    {
      "metadata": {
        "id": "SV3r_gEP0hct",
        "colab_type": "text"
      },
      "cell_type": "markdown",
      "source": [
        "### Sklearn OLS Analytical Solution"
      ]
    },
    {
      "metadata": {
        "id": "OzyB7JaQ0hcw",
        "colab_type": "code",
        "outputId": "d1df6650-ee04-4a80-be05-0b44bf6c0cd5",
        "colab": {}
      },
      "cell_type": "code",
      "source": [
        "from sklearn.linear_model import LinearRegression\n",
        "model = LinearRegression(fit_intercept = True)\n",
        "model.fit(X,y)\n",
        "print(\"Intercept: \", model.intercept_)\n",
        "theta_ols2 = np.zeros(NumberOfPredictor+1)\n",
        "theta_ols2[0] = model.intercept_\n",
        "for degree in range(NumberOfPredictor):\n",
        "    print(\"Degree_\" + str(degree+1) + \": \" + str(model.coef_[degree+1]))\n",
        "    theta_ols2[degree+1] = model.coef_[degree+1]\n",
        "yhat_ols2 = X.dot(theta_ols2)\n",
        "print(\"Predicted MSE: \", sum((y - yhat_ols2) ** 2)/(2*SampleNum))"
      ],
      "execution_count": 0,
      "outputs": [
        {
          "output_type": "stream",
          "text": [
            "Intercept:  2.243696607158719\n",
            "Degree_1: 0.7776867138222237\n",
            "Degree_2: -0.6947904786457423\n",
            "Degree_3: 2.529530745863878\n",
            "Degree_4: 0.2931163813136684\n",
            "Degree_5: -0.4951091049956058\n",
            "Predicted MSE:  1.106505750014385\n"
          ],
          "name": "stdout"
        }
      ]
    },
    {
      "metadata": {
        "id": "VLZnxxAk0hc-",
        "colab_type": "text"
      },
      "cell_type": "markdown",
      "source": [
        "### Ridge Analytical Solution- - Question 4(a)(b)(ii)"
      ]
    },
    {
      "metadata": {
        "id": "yJ1HvYHK0hdL",
        "colab_type": "code",
        "outputId": "cfc3fb21-117e-4547-95f9-96f91645a175",
        "colab": {}
      },
      "cell_type": "code",
      "source": [
        "lamda = 5\n",
        "theta_rid  = Rid_AnalyticalSolu_L2(X, y, lamda)\n",
        "print(\"parameters:\\n\" + \"Intercept: \" + str(theta_rid[0]))\n",
        "for degree in range(NumberOfPredictor):\n",
        "    print(\"Degree_\" + str(degree+1) + \": \" + str(theta_rid[degree+1]))   \n",
        "yhat_rid = X.dot(theta_rid)\n",
        "print(\"Predicted MSE: \", sum((y - yhat_rid) ** 2)/(2*SampleNum))"
      ],
      "execution_count": 0,
      "outputs": [
        {
          "output_type": "stream",
          "text": [
            "parameters:\n",
            "Intercept: 2.0825872476\n",
            "Degree_1: 1.2427015284\n",
            "Degree_2: -0.3621460119\n",
            "Degree_3: 1.7581640092\n",
            "Degree_4: 0.2063789515\n",
            "Degree_5: -0.310215767\n",
            "Predicted MSE:  1.1552076544660015\n"
          ],
          "name": "stdout"
        }
      ]
    },
    {
      "metadata": {
        "id": "bQTwqefb0hde",
        "colab_type": "text"
      },
      "cell_type": "markdown",
      "source": [
        "### Sklearn Ridge Analytical Solution"
      ]
    },
    {
      "metadata": {
        "id": "uLJ9xnK50hdf",
        "colab_type": "code",
        "outputId": "80389646-0cf1-4e6f-cf68-e0ce7dfc9431",
        "colab": {}
      },
      "cell_type": "code",
      "source": [
        "from sklearn.linear_model import Ridge\n",
        "model = Ridge(fit_intercept = True, alpha = 5)\n",
        "model.fit(X,y)\n",
        "print(\"Intercept: \", model.intercept_)\n",
        "theta_rid2 = np.zeros(NumberOfPredictor+1)\n",
        "theta_rid2[0] = model.intercept_\n",
        "for degree in range(NumberOfPredictor):\n",
        "    print(\"Degree_\" + str(degree+1) + \": \" + str(model.coef_[degree+1]))\n",
        "    theta_rid2[degree+1] = model.coef_[degree+1]\n",
        "yhat_rid2 = X.dot(theta_rid2)\n",
        "print(\"Predicted MSE: \", sum((y - yhat_rid2) ** 2)/(2*SampleNum))"
      ],
      "execution_count": 0,
      "outputs": [
        {
          "output_type": "stream",
          "text": [
            "Intercept:  2.082587247621997\n",
            "Degree_1: 1.2427015284319172\n",
            "Degree_2: -0.3621460119331465\n",
            "Degree_3: 1.7581640091943402\n",
            "Degree_4: 0.20637895149903693\n",
            "Degree_5: -0.310215767028563\n",
            "Predicted MSE:  1.1552076544609637\n"
          ],
          "name": "stdout"
        }
      ]
    },
    {
      "metadata": {
        "id": "zghuGwW20hdp",
        "colab_type": "text"
      },
      "cell_type": "markdown",
      "source": [
        "### Lasso GD Solution- - Question 4(a)(b)(iii)"
      ]
    },
    {
      "metadata": {
        "id": "It9kQZLZ0hdr",
        "colab_type": "code",
        "outputId": "fd0cf4b9-7a5b-4b43-e8ab-4b91ea2263a9",
        "colab": {}
      },
      "cell_type": "code",
      "source": [
        "max_iter = 1000\n",
        "lamda = 5\n",
        "LearningRate = 0.01\n",
        "Regularization = \"lasso\"\n",
        "theta_init = np.zeros(NumberOfPredictor+1, dtype=np.float64)\n",
        "theta_lasso = Optimizer_func(X, y, LearningRate, theta_init, max_iter, Regularization, lamda)\n",
        "print(\"parameters:\\n\" + \"Intercept: \" + str(theta_lasso[0]))\n",
        "for degree in range(NumberOfPredictor):\n",
        "    print(\"Degree_\" + str(degree+1) + \": \" + str(theta_lasso[degree+1]))\n",
        "yhat_lasso = X.dot(theta_lasso)\n",
        "print(\"Predicted MSE: \", sum((y - yhat_lasso) ** 2)/(2*SampleNum))"
      ],
      "execution_count": 0,
      "outputs": [
        {
          "output_type": "stream",
          "text": [
            "parameters:\n",
            "Intercept: 2.2945189567\n",
            "Degree_1: 0.6783445801\n",
            "Degree_2: 0.0003895451\n",
            "Degree_3: 2.2762e-06\n",
            "Degree_4: 3.47e-08\n",
            "Degree_5: 0.1414712831\n",
            "Predicted MSE:  3.765374294722434\n"
          ],
          "name": "stdout"
        }
      ]
    },
    {
      "metadata": {
        "id": "NQ2L-omF0hdz",
        "colab_type": "text"
      },
      "cell_type": "markdown",
      "source": [
        "### Sklearn Lasso Analytical Solution"
      ]
    },
    {
      "metadata": {
        "id": "EayLkchm0hd3",
        "colab_type": "code",
        "outputId": "e05ff2a1-7947-4ce1-d038-bd776a2e8823",
        "colab": {}
      },
      "cell_type": "code",
      "source": [
        "from sklearn.linear_model import Lasso\n",
        "model = Lasso(fit_intercept = True, alpha = 5.0)\n",
        "model.fit(X,y)\n",
        "print(\"Intercept: \", model.intercept_)\n",
        "theta_lasso2 = np.zeros(NumberOfPredictor+1)\n",
        "theta_lasso2[0] = model.intercept_\n",
        "for degree in range(NumberOfPredictor):\n",
        "    print(\"Degree_\" + str(degree+1) + \": \" + str(model.coef_[degree+1]))\n",
        "    theta_lasso2[degree+1] = model.coef_[degree+1]\n",
        "yhat_lasso2 = X.dot(theta_lasso2)\n",
        "print(\"Predicted MSE: \", sum((y - yhat_lasso2) ** 2)/(2*SampleNum))"
      ],
      "execution_count": 0,
      "outputs": [
        {
          "output_type": "stream",
          "text": [
            "Intercept:  2.295059670086916\n",
            "Degree_1: 0.0\n",
            "Degree_2: 0.0\n",
            "Degree_3: 0.0\n",
            "Degree_4: 0.0\n",
            "Degree_5: 0.2756404714927249\n",
            "Predicted MSE:  3.990256740423181\n"
          ],
          "name": "stdout"
        }
      ]
    },
    {
      "metadata": {
        "id": "sKmvf4g80hd9",
        "colab_type": "code",
        "outputId": "260294c7-b57e-402e-d424-96872cfa3cda",
        "colab": {}
      },
      "cell_type": "code",
      "source": [
        "'''\n",
        "plt.subplot(1, 2, 1)\n",
        "plt.scatter(x, y)\n",
        "# Chart title\n",
        "plt.title('Ordinary Linear Regression')\n",
        "# y-label\n",
        "plt.ylabel('Y')\n",
        "# x-label\n",
        "plt.xlabel('X')\n",
        "# Plot simple linear regression (degree 1)\n",
        "simple, = plt.plot(X[\"Degree_1\"], theta_ols[0] + theta_ols[1]*X[\"Degree_1\"], 'y')\n",
        "# Legend for simple linear regression scatter plot, plot on left\n",
        "plt.legend([simple], ['Degree 1'])\n",
        "'''\n",
        "# Visualize multiple linear regression (degree 5) and L2 loss function (degree 5), figure on the right\n",
        "##plt.subplot(1, 2, 2)\n",
        "plt.scatter(x, y)\n",
        "# Chart title\n",
        "plt.title('Multi-Predictors')\n",
        "# y-label\n",
        "plt.ylabel('Y')\n",
        "# x-label\n",
        "plt.xlabel('X')\n",
        "# Plot multiple linear regression (degree 5)\n",
        "multiple, = (plt.plot(np.sort(X[\"Degree_1\"]), theta_ols[0] + np.sort(X[\"Degree_1\"])*theta_ols[1] \n",
        "         + np.sort(X[\"Degree_2\"])*theta_ols[2] + np.sort(X[\"Degree_3\"])*theta_ols[3] \n",
        "         + np.sort(X[\"Degree_5\"])*theta_ols[4] + np.sort(X[\"Degree_5\"])*theta_ols[5],'-k') )\n",
        "# Plot ridge regression (L2 loss function with degree 5)\n",
        "ridge, = (plt.plot(np.sort(X[\"Degree_1\"]), theta_rid[0] + np.sort(X[\"Degree_1\"])*theta_rid[1] \n",
        "         + np.sort(X[\"Degree_2\"])*theta_rid[2] + np.sort(X[\"Degree_3\"])*theta_rid[3] \n",
        "         + np.sort(X[\"Degree_5\"])*theta_rid[4] + np.sort(X[\"Degree_5\"])*theta_rid[5],'r') )\n",
        "# Set legend for plot on the right\n",
        "plt.legend([multiple, ridge], ['OLS (Degree 5)','L2 Reg (Degree 5)'])\n",
        "# Show scatter plots\n",
        "plt.show()"
      ],
      "execution_count": 0,
      "outputs": [
        {
          "output_type": "display_data",
          "data": {
            "image/png": "[encoded data removed]",
            "text/plain": [
              "<Figure size 432x288 with 1 Axes>"
            ]
          },
          "metadata": {
            "tags": [],
            "needs_background": "light"
          }
        }
      ]
    },
    {
      "metadata": {
        "id": "KcPHHPNR0heK",
        "colab_type": "code",
        "outputId": "f416c0f0-a46f-423f-9388-68fc0b3056f1",
        "colab": {}
      },
      "cell_type": "code",
      "source": [
        "# Visualize multiple linear regression (degree 5) and L1 loss function (degree 5), figure on the right\n",
        "plt.scatter(x, y)\n",
        "# Chart title\n",
        "plt.title('Multi-Predictors')\n",
        "# y-label\n",
        "plt.ylabel('Y')\n",
        "# x-label\n",
        "plt.xlabel('X')\n",
        "# Plot multiple linear regression (degree 5)\n",
        "multiple, = (plt.plot(np.sort(X[\"Degree_1\"]), theta_ols[0] + np.sort(X[\"Degree_1\"])*theta_ols[1] \n",
        "         + np.sort(X[\"Degree_2\"])*theta_ols[2] + np.sort(X[\"Degree_3\"])*theta_ols[3] \n",
        "         + np.sort(X[\"Degree_5\"])*theta_ols[4] + np.sort(X[\"Degree_5\"])*theta_ols[5],'--k') )\n",
        "grad_lasso, = (plt.plot(np.sort(X[\"Degree_1\"]), theta_lasso[0] + np.sort(X[\"Degree_1\"])*theta_lasso[1] \n",
        "         + np.sort(X[\"Degree_2\"])*theta_lasso[2] + np.sort(X[\"Degree_3\"])*theta_lasso[3] \n",
        "         + np.sort(X[\"Degree_5\"])*theta_lasso[4] + np.sort(X[\"Degree_5\"])*theta_lasso[5],'r') )\n",
        "model_lasso, = (plt.plot(np.sort(X[\"Degree_1\"]), theta_lasso2[0] + np.sort(X[\"Degree_1\"])*theta_lasso2[1] \n",
        "         + np.sort(X[\"Degree_2\"])*theta_lasso2[2] + np.sort(X[\"Degree_3\"])*theta_lasso2[3] \n",
        "         + np.sort(X[\"Degree_5\"])*theta_lasso2[4] + np.sort(X[\"Degree_5\"])*theta_lasso2[5],'+g') )\n",
        "# Set legend for plot on the right\n",
        "plt.legend([multiple, grad_lasso, model_lasso], ['Degree 5','L1 by GD (Degree 5)','L1 by Sklearn (Degree 5)'])\n",
        "# Show scatter plots\n",
        "plt.show()\n"
      ],
      "execution_count": 0,
      "outputs": [
        {
          "output_type": "display_data",
          "data": {
            "image/png": "[encoded data removed]",
            "text/plain": [
              "<Figure size 432x288 with 1 Axes>"
            ]
          },
          "metadata": {
            "tags": [],
            "needs_background": "light"
          }
        }
      ]
    },
    {
      "metadata": {
        "id": "m57IPeUu0heP",
        "colab_type": "code",
        "outputId": "25def83f-6451-4fbb-b048-813bc85ee872",
        "colab": {}
      },
      "cell_type": "code",
      "source": [
        "# Visualize multiple linear regression (degree 5) and L1 loss function (degree 5), figure on the right\n",
        "plt.scatter(x, y)\n",
        "# Chart title\n",
        "plt.title('Multi-Predictors')\n",
        "# y-label\n",
        "plt.ylabel('Y')\n",
        "# x-label\n",
        "plt.xlabel('X')\n",
        "grad_lasso, = (plt.plot(np.sort(X[\"Degree_1\"]), theta_lasso[0] + np.sort(X[\"Degree_1\"])*theta_lasso[1] \n",
        "         + np.sort(X[\"Degree_2\"])*theta_lasso[2] + np.sort(X[\"Degree_3\"])*theta_lasso[3] \n",
        "         + np.sort(X[\"Degree_5\"])*theta_lasso[4] + np.sort(X[\"Degree_5\"])*theta_lasso[5],'r') )\n",
        "ridge, = (plt.plot(np.sort(X[\"Degree_1\"]), theta_rid[0] + np.sort(X[\"Degree_1\"])*theta_rid[1] \n",
        "         + np.sort(X[\"Degree_2\"])*theta_rid[2] + np.sort(X[\"Degree_3\"])*theta_rid[3] \n",
        "         + np.sort(X[\"Degree_5\"])*theta_rid[4] + np.sort(X[\"Degree_5\"])*theta_rid[5],'--g') )\n",
        "# Set legend for plot on the right\n",
        "plt.legend([grad_lasso, ridge], ['L1 by GD (Degree 5)','L2 Reg (Degree 5)'])\n",
        "# Show scatter plots\n",
        "plt.show()"
      ],
      "execution_count": 0,
      "outputs": [
        {
          "output_type": "display_data",
          "data": {
            "image/png": "[encoded data removed]",
            "text/plain": [
              "<Figure size 432x288 with 1 Axes>"
            ]
          },
          "metadata": {
            "tags": [],
            "needs_background": "light"
          }
        }
      ]
    },
    {
      "metadata": {
        "id": "Bj4DvuF10hek",
        "colab_type": "code",
        "colab": {}
      },
      "cell_type": "code",
      "source": [
        ""
      ],
      "execution_count": 0,
      "outputs": []
    }
  ]
}