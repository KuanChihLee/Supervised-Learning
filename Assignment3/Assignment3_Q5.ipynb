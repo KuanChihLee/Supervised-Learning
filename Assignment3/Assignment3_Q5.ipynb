{
  "nbformat": 4,
  "nbformat_minor": 0,
  "metadata": {
    "colab": {
      "name": "Assignment3-Q5.ipynb",
      "version": "0.3.2",
      "provenance": [],
      "collapsed_sections": [],
      "include_colab_link": true
    },
    "kernelspec": {
      "display_name": "Python 3",
      "language": "python",
      "name": "python3"
    }
  },
  "cells": [
    {
      "cell_type": "markdown",
      "metadata": {
        "id": "view-in-github",
        "colab_type": "text"
      },
      "source": [
        "<a href=\"https://colab.research.google.com/github/KuanChihLee/Supervised-Learning/blob/master/Assignment3_Q5.ipynb\" target=\"_parent\"><img src=\"https://colab.research.google.com/assets/colab-badge.svg\" alt=\"Open In Colab\"/></a>"
      ]
    },
    {
      "metadata": {
        "id": "Lyd2AjFh3mvN",
        "colab_type": "code",
        "colab": {}
      },
      "cell_type": "code",
      "source": [
        "%matplotlib inline\n",
        "import matplotlib.pyplot as plt\n",
        "plt.style.use('seaborn-whitegrid')\n",
        "import numpy as np\n",
        "import math\n",
        "import pandas as pd\n",
        "import random"
      ],
      "execution_count": 0,
      "outputs": []
    },
    {
      "metadata": {
        "id": "P9mS8bzI3vvx",
        "colab_type": "text"
      },
      "cell_type": "markdown",
      "source": [
        "## This assignment section implements logistic classification model and visualized results."
      ]
    },
    {
      "metadata": {
        "id": "neF1jx-K4wCj",
        "colab_type": "text"
      },
      "cell_type": "markdown",
      "source": [
        "Functions defined"
      ]
    },
    {
      "metadata": {
        "id": "uZ5-nnsF3mvj",
        "colab_type": "code",
        "colab": {}
      },
      "cell_type": "code",
      "source": [
        "def sigmoid(z):\n",
        "    return 1 / (1 + np.exp(-z))\n",
        "\n",
        "\n",
        "def cost(X_train, y_train, weights):\n",
        "    error = sigmoid(X_train.dot(weights)) - y_train\n",
        "    cost = sum(abs(error))\n",
        "    \n",
        "    return cost \n",
        "\n",
        "\n",
        "def batch_gradient_descent(X_train, y_train, weights):\n",
        "    error = sigmoid(X_train.dot(weights)) - y_train\n",
        "    grad = np.round(X_train.T.dot(error), 10)\n",
        "\n",
        "    return grad / X_train.shape[0]\n",
        "\n",
        "\n",
        "def stochastic_gradient_descent(X_train, y_train, weights):\n",
        "    index = random.randint(0, X_train.shape[0]-1)\n",
        "    x = X_train[index]\n",
        "    y = y_train[index] \n",
        "    error = sigmoid(x[np.newaxis, :].dot(weights)) - y\n",
        "    grad = np.round(x*error, 10)\n",
        "\n",
        "    return grad\n",
        "\n",
        "\n",
        "def logistic(dataset, cutoff, iteration, learning_rate, gd='bgd', plot=True):\n",
        "    N, P = dataset.shape\n",
        "    # dataset includes label column, therefore, we substract 1\n",
        "    weights = np.zeros(P-1)\n",
        "    iter_max = iteration\n",
        "    lr = learning_rate\n",
        "    costs = []\n",
        "    \n",
        "    df_train = pd.DataFrame(np.zeros((SampleNum,1)), columns=[\"Category\"])\n",
        "    df_train[\"Category\"][dataset.labels<cutoff] = 0\n",
        "    df_train[\"Category\"][dataset.labels>=cutoff] = 1\n",
        "    X_train = dataset.drop('labels', axis=1).values\n",
        "    y_train = df_train.Category.values\n",
        "    \n",
        "    for iiter in range(iter_max):\n",
        "        if gd == 'sgd':\n",
        "            grad= stochastic_gradient_descent(X_train, y_train, weights)\n",
        "        else:\n",
        "            grad= batch_gradient_descent(X_train, y_train, weights)\n",
        "        weights -=  lr * grad\n",
        "        current_cost = cost(X_train, y_train, weights)\n",
        "        costs.append(current_cost)\n",
        "        #print(\"Current cost:\", current_cost)\n",
        "    if plot == True:\n",
        "        plt.plot(range(iter_max), costs)\n",
        "        plt.title(\"Total cost\")\n",
        "        plt.xlabel(\"Iteration Times\")\n",
        "        plt.ylabel(\"Error\")\n",
        "        plt.show()\n",
        "    return weights\n",
        "\n",
        "\n",
        "def model_predict(dataset, weights, cutoff=0.5, plot_name=\"default\"):\n",
        "    test_model = dataset.copy()\n",
        "    test_model[\"Category\"] = dataset.labels.values\n",
        "    test_model[\"Category\"][dataset.labels<cutoff] = 0\n",
        "    test_model[\"Category\"][dataset.labels>=cutoff] = 1\n",
        "    \n",
        "    idx = 0\n",
        "    count = 0\n",
        "    for value in test_model.loc[:,:\"Feature_2\"].values:\n",
        "        if test_model.Category[idx] == 0 and weights.dot(value[:, np.newaxis]) >= -np.log(1/cutoff-1):\n",
        "            count += 1\n",
        "        elif test_model.Category[idx] == 1 and weights.dot(value[:, np.newaxis]) < -np.log(1/cutoff-1):\n",
        "            count += 1\n",
        "        idx += 1\n",
        "    #print(\"Error Classification Number: \", count)\n",
        "    \n",
        "    if plot_name != 'default':\n",
        "        fig = plt.figure()\n",
        "        ax1 = fig.add_subplot(111)\n",
        "        ax1.scatter(test_model.Feature_1[test_model.Category==0], \n",
        "                    test_model.Feature_2[test_model.Category==0], s=15, c='k', marker='o', label=('y<'+str(cutoff)))\n",
        "        ax1.scatter(test_model.Feature_1[test_model.Category==1], \n",
        "                    test_model.Feature_2[test_model.Category==1], s=15, c='r', marker='x', label=('y>'+str(cutoff)))\n",
        "\n",
        "        line = np.linspace(-1.0, 4.0)\n",
        "        alpha, beta = -weights[1]/weights[2], -(weights[0]+np.log(1/cutoff-1))/weights[2]\n",
        "        alpha_des, beta_des = -1, -(-3+np.log(1/cutoff-1))\n",
        "        ax1.plot(line, alpha * line + beta, 'b-')\n",
        "        ax1.plot(line, alpha_des * line + beta_des, 'r--')\n",
        "        ax1.set_xlabel(\"X1\")\n",
        "        ax1.set_ylabel(\"X2\")\n",
        "        ax1.set_title(plot_name)\n",
        "        plt.legend(loc='upper right');\n",
        "        plt.show()\n",
        "    \n",
        "    return count\n",
        "    \n",
        "    \n",
        "def Create_dataset(NumberOfPredictor, Coefficients, SampleNum, Method='Normal', *argv):\n",
        "    dataset = pd.DataFrame({'Inter': np.ones(SampleNum)})\n",
        "    for degree in range(NumberOfPredictor):\n",
        "        name = \"Feature_\" + str(degree+1)\n",
        "        if Method == 'Uniform':\n",
        "            dataset[name] = np.random.uniform(0, 3.0, SampleNum)\n",
        "        elif Method == 'Normal':\n",
        "            dataset[name] = np.random.normal(0, 2.0, SampleNum)\n",
        "        else:\n",
        "            dataset[name] = np.random.normal(float(argv[0+degree*2]), float(argv[1+degree*2]), SampleNum)\n",
        "    \n",
        "    dataset[\"labels\"] = sigmoid(dataset.loc[:, :(\"Feature_\"+str(NumberOfPredictor))].dot(Coefficients))\n",
        "    return dataset"
      ],
      "execution_count": 0,
      "outputs": []
    },
    {
      "metadata": {
        "id": "cJvQdtDL3mvu",
        "colab_type": "code",
        "colab": {}
      },
      "cell_type": "code",
      "source": [
        "def LDA_classifier(mean_vectors, cov_matrix, dataset, cutoff=0.5, plot_name='default'): \n",
        "    test_model = dataset.copy()\n",
        "    test_model[\"Category\"] = test_model.labels.values\n",
        "    test_model[\"Category\"][test_model.labels<cutoff] = 0\n",
        "    test_model[\"Category\"][test_model.labels>=cutoff] = 1\n",
        "    \n",
        "    clas0_num = len(test_model.Category[test_model.Category==0])\n",
        "    clas1_num = len(test_model.Category[test_model.Category==1])\n",
        "    prior_clas0 = clas0_num / SampleNum\n",
        "    prior_clas1 = clas1_num / SampleNum\n",
        "\n",
        "    ## Important: (x+mean).T Cov(x) (x-mean) -> only in Cov(x) without consideration of class K\n",
        "    a0 = -np.dot((mean_vectors[1] + mean_vectors[0]).T, \n",
        "                 np.linalg.inv(cov_matrix)).dot((mean_vectors[1] - mean_vectors[0])) / 2 + np.log(prior_clas1\n",
        "                                                                                                  /prior_clas0)\n",
        "    a1 = np.linalg.inv(cov_matrix).dot(mean_vectors[1] - mean_vectors[0])\n",
        "    #print(a0)\n",
        "    #print(a1)\n",
        "    pred_labels = []\n",
        "    X_features = test_model.loc[:,'Feature_1':'Feature_2'].values\n",
        "    predicted_values = a0 + X_features.dot(a1)\n",
        "    test_model[\"LDA_solu\"] = [1 if pre_value >= 0 else 0 for pre_value in predicted_values]       \n",
        "\n",
        "    error_classified_num = np.count_nonzero(test_model.LDA_solu.values-test_model.Category.values)\n",
        "    #print(\"Error Rate: %s / %s\" %(error_classified_num, SampleNum))\n",
        "    \n",
        "    if plot_name != 'default':\n",
        "        fig = plt.figure()\n",
        "        ax1 = fig.add_subplot(111)\n",
        "        ax1.scatter(test_model.Feature_1[test_model.Category==0], \n",
        "                    test_model.Feature_2[test_model.Category==0], s=15, c='k', marker='o', label='y=0')\n",
        "        ax1.scatter(test_model.Feature_1[test_model.Category==1], \n",
        "                    test_model.Feature_2[test_model.Category==1], s=15, c='r', marker='x', label='y=1')\n",
        "\n",
        "        line = np.linspace(-1.0, 3.0)\n",
        "        alpha_des, beta_des = -1, -(-3+np.log(1/cutoff-1))\n",
        "        ax1.plot(line, alpha_des * line + beta_des, 'r--')\n",
        "        ax1.plot(line, -a1[0]/a1[1] * line - a0/a1[1], 'b-')\n",
        "        ax1.set_xlabel(\"X1\")\n",
        "        ax1.set_ylabel(\"X2\")\n",
        "        ax1.set_title(plot_name)\n",
        "        plt.legend(loc='upper left');\n",
        "        plt.show()\n",
        "        \n",
        "    return error_classified_num"
      ],
      "execution_count": 0,
      "outputs": []
    },
    {
      "metadata": {
        "id": "Zozi_S6N3mv3",
        "colab_type": "code",
        "colab": {}
      },
      "cell_type": "code",
      "source": [
        "def Fisher_LDA(X_data, label_data):\n",
        "    mean_vectors = []\n",
        "    ## Mean Vector\n",
        "    for clas in range(0,class_num):\n",
        "        mean_vectors.append(np.mean(X_data[label_data==clas], axis=0))\n",
        "        #print('Mean Vector class %s: %s\\n' %(clas, mean_vectors[clas]))\n",
        "\n",
        "    ## Within-class scatter matrix SW\n",
        "    S_W = np.zeros((NumberOfPredictor,NumberOfPredictor))\n",
        "    for clas,mv in zip(range(0,class_num), mean_vectors):\n",
        "        class_sc_mat = np.zeros((NumberOfPredictor,NumberOfPredictor))      # scatter matrix for every class\n",
        "        for row in X_data[label_data == clas]:\n",
        "            row, mv = row.reshape(NumberOfPredictor,1), mv.reshape(NumberOfPredictor,1) # make column vectors\n",
        "            class_sc_mat += (row-mv).dot((row-mv).T)\n",
        "        S_W += class_sc_mat                             # sum class scatter matrices\n",
        "\n",
        "    ## Between-class scatter matrix SB\n",
        "    overall_mean = np.mean(X_data, axis=0)\n",
        "\n",
        "    S_B = np.zeros((NumberOfPredictor,NumberOfPredictor))\n",
        "    for i,mv in enumerate(mean_vectors):  \n",
        "        n = X_data[label_data==i,:].shape[0]\n",
        "        mv = mv.reshape(NumberOfPredictor,1) # make column vector\n",
        "        overall_mean = overall_mean.reshape(NumberOfPredictor,1) # make column vector\n",
        "        S_B += n * (mv - overall_mean).dot((mv - overall_mean).T)\n",
        "\n",
        "    ## Solving the generalized eigenvalue problem for the matrix inv(SW)SB\n",
        "    eig_vals, eig_vecs = np.linalg.eig(np.linalg.inv(S_W).dot(S_B))\n",
        "\n",
        "    for i in range(len(eig_vals)):\n",
        "        eigvec_sc = eig_vecs[:,i].reshape(NumberOfPredictor,1)   \n",
        "\n",
        "    ## Checking the eigenvector-eigenvalue calculation\n",
        "    for i in range(len(eig_vals)):\n",
        "        eigv = eig_vecs[:,i].reshape(NumberOfPredictor,1)\n",
        "        np.testing.assert_array_almost_equal(np.linalg.inv(S_W).dot(S_B).dot(eigv),\n",
        "                                             eig_vals[i] * eigv,\n",
        "                                             decimal=6, err_msg='', verbose=True)\n",
        "\n",
        "    ## Sorting the eigenvectors by decreasing eigenvalues\n",
        "    # Make a list of (eigenvalue, eigenvector) tuples\n",
        "    eig_pairs = [(np.abs(eig_vals[i]), eig_vecs[:,i]) for i in range(len(eig_vals))]\n",
        "\n",
        "    # Sort the (eigenvalue, eigenvector) tuples from high to low\n",
        "    eig_pairs = sorted(eig_pairs, key=lambda k: k[0], reverse=True)\n",
        "\n",
        "    ## Choosing k eigenvectors with the largest eigenvalues\n",
        "    W = np.hstack((eig_pairs[0][1].reshape(NumberOfPredictor,1), eig_pairs[1][1].reshape(NumberOfPredictor,1)))\n",
        "    \n",
        "    return W, mean_vectors\n",
        "\n",
        "\n",
        "def plot_step_lda(X_data, label_data, label_dict):\n",
        "    ax = plt.subplot(111)\n",
        "    for label,marker,color in zip(\n",
        "        range(0,class_num),('^', 's'),('blue', 'red')):\n",
        "\n",
        "        plt.scatter(x=X_data[:,0].real[label_data == label],\n",
        "                y=X_data[:,1].real[label_data == label],\n",
        "                marker=marker,\n",
        "                color=color,\n",
        "                alpha=0.5,\n",
        "                label=label_dict[label]\n",
        "                )\n",
        "\n",
        "    plt.xlabel('LD1')\n",
        "    plt.ylabel('LD2')\n",
        "\n",
        "    leg = plt.legend(loc='upper right', fancybox=True)\n",
        "    leg.get_frame().set_alpha(0.5)\n",
        "    plt.title('LDA: Data Projection onto the first 2 Linear Disciminants')\n",
        "\n",
        "    # hide axis ticks\n",
        "    plt.tick_params(axis=\"both\", which=\"both\", bottom=False, top=False,  \n",
        "            labelbottom=True, left=False, right=False, labelleft=True)\n",
        "\n",
        "    # remove axis spines\n",
        "    ax.spines[\"top\"].set_visible(False)  \n",
        "    ax.spines[\"right\"].set_visible(False)\n",
        "    ax.spines[\"bottom\"].set_visible(False)\n",
        "    ax.spines[\"left\"].set_visible(False)    \n",
        "\n",
        "    plt.grid()\n",
        "    plt.tight_layout\n",
        "    plt.show()"
      ],
      "execution_count": 0,
      "outputs": []
    },
    {
      "metadata": {
        "id": "xwmqZob33mv-",
        "colab_type": "text"
      },
      "cell_type": "markdown",
      "source": [
        "## Problem 5"
      ]
    },
    {
      "metadata": {
        "id": "zdJqikB74ZwL",
        "colab_type": "text"
      },
      "cell_type": "markdown",
      "source": [
        "#### (a) Simulate the training set: N=50 values of X1, distributed Uniformly on interval (0,3) and N=50 values of X2 independent from X1, distributed Uniformly on interval (0,3). Simulate the values of Y ~ Bernoulli(pi = 1=(1 + exp(-(-3+X1+X2))). Repeat the above to simulate the validation set."
      ]
    },
    {
      "metadata": {
        "id": "v5C2KtJz3mwC",
        "colab_type": "code",
        "outputId": "c6471024-9d61-43d1-a4c2-af676d40bd56",
        "colab": {}
      },
      "cell_type": "code",
      "source": [
        "SampleNum = 50\n",
        "NumberOfPredictor = 2\n",
        "Coefficients = np.array([-3, 1, 1])\n",
        "training_dataset = Create_dataset(NumberOfPredictor, Coefficients, SampleNum, Method='Uniform')\n",
        "validation_dataset = Create_dataset(NumberOfPredictor, Coefficients, SampleNum, Method='Uniform')\n",
        "training_dataset.head()"
      ],
      "execution_count": 0,
      "outputs": [
        {
          "output_type": "execute_result",
          "data": {
            "text/html": [
              "<div>\n",
              "<style scoped>\n",
              "    .dataframe tbody tr th:only-of-type {\n",
              "        vertical-align: middle;\n",
              "    }\n",
              "\n",
              "    .dataframe tbody tr th {\n",
              "        vertical-align: top;\n",
              "    }\n",
              "\n",
              "    .dataframe thead th {\n",
              "        text-align: right;\n",
              "    }\n",
              "</style>\n",
              "<table border=\"1\" class=\"dataframe\">\n",
              "  <thead>\n",
              "    <tr style=\"text-align: right;\">\n",
              "      <th></th>\n",
              "      <th>Inter</th>\n",
              "      <th>Feature_1</th>\n",
              "      <th>Feature_2</th>\n",
              "      <th>labels</th>\n",
              "    </tr>\n",
              "  </thead>\n",
              "  <tbody>\n",
              "    <tr>\n",
              "      <th>0</th>\n",
              "      <td>1.0</td>\n",
              "      <td>1.328835</td>\n",
              "      <td>2.003895</td>\n",
              "      <td>0.582424</td>\n",
              "    </tr>\n",
              "    <tr>\n",
              "      <th>1</th>\n",
              "      <td>1.0</td>\n",
              "      <td>0.044520</td>\n",
              "      <td>2.753816</td>\n",
              "      <td>0.449754</td>\n",
              "    </tr>\n",
              "    <tr>\n",
              "      <th>2</th>\n",
              "      <td>1.0</td>\n",
              "      <td>1.301617</td>\n",
              "      <td>2.889227</td>\n",
              "      <td>0.766892</td>\n",
              "    </tr>\n",
              "    <tr>\n",
              "      <th>3</th>\n",
              "      <td>1.0</td>\n",
              "      <td>1.008627</td>\n",
              "      <td>0.401778</td>\n",
              "      <td>0.169441</td>\n",
              "    </tr>\n",
              "    <tr>\n",
              "      <th>4</th>\n",
              "      <td>1.0</td>\n",
              "      <td>2.573516</td>\n",
              "      <td>2.164620</td>\n",
              "      <td>0.850450</td>\n",
              "    </tr>\n",
              "  </tbody>\n",
              "</table>\n",
              "</div>"
            ],
            "text/plain": [
              "   Inter  Feature_1  Feature_2    labels\n",
              "0    1.0   1.328835   2.003895  0.582424\n",
              "1    1.0   0.044520   2.753816  0.449754\n",
              "2    1.0   1.301617   2.889227  0.766892\n",
              "3    1.0   1.008627   0.401778  0.169441\n",
              "4    1.0   2.573516   2.164620  0.850450"
            ]
          },
          "metadata": {
            "tags": []
          },
          "execution_count": 16
        }
      ]
    },
    {
      "metadata": {
        "id": "jjUE1ThJ3mwM",
        "colab_type": "text"
      },
      "cell_type": "markdown",
      "source": [
        "#### Batch Gradient Descent- question 5(b)"
      ]
    },
    {
      "metadata": {
        "id": "XQwzG1Az5KF_",
        "colab_type": "text"
      },
      "cell_type": "markdown",
      "source": [
        "Trainning"
      ]
    },
    {
      "metadata": {
        "id": "kEMCknIF3mwO",
        "colab_type": "code",
        "outputId": "4d90828e-3202-405c-9cea-11e5eac75909",
        "colab": {}
      },
      "cell_type": "code",
      "source": [
        "cutoff = 0.5\n",
        "weights_bgd = logistic(training_dataset, cutoff, 3000, 0.08, gd='bgd', plot=True)"
      ],
      "execution_count": 0,
      "outputs": [
        {
          "output_type": "display_data",
          "data": {
            "image/png": "[encoded data removed]",
            "text/plain": [
              "<Figure size 432x288 with 1 Axes>"
            ]
          },
          "metadata": {
            "tags": []
          }
        }
      ]
    },
    {
      "metadata": {
        "id": "X1FOWfvh5JMM",
        "colab_type": "text"
      },
      "cell_type": "markdown",
      "source": [
        "#### Validation- question 5(d)"
      ]
    },
    {
      "metadata": {
        "id": "MUo4L0b13mwg",
        "colab_type": "code",
        "outputId": "51ca9215-9ff7-4171-c72d-a93821a9433d",
        "colab": {}
      },
      "cell_type": "code",
      "source": [
        "error_count = model_predict(validation_dataset, weights_bgd, cutoff, plot_name=\"Validation set\")\n",
        "print('Error Classification Number: %s / %s\\n' %(error_count, validation_dataset.shape[0]))\n",
        "print(\"Percentage: \", error_count/validation_dataset.shape[0]*100)"
      ],
      "execution_count": 0,
      "outputs": [
        {
          "output_type": "display_data",
          "data": {
            "image/png": "[encoded data removed]",
            "text/plain": [
              "<Figure size 432x288 with 1 Axes>"
            ]
          },
          "metadata": {
            "tags": []
          }
        },
        {
          "output_type": "stream",
          "text": [
            "Error Classification Number: 0 / 50\n",
            "\n",
            "Percentage:  0.0\n"
          ],
          "name": "stdout"
        }
      ]
    },
    {
      "metadata": {
        "id": "Sd2NtoLO3mwv",
        "colab_type": "text"
      },
      "cell_type": "markdown",
      "source": [
        "Note: blue solid line is derived from batch gradient descent, red dash line is designed parameters used as I sample the data."
      ]
    },
    {
      "metadata": {
        "id": "jeWZHszS3mw1",
        "colab_type": "text"
      },
      "cell_type": "markdown",
      "source": [
        "#### Stochastic Gradient Descent- question 5(b)"
      ]
    },
    {
      "metadata": {
        "id": "EQ5Pl2CN3mw5",
        "colab_type": "code",
        "outputId": "8950f738-9c8c-4c3c-9b51-38731e70bf8f",
        "colab": {}
      },
      "cell_type": "code",
      "source": [
        "cutoff=0.5\n",
        "weights_sgd = logistic(training_dataset, cutoff, 3000, 0.08, gd='sgd', plot=True)"
      ],
      "execution_count": 0,
      "outputs": [
        {
          "output_type": "display_data",
          "data": {
            "image/png": "[encoded data removed]",
            "text/plain": [
              "<Figure size 432x288 with 1 Axes>"
            ]
          },
          "metadata": {
            "tags": []
          }
        }
      ]
    },
    {
      "metadata": {
        "id": "PRuMxzkR5fDk",
        "colab_type": "text"
      },
      "cell_type": "markdown",
      "source": [
        "#### Validation- question 5(d)"
      ]
    },
    {
      "metadata": {
        "id": "CIb5pquw3mxA",
        "colab_type": "code",
        "outputId": "6eca551a-a5a8-4bb0-8742-539f327238b5",
        "colab": {}
      },
      "cell_type": "code",
      "source": [
        "error_count = model_predict(validation_dataset, weights_sgd, cutoff, plot_name=\"Validation set\")\n",
        "print('Error Classification Number: %s / %s\\n' %(error_count, validation_dataset.shape[0]))\n",
        "print(\"Percentage: \", error_count/validation_dataset.shape[0]*100)"
      ],
      "execution_count": 0,
      "outputs": [
        {
          "output_type": "display_data",
          "data": {
            "image/png": "[encoded data removed]",
            "text/plain": [
              "<Figure size 432x288 with 1 Axes>"
            ]
          },
          "metadata": {
            "tags": []
          }
        },
        {
          "output_type": "stream",
          "text": [
            "Error Classification Number: 0 / 50\n",
            "\n",
            "Percentage:  0.0\n"
          ],
          "name": "stdout"
        }
      ]
    },
    {
      "metadata": {
        "id": "L33topG13mxH",
        "colab_type": "text"
      },
      "cell_type": "markdown",
      "source": [
        "Note: blue solid line is derived from batch gradient descent, red dash line is designed parameters used as I sample the data."
      ]
    },
    {
      "metadata": {
        "id": "ZauzcRu43mxL",
        "colab_type": "text"
      },
      "cell_type": "markdown",
      "source": [
        "#### LDA classifier with Uniform Distribution predictors- question 5(c)(d)"
      ]
    },
    {
      "metadata": {
        "id": "ns-5TmNv3mxP",
        "colab_type": "code",
        "outputId": "d8a200e7-9267-4f4a-96a8-cf838b3d3b30",
        "colab": {}
      },
      "cell_type": "code",
      "source": [
        "class_num = 2\n",
        "cutoff = 0.5\n",
        "df_train = pd.DataFrame(np.zeros((SampleNum,1)), columns=[\"Category\"])\n",
        "df_train[\"Category\"][training_dataset.labels<cutoff] = 0\n",
        "df_train[\"Category\"][training_dataset.labels>=cutoff] = 1\n",
        "X_train = training_dataset.drop(['Inter', 'labels'], axis=1).values\n",
        "y_train = df_train.Category.values\n",
        "\n",
        "mean_vectors = []\n",
        "for clas in range(0,class_num):\n",
        "    mean_vectors.append(np.mean(X_train[y_train==clas], axis=0))\n",
        "cov_matrix = np.cov(X_train[:,0], X_train[:,1])\n",
        "error_count = LDA_classifier(mean_vectors, cov_matrix, validation_dataset, cutoff, 'Validation Set')\n",
        "print('Error Classification Number: %s / %s\\n' %(error_count, validation_dataset.shape[0]))\n",
        "print(\"Percentage: \", error_count/validation_dataset.shape[0]*100)"
      ],
      "execution_count": 0,
      "outputs": [
        {
          "output_type": "stream",
          "text": [
            "[array([0.81669894, 1.29027014]), array([1.89248246, 2.20703738])]\n"
          ],
          "name": "stdout"
        },
        {
          "output_type": "display_data",
          "data": {
            "image/png": "[encoded data removed]",
            "text/plain": [
              "<Figure size 432x288 with 1 Axes>"
            ]
          },
          "metadata": {
            "tags": []
          }
        },
        {
          "output_type": "stream",
          "text": [
            "Error Classification Number: 1 / 50\n",
            "\n",
            "Percentage:  2.0\n"
          ],
          "name": "stdout"
        }
      ]
    },
    {
      "metadata": {
        "id": "Z6Zw6itS3mxV",
        "colab_type": "text"
      },
      "cell_type": "markdown",
      "source": [
        "Note: blue solid line is derived from batch gradient descent, red dash line is designed parameters used as I sample the data."
      ]
    },
    {
      "metadata": {
        "id": "bztHU4TZ3mxY",
        "colab_type": "text"
      },
      "cell_type": "markdown",
      "source": [
        "#### LDA classifier with Normal Distribution predictors- extra comparision"
      ]
    },
    {
      "metadata": {
        "id": "M22hfyO03mxb",
        "colab_type": "code",
        "outputId": "03f71300-470d-4436-a3f7-3278cfab4c20",
        "colab": {}
      },
      "cell_type": "code",
      "source": [
        "SampleNum = 50\n",
        "NumberOfPredictor = 2\n",
        "Coefficients = np.array([-3, 1, 1])\n",
        "Method = 'MultiNormal'\n",
        "nor_training_dataset = Create_dataset(NumberOfPredictor, Coefficients, SampleNum, Method, '0', '1', '1', '2')\n",
        "nor_validation_dataset = Create_dataset(NumberOfPredictor, Coefficients, SampleNum, Method, '0', '1', '1', '2')\n",
        "\n",
        "cutoff = 0.5\n",
        "df_train_nor = pd.DataFrame(np.zeros((SampleNum,1)), columns=[\"Category\"])\n",
        "df_train_nor[\"Category\"][nor_training_dataset.labels<cutoff] = 0\n",
        "df_train_nor[\"Category\"][nor_training_dataset.labels>=cutoff] = 1\n",
        "\n",
        "X_train_nor = nor_training_dataset.drop(['Inter', 'labels'], axis=1).values\n",
        "y_train_nor = df_train_nor.Category.values\n",
        "\n",
        "mean_vectors = []\n",
        "for clas in range(0,class_num):\n",
        "    mean_vectors.append(np.mean(X_train_nor[y_train_nor==clas], axis=0))\n",
        "cov_matrix = np.cov(X_train_nor[:,0], X_train_nor[:,1])\n",
        "error_count = LDA_classifier(mean_vectors, cov_matrix, nor_validation_dataset, cutoff, 'Normal Validation Set')\n",
        "print('Error Classification Number: %s / %s\\n' %(error_count, nor_validation_dataset.shape[0]))\n",
        "print(\"Percentage: \", error_count/nor_validation_dataset.shape[0]*100)"
      ],
      "execution_count": 0,
      "outputs": [
        {
          "output_type": "display_data",
          "data": {
            "image/png": "[encoded data removed]",
            "text/plain": [
              "<Figure size 432x288 with 1 Axes>"
            ]
          },
          "metadata": {
            "tags": [],
            "needs_background": "light"
          }
        },
        {
          "output_type": "stream",
          "text": [
            "Error Classification Number: 3 / 50\n",
            "\n",
            "Percentage:  6.0\n"
          ],
          "name": "stdout"
        }
      ]
    },
    {
      "metadata": {
        "id": "XRxDxB7P3mxi",
        "colab_type": "text"
      },
      "cell_type": "markdown",
      "source": [
        "Note: blue solid line is derived from batch gradient descent, red dash line is designed parameters used as I sample the data."
      ]
    },
    {
      "metadata": {
        "id": "slIN154T3mxj",
        "colab_type": "text"
      },
      "cell_type": "markdown",
      "source": [
        "#### Fisher's LDA dimension reduction- extra comparison"
      ]
    },
    {
      "metadata": {
        "id": "h2-aOLRT3mxl",
        "colab_type": "text"
      },
      "cell_type": "markdown",
      "source": [
        "#### Training set"
      ]
    },
    {
      "metadata": {
        "id": "rkWaezVZ3mxs",
        "colab_type": "code",
        "outputId": "53e54bb0-ec2b-4933-ed4e-b576919143a6",
        "colab": {}
      },
      "cell_type": "code",
      "source": [
        "class_num = 2\n",
        "cutoff = 0.5\n",
        "df_train = pd.DataFrame(np.zeros((SampleNum,1)), columns=[\"Category\"])\n",
        "df_train[\"Category\"][training_dataset.labels<cutoff] = 0\n",
        "df_train[\"Category\"][training_dataset.labels>=cutoff] = 1\n",
        "X_train = training_dataset.drop(['Inter', 'labels'], axis=1).values\n",
        "y_train = df_train.Category.values\n",
        "\n",
        "W, mean_vectors = Fisher_LDA(X_train, y_train)\n",
        "X_lda = X_train.dot(W)\n",
        "assert X_lda.shape == (50,2), \"The matrix is not 50x2 dimensional.\"\n",
        "label_dict = {0: 'y<0.5', 1: 'y>=0.5'}\n",
        "a = plot_step_lda(X_lda, y_train, label_dict)"
      ],
      "execution_count": 0,
      "outputs": [
        {
          "output_type": "display_data",
          "data": {
            "image/png": "[encoded data removed]",
            "text/plain": [
              "<Figure size 432x288 with 1 Axes>"
            ]
          },
          "metadata": {
            "tags": [],
            "needs_background": "light"
          }
        }
      ]
    },
    {
      "metadata": {
        "id": "fhlu7F7j3mx6",
        "colab_type": "text"
      },
      "cell_type": "markdown",
      "source": [
        "#### Validation set"
      ]
    },
    {
      "metadata": {
        "id": "2_7ieLMn3mx9",
        "colab_type": "code",
        "outputId": "0b7a7588-9cec-4093-e791-bce2874d757c",
        "colab": {}
      },
      "cell_type": "code",
      "source": [
        "class_num = 2\n",
        "cutoff = 0.5\n",
        "df_val = pd.DataFrame(np.zeros((SampleNum,1)), columns=[\"Category\"])\n",
        "df_val[\"Category\"][validation_dataset.labels<cutoff] = 0\n",
        "df_val[\"Category\"][validation_dataset.labels>=cutoff] = 1\n",
        "X_val = validation_dataset.drop(['Inter', 'labels'], axis=1).values\n",
        "y_val = df_val.Category.values\n",
        "\n",
        "X_lda_val = X_val.dot(W)\n",
        "assert X_lda_val.shape == (50,2), \"The matrix is not 50x2 dimensional.\"\n",
        "label_dict = {0: 'y<0.5', 1: 'y>=0.5'}\n",
        "a = plot_step_lda(X_lda_val, y_val, label_dict)"
      ],
      "execution_count": 0,
      "outputs": [
        {
          "output_type": "display_data",
          "data": {
            "image/png": "[encoded data removed]",
            "text/plain": [
              "<Figure size 432x288 with 1 Axes>"
            ]
          },
          "metadata": {
            "tags": [],
            "needs_background": "light"
          }
        }
      ]
    },
    {
      "metadata": {
        "id": "uXU0p2LO3myF",
        "colab_type": "text"
      },
      "cell_type": "markdown",
      "source": [
        "#### Repeated 200 times- question 5(e)"
      ]
    },
    {
      "metadata": {
        "id": "6kfZfQKT3myI",
        "colab_type": "code",
        "colab": {}
      },
      "cell_type": "code",
      "source": [
        "iter_times = 200\n",
        "SampleNum = 50\n",
        "NumberOfPredictor = 2\n",
        "Coefficients = np.array([-3, 1, 1])\n",
        "cutoff = 0.5\n",
        "class_num = 2\n",
        "error_bgd = []\n",
        "error_sgd = []\n",
        "error_LDA = []\n",
        "\n",
        "for iterr in range(iter_times):\n",
        "    training_dataset = Create_dataset(NumberOfPredictor, Coefficients, SampleNum, Method='Uniform')\n",
        "    validation_dataset = Create_dataset(NumberOfPredictor, Coefficients, SampleNum, Method='Uniform')\n",
        "    weights_bgd = logistic(training_dataset, cutoff, 1000, 0.08, gd='bgd', plot=False)\n",
        "    weights_sgd = logistic(training_dataset, cutoff, 1000, 0.08, gd='sgd', plot=False)\n",
        "    error_count_bgd = model_predict(validation_dataset, weights_bgd, cutoff)\n",
        "    error_count_sgd = model_predict(validation_dataset, weights_sgd, cutoff)\n",
        "    error_bgd.append(error_count_bgd)\n",
        "    error_sgd.append(error_count_sgd)\n",
        "    \n",
        "    df_train = pd.DataFrame(np.zeros((SampleNum,1)), columns=[\"Category\"])\n",
        "    df_train[\"Category\"][training_dataset.labels<cutoff] = 0\n",
        "    df_train[\"Category\"][training_dataset.labels>=cutoff] = 1\n",
        "    X_train = training_dataset.drop(['Inter', 'labels'], axis=1).values\n",
        "    y_train = df_train.Category.values\n",
        "    \n",
        "    mean_vectors = []\n",
        "    for clas in range(0,class_num):\n",
        "        mean_vectors.append(np.mean(X_train[y_train==clas], axis=0))\n",
        "    cov_matrix = np.cov(X_train[:,0], X_train[:,1])\n",
        "    error_count_LDA = LDA_classifier(mean_vectors, cov_matrix, validation_dataset, cutoff)\n",
        "    error_LDA.append(error_count_LDA)"
      ],
      "execution_count": 0,
      "outputs": []
    },
    {
      "metadata": {
        "id": "yvvKIweo3myS",
        "colab_type": "code",
        "outputId": "aa9df2a3-2505-4ceb-9dc7-27115477900c",
        "colab": {}
      },
      "cell_type": "code",
      "source": [
        "fig = plt.figure()\n",
        "plt.figure(figsize=(12,6))\n",
        "fig.subplots_adjust(hspace=0.4, wspace=0.4)\n",
        "plt.subplot(1, 3, 1)\n",
        "plt.hist(100-np.array(error_bgd)/validation_dataset.shape[0]*100, bins=20, color=\"lightblue\")\n",
        "plt.xlabel(\"Accuracy Percentages\")\n",
        "plt.ylabel(\"Frequency\")\n",
        "plt.title(\"Batch Gradient Descent\")\n",
        "\n",
        "plt.subplot(1, 3, 2)\n",
        "plt.hist(100-np.array(error_sgd)/validation_dataset.shape[0]*100, bins=20, color=\"lightblue\")\n",
        "plt.xlabel(\"Accuracy Percentages\")\n",
        "plt.ylabel(\"Frequency\")\n",
        "plt.title(\"Stochastic Gradient Descent\")\n",
        "\n",
        "plt.subplot(1, 3, 3)\n",
        "plt.hist(100-np.array(error_LDA)/validation_dataset.shape[0]*100, bins=20, color=\"lightblue\")\n",
        "plt.xlabel(\"Accuracy Percentages\")\n",
        "plt.ylabel(\"Frequency\")\n",
        "plt.title(\"LDA with same Covariacne Matrix\")"
      ],
      "execution_count": 0,
      "outputs": [
        {
          "output_type": "execute_result",
          "data": {
            "text/plain": [
              "Text(0.5, 1.0, 'LDA with same Covariacne Matrix')"
            ]
          },
          "metadata": {
            "tags": []
          },
          "execution_count": 15
        },
        {
          "output_type": "display_data",
          "data": {
            "text/plain": [
              "<Figure size 432x288 with 0 Axes>"
            ]
          },
          "metadata": {
            "tags": []
          }
        },
        {
          "output_type": "display_data",
          "data": {
            "image/png": "[encoded data removed]",
            "text/plain": [
              "<Figure size 864x432 with 3 Axes>"
            ]
          },
          "metadata": {
            "tags": [],
            "needs_background": "light"
          }
        }
      ]
    },
    {
      "metadata": {
        "id": "IJADkZcA3myb",
        "colab_type": "text"
      },
      "cell_type": "markdown",
      "source": [
        "### Interpretation:\n",
        "(1) In this section, the interation times per training is 1000 for each gradient descent practice. In problem 5(e), we can see that the performance of batch gradient descent and stochastic gradient descent are good. Actually, as we use interation=3000, we can get a more precise model compared with the result shown above, even though in validation set.\n",
        "\n",
        "(2) Batch gradient descent has a little bit better results than stochastic gradient descent.\n",
        "\n",
        "(3) Furthermore, as I use Linear Discriminant Analysis as a classifier, I got a really good performance in both training and validation datasets. As we can see, in different created datasets and models in different iteration, the mean and variation of accuracy percentage are pretty small and concentrated between 90~100%.\n",
        "\n",
        "(4) According to the hypothesis, the predictors follow Normal Distribution, I made predictors following X1~N(0,1) and X2~N(1,2) to test the performance under correct assumption. The result is shown in the second part of problem 5(c)(d) above. In summary, if predictors follow Normal Distribution, LDA classifier does work, but I think LDA is not limited in using Normal Distribution only (as the result shown in problem 5(e)).\n",
        "\n",
        "(5) By the way, I also made Fisher's LDA (dimension reduction) model. In this case, I find that because Fisher's model doesn't make the assumption which forces predictors following Normal Distribution, we can obtain a good performance with the visualiztion engineering to \"separate\" two classes. "
      ]
    },
    {
      "metadata": {
        "id": "fftXRb5K6Vho",
        "colab_type": "code",
        "colab": {}
      },
      "cell_type": "code",
      "source": [
        ""
      ],
      "execution_count": 0,
      "outputs": []
    }
  ]
}
