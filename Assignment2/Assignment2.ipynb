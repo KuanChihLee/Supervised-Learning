{
  "nbformat": 4,
  "nbformat_minor": 0,
  "metadata": {
    "colab": {
      "name": "Assignment2.ipynb",
      "version": "0.3.2",
      "provenance": [],
      "collapsed_sections": [
        "kHvPz4lSi5hP",
        "kP0zSKuZi5hR",
        "YFjealRwi5iR",
        "eweXs6Ssi5iS"
      ],
      "include_colab_link": true
    },
    "kernelspec": {
      "display_name": "Python 3",
      "language": "python",
      "name": "python3"
    }
  },
  "cells": [
    {
      "cell_type": "markdown",
      "metadata": {
        "id": "view-in-github",
        "colab_type": "text"
      },
      "source": [
        "<a href=\"https://colab.research.google.com/github/KuanChihLee/Supervised-Learning/blob/master/Assignment2.ipynb\" target=\"_parent\"><img src=\"https://colab.research.google.com/assets/colab-badge.svg\" alt=\"Open In Colab\"/></a>"
      ]
    },
    {
      "metadata": {
        "id": "q3LFRFgii5di",
        "colab_type": "code",
        "colab": {}
      },
      "cell_type": "code",
      "source": [
        "%matplotlib inline\n",
        "import matplotlib.pyplot as plt\n",
        "plt.style.use('seaborn-whitegrid')\n",
        "import numpy as np"
      ],
      "execution_count": 0,
      "outputs": []
    },
    {
      "metadata": {
        "id": "Kokqm94h2MP1",
        "colab_type": "text"
      },
      "cell_type": "markdown",
      "source": [
        "## This Assignment implement Linear Regression applied different regularization methods and a case study using data processing knowledge and regularized models."
      ]
    },
    {
      "metadata": {
        "id": "lTgZ0m3ei5d1",
        "colab_type": "text"
      },
      "cell_type": "markdown",
      "source": [
        "# Question 4"
      ]
    },
    {
      "metadata": {
        "id": "pQU0WWmVjFeq",
        "colab_type": "text"
      },
      "cell_type": "markdown",
      "source": [
        "#### In this question we will evaluate the ability of regularization to perform variable selection."
      ]
    },
    {
      "metadata": {
        "id": "Eqar31aBi5d5",
        "colab_type": "text"
      },
      "cell_type": "markdown",
      "source": [
        "Sampling data from Y = 2 + 3X + e"
      ]
    },
    {
      "metadata": {
        "id": "BAQi4uk_i5d9",
        "colab_type": "code",
        "outputId": "b3e5c5bf-e4f7-4e3e-ff43-9236a79a21a0",
        "colab": {}
      },
      "cell_type": "code",
      "source": [
        "SampleNum = 50\n",
        "Slope = 3\n",
        "Intercept = 2\n",
        "Mean = 0\n",
        "Std = 2\n",
        "#rng = np.random.RandomState(42)\n",
        "#x = 10 * rng.rand(S_Num)\n",
        "es = np.random.normal(Mean, Std, SampleNum)\n",
        "x = np.linspace(-2, 2, SampleNum)\n",
        "y = Slope * x + Intercept + es\n",
        "plt.scatter(x, y)"
      ],
      "execution_count": 0,
      "outputs": [
        {
          "output_type": "execute_result",
          "data": {
            "text/plain": [
              "<matplotlib.collections.PathCollection at 0x7fb797e43898>"
            ]
          },
          "metadata": {
            "tags": []
          },
          "execution_count": 2
        },
        {
          "output_type": "display_data",
          "data": {
            "image/png": "[encoded data removed]",
            "text/plain": [
              "<Figure size 432x288 with 1 Axes>"
            ]
          },
          "metadata": {
            "tags": [],
            "needs_background": "light"
          }
        }
      ]
    },
    {
      "metadata": {
        "id": "8sOSr-Pzi5eO",
        "colab_type": "text"
      },
      "cell_type": "markdown",
      "source": [
        "#### Functions"
      ]
    },
    {
      "metadata": {
        "id": "ClFp1Wy0i5eR",
        "colab_type": "code",
        "colab": {}
      },
      "cell_type": "code",
      "source": [
        "import pandas as pd\n",
        "from random import shuffle\n",
        "from math import sqrt, ceil, floor\n",
        "from numpy.linalg import inv\n",
        "\n",
        "def LS_AnalyticalSolu(x, y):\n",
        "    '''\n",
        "    Analytical solution of least square regression\n",
        "    '''\n",
        "    theta = np.round(np.dot(inv(x.T.dot(x)).dot(x.T), y), 10)\n",
        "    \n",
        "    return theta\n",
        "\n",
        "\n",
        "def Rid_AnalyticalSolu_L2(x, y, lamda):\n",
        "    '''\n",
        "    Analytical solution of L2 least square regression\n",
        "    '''\n",
        "    N, P = x.shape\n",
        "    Identity = np.identity(P)\n",
        "    ## Very important!! We don't add penalty to Intercept\n",
        "    Identity[0,0] = 0\n",
        "    theta = np.round(np.dot(inv(x.T.dot(x) + lamda*Identity).dot(x.T), y), 10)\n",
        "    \n",
        "    return theta\n",
        "\n",
        "\n",
        "def Lasso_AnalyticalSolu_L1(x, y, theta, lamda):\n",
        "    '''\n",
        "    Analytical solution of L1 least square regression\n",
        "    ## In fact, we can't find Analytical Solution for Lasso Regression. \n",
        "    ## This one is GD solution\n",
        "    '''\n",
        "    N, P = x.shape\n",
        "    diag_theta = np.zeros(P)\n",
        "    for ele in range(len(theta)):\n",
        "        if theta[ele] != 0:\n",
        "            diag_theta[ele] = 1 / abs(theta[ele])\n",
        "        else:\n",
        "            diag_theta[ele] = 0\n",
        "    ## Very important!! We don't add penalty to Intercept\n",
        "    diag_theta[0] = 0\n",
        "    ## Very important!! Notice the position of N\n",
        "    theta = np.round(np.dot(inv(x.T.dot(x)/N + lamda*np.diag(diag_theta)).dot(x.T), y)/N, 10)\n",
        "    \n",
        "    return theta\n",
        "\n",
        "\n",
        "def LS_MSE_Loss(x, y, theta):\n",
        "    '''\n",
        "    MSE loss function of least square regression (gradient solution)\n",
        "    '''\n",
        "    N, P = x.shape\n",
        "    grad = np.zeros(P)\n",
        "    \n",
        "    err = x.dot(theta) - y \n",
        "    L = (sum(err ** 2.0))\n",
        "    grad = np.round((2.0*x.T.dot(err)), 10)\n",
        "   \n",
        "    return L, grad\n",
        "    \n",
        "\n",
        "def Rid_MSE_Loss(x, y, theta, lamda):\n",
        "    '''\n",
        "    MSE loss function of L2 least square regression (gradient solution)\n",
        "    '''\n",
        "    N, P = x.shape\n",
        "    grad = np.zeros(P)\n",
        "    \n",
        "    err = x.dot(theta) - y \n",
        "    L2_norm = lamda * np.dot(theta.T, theta)\n",
        "    L = (sum(err ** 2.0) + L2_norm)\n",
        "    grad = np.round(2*(x.T.dot(err) + lamda*theta), 10)\n",
        "   \n",
        "    return L, grad\n",
        "    \n",
        "    \n",
        "def Lasso_MSE_Loss(x, y, theta, lamda):\n",
        "    '''\n",
        "    MSE loss function of L1 least square regression (gradient solution)\n",
        "    '''\n",
        "    N, P = x.shape\n",
        "    grad = np.zeros(P)\n",
        "    \n",
        "    err = x.dot(theta) - y \n",
        "    L1_norm = sum(abs(theta * lamda))\n",
        "    L = sum(err ** 2.0)/(2.0*N) + L1_norm\n",
        "    grad = Lasso_AnalyticalSolu_L1(x, y, theta, lamda)\n",
        "\n",
        "    return L, grad\n",
        "\n",
        "\n",
        "def Optimizer_func(x, y, lr, theta, max_iter, reg = \"LS\", lamda = 0):\n",
        "    '''\n",
        "    Optimizer function for Gradient descent (not Ananlytical solu)\n",
        "      Arguments: \n",
        "        features matrix, \n",
        "        labels, \n",
        "        learning rate, \n",
        "        theta_init, \n",
        "        max_iteration, \n",
        "        regularization name, \n",
        "        lambda\n",
        "      Output:\n",
        "        theta (vector)\n",
        "    '''\n",
        "    N, P = x.shape\n",
        "    order = np.array(range(N))\n",
        "    x_shuffle = np.zeros((1,P))\n",
        "    \n",
        "    for i in range(max_iter):\n",
        "        x_input = x.values\n",
        "        if reg == \"lasso\":\n",
        "            J, grad = Lasso_MSE_Loss(x_input, y, theta, lamda)\n",
        "            theta = grad\n",
        "        elif reg == \"ridge\":\n",
        "            J, grad = Rid_MSE_Loss(x_input, y, theta, lamda)\n",
        "            theta -= lr*grad\n",
        "        else:\n",
        "            J, grad = LS_MSE_Loss(x_input, y, theta)\n",
        "            theta -= lr*grad\n",
        "        \n",
        "    return theta\n",
        "\n",
        "\n",
        "def Create_predictors(x, NumberOfPredictor):\n",
        "    '''\n",
        "    Create higher dimensional features\n",
        "    output:\n",
        "      columns names: intercpt, x^1, x^2, ... x^NumberOfPredictor\n",
        "    '''\n",
        "    X = pd.DataFrame({'Inter': np.ones(len(x))})\n",
        "    for degree in range(NumberOfPredictor):\n",
        "        name = \"Degree_\" + str(degree+1)\n",
        "        X[name] = pow(x, degree+1)\n",
        "        \n",
        "    return X"
      ],
      "execution_count": 0,
      "outputs": []
    },
    {
      "metadata": {
        "id": "WY-41-STi5ea",
        "colab_type": "text"
      },
      "cell_type": "markdown",
      "source": [
        "Creating dataframe for X"
      ]
    },
    {
      "metadata": {
        "id": "S-cSWpkHi5ed",
        "colab_type": "code",
        "outputId": "980b6801-9679-4a7f-bc81-c5a9052cb8af",
        "colab": {}
      },
      "cell_type": "code",
      "source": [
        "NumberOfPredictor = 5\n",
        "X = Create_predictors(x, NumberOfPredictor)\n",
        "X.head()"
      ],
      "execution_count": 0,
      "outputs": [
        {
          "output_type": "execute_result",
          "data": {
            "text/html": [
              "<div>\n",
              "<style scoped>\n",
              "    .dataframe tbody tr th:only-of-type {\n",
              "        vertical-align: middle;\n",
              "    }\n",
              "\n",
              "    .dataframe tbody tr th {\n",
              "        vertical-align: top;\n",
              "    }\n",
              "\n",
              "    .dataframe thead th {\n",
              "        text-align: right;\n",
              "    }\n",
              "</style>\n",
              "<table border=\"1\" class=\"dataframe\">\n",
              "  <thead>\n",
              "    <tr style=\"text-align: right;\">\n",
              "      <th></th>\n",
              "      <th>Inter</th>\n",
              "      <th>Degree_1</th>\n",
              "      <th>Degree_2</th>\n",
              "      <th>Degree_3</th>\n",
              "      <th>Degree_4</th>\n",
              "      <th>Degree_5</th>\n",
              "    </tr>\n",
              "  </thead>\n",
              "  <tbody>\n",
              "    <tr>\n",
              "      <th>0</th>\n",
              "      <td>1.0</td>\n",
              "      <td>-2.000000</td>\n",
              "      <td>4.000000</td>\n",
              "      <td>-8.000000</td>\n",
              "      <td>16.000000</td>\n",
              "      <td>-32.000000</td>\n",
              "    </tr>\n",
              "    <tr>\n",
              "      <th>1</th>\n",
              "      <td>1.0</td>\n",
              "      <td>-1.918367</td>\n",
              "      <td>3.680133</td>\n",
              "      <td>-7.059848</td>\n",
              "      <td>13.543381</td>\n",
              "      <td>-25.981180</td>\n",
              "    </tr>\n",
              "    <tr>\n",
              "      <th>2</th>\n",
              "      <td>1.0</td>\n",
              "      <td>-1.836735</td>\n",
              "      <td>3.373594</td>\n",
              "      <td>-6.196398</td>\n",
              "      <td>11.381139</td>\n",
              "      <td>-20.904132</td>\n",
              "    </tr>\n",
              "    <tr>\n",
              "      <th>3</th>\n",
              "      <td>1.0</td>\n",
              "      <td>-1.755102</td>\n",
              "      <td>3.080383</td>\n",
              "      <td>-5.406387</td>\n",
              "      <td>9.488760</td>\n",
              "      <td>-16.653743</td>\n",
              "    </tr>\n",
              "    <tr>\n",
              "      <th>4</th>\n",
              "      <td>1.0</td>\n",
              "      <td>-1.673469</td>\n",
              "      <td>2.800500</td>\n",
              "      <td>-4.686551</td>\n",
              "      <td>7.842799</td>\n",
              "      <td>-13.124684</td>\n",
              "    </tr>\n",
              "  </tbody>\n",
              "</table>\n",
              "</div>"
            ],
            "text/plain": [
              "   Inter  Degree_1  Degree_2  Degree_3   Degree_4   Degree_5\n",
              "0    1.0 -2.000000  4.000000 -8.000000  16.000000 -32.000000\n",
              "1    1.0 -1.918367  3.680133 -7.059848  13.543381 -25.981180\n",
              "2    1.0 -1.836735  3.373594 -6.196398  11.381139 -20.904132\n",
              "3    1.0 -1.755102  3.080383 -5.406387   9.488760 -16.653743\n",
              "4    1.0 -1.673469  2.800500 -4.686551   7.842799 -13.124684"
            ]
          },
          "metadata": {
            "tags": []
          },
          "execution_count": 4
        }
      ]
    },
    {
      "metadata": {
        "id": "A7gEIc1Qi5ek",
        "colab_type": "text"
      },
      "cell_type": "markdown",
      "source": [
        "#### OLS Analytical Solution- Question 4(a)(b)(i)"
      ]
    },
    {
      "metadata": {
        "id": "E14kzZBfi5ep",
        "colab_type": "code",
        "outputId": "a1d5eae6-49ba-4b62-8ded-113036db6089",
        "colab": {}
      },
      "cell_type": "code",
      "source": [
        "theta_ols  = LS_AnalyticalSolu(X, y)\n",
        "print(\"parameters:\\n\" + \"Intercept: \" + str(theta_ols[0]))\n",
        "for degree in range(NumberOfPredictor):\n",
        "    print(\"Degree_\" + str(degree+1) + \": \" + str(theta_ols[degree+1]))\n",
        "yhat_ols = X.dot(theta_ols)\n",
        "print(\"Predicted MSE: \", sum((y - yhat_ols) ** 2)/(2*SampleNum))"
      ],
      "execution_count": 0,
      "outputs": [
        {
          "output_type": "stream",
          "text": [
            "parameters:\n",
            "Intercept: 1.879164091\n",
            "Degree_1: 5.8774825876\n",
            "Degree_2: 0.1961651719\n",
            "Degree_3: -2.2428156232\n",
            "Degree_4: -0.1300456715\n",
            "Degree_5: 0.3736727348\n",
            "Predicted MSE:  1.7347462023088147\n"
          ],
          "name": "stdout"
        }
      ]
    },
    {
      "metadata": {
        "id": "0HvK9TAwnqc2",
        "colab_type": "text"
      },
      "cell_type": "markdown",
      "source": [
        "Compared with sklearn package"
      ]
    },
    {
      "metadata": {
        "id": "D2hUFUQyi5e2",
        "colab_type": "code",
        "outputId": "b6e17d81-1cde-40fe-c4c8-9a1a1a6510e7",
        "colab": {}
      },
      "cell_type": "code",
      "source": [
        "from sklearn.linear_model import LinearRegression\n",
        "model = LinearRegression(fit_intercept = True)\n",
        "model.fit(X,y)\n",
        "print(\"Intercept: \", model.intercept_)\n",
        "theta_ols2 = np.zeros(NumberOfPredictor+1)\n",
        "theta_ols2[0] = model.intercept_\n",
        "for degree in range(NumberOfPredictor):\n",
        "    print(\"Degree_\" + str(degree+1) + \": \" + str(model.coef_[degree+1]))\n",
        "    theta_ols2[degree+1] = model.coef_[degree+1]\n",
        "yhat_ols2 = X.dot(theta_ols2)\n",
        "print(\"Predicted MSE: \", sum((y - yhat_ols2) ** 2)/(2*SampleNum))"
      ],
      "execution_count": 0,
      "outputs": [
        {
          "output_type": "stream",
          "text": [
            "Intercept:  1.879164091021241\n",
            "Degree_1: 5.877482587556225\n",
            "Degree_2: 0.19616517190805519\n",
            "Degree_3: -2.242815623154832\n",
            "Degree_4: -0.13004567145691404\n",
            "Degree_5: 0.37367273484255453\n",
            "Predicted MSE:  1.7347462023088147\n"
          ],
          "name": "stdout"
        }
      ]
    },
    {
      "metadata": {
        "id": "u2aK4rIui5fL",
        "colab_type": "text"
      },
      "cell_type": "markdown",
      "source": [
        "#### Ridge Analytical Solution- - Question 4(a)(b)(ii)"
      ]
    },
    {
      "metadata": {
        "id": "U-e2mRVni5fT",
        "colab_type": "code",
        "outputId": "4418d6c0-a7ef-4f4b-e8fb-5e485c96ce5c",
        "colab": {}
      },
      "cell_type": "code",
      "source": [
        "lamda = 5\n",
        "theta_rid  = Rid_AnalyticalSolu_L2(X, y, lamda)\n",
        "print(\"parameters:\\n\" + \"Intercept: \" + str(theta_rid[0]))\n",
        "for degree in range(NumberOfPredictor):\n",
        "    print(\"Degree_\" + str(degree+1) + \": \" + str(theta_rid[degree+1]))   \n",
        "yhat_rid = X.dot(theta_rid)\n",
        "print(\"Predicted MSE: \", sum((y - yhat_rid) ** 2)/(2*SampleNum))"
      ],
      "execution_count": 0,
      "outputs": [
        {
          "output_type": "stream",
          "text": [
            "parameters:\n",
            "Intercept: 1.9264985465\n",
            "Degree_1: 2.6896710501\n",
            "Degree_2: 0.0970047902\n",
            "Degree_3: 0.4317741997\n",
            "Degree_4: -0.1039898187\n",
            "Degree_5: -0.1229873553\n",
            "Predicted MSE:  2.1032757617814553\n"
          ],
          "name": "stdout"
        }
      ]
    },
    {
      "metadata": {
        "id": "NiCkXwaMn0D-",
        "colab_type": "text"
      },
      "cell_type": "markdown",
      "source": [
        "Compared with sklearn package"
      ]
    },
    {
      "metadata": {
        "id": "5p-K79eki5fd",
        "colab_type": "code",
        "outputId": "56790266-3403-4b27-e52c-cd7fc7f8743b",
        "colab": {}
      },
      "cell_type": "code",
      "source": [
        "from sklearn.linear_model import Ridge\n",
        "model = Ridge(fit_intercept = True, alpha = 5)\n",
        "model.fit(X,y)\n",
        "print(\"Intercept: \", model.intercept_)\n",
        "theta_rid2 = np.zeros(NumberOfPredictor+1)\n",
        "theta_rid2[0] = model.intercept_\n",
        "for degree in range(NumberOfPredictor):\n",
        "    print(\"Degree_\" + str(degree+1) + \": \" + str(model.coef_[degree+1]))\n",
        "    theta_rid2[degree+1] = model.coef_[degree+1]\n",
        "yhat_rid2 = X.dot(theta_rid2)\n",
        "print(\"Predicted MSE: \", sum((y - yhat_rid2) ** 2)/(2*SampleNum))"
      ],
      "execution_count": 0,
      "outputs": [
        {
          "output_type": "stream",
          "text": [
            "Intercept:  1.9264985465230084\n",
            "Degree_1: 2.6896710500565315\n",
            "Degree_2: 0.09700479024488665\n",
            "Degree_3: 0.4317741996756877\n",
            "Degree_4: -0.10398981874424791\n",
            "Degree_5: -0.12298735530270727\n",
            "Predicted MSE:  2.1032757617932685\n"
          ],
          "name": "stdout"
        }
      ]
    },
    {
      "metadata": {
        "id": "n1cQ80uci5ft",
        "colab_type": "text"
      },
      "cell_type": "markdown",
      "source": [
        "#### Lasso GD Solution- - Question 4(a)(b)(iii)"
      ]
    },
    {
      "metadata": {
        "id": "Nkb13Qv5i5fu",
        "colab_type": "code",
        "outputId": "554596ff-e26f-4313-fae6-e7563cd57f1d",
        "colab": {}
      },
      "cell_type": "code",
      "source": [
        "lamda = 5\n",
        "max_iter = 1000\n",
        "LearningRate = 0.01\n",
        "Regularization = \"lasso\"\n",
        "theta_init = np.zeros(NumberOfPredictor+1, dtype=np.float64)\n",
        "theta_lasso = Optimizer_func(X, y, LearningRate, theta_init, max_iter, Regularization, lamda)\n",
        "print(\"parameters:\\n\" + \"Intercept: \" + str(theta_lasso[0]))\n",
        "for degree in range(NumberOfPredictor):\n",
        "    print(\"Degree_\" + str(degree+1) + \": \" + str(theta_lasso[degree+1]))\n",
        "yhat_lasso = X.dot(theta_lasso)\n",
        "print(\"Predicted MSE: \", sum((y - yhat_lasso) ** 2)/(2*SampleNum))"
      ],
      "execution_count": 0,
      "outputs": [
        {
          "output_type": "stream",
          "text": [
            "parameters:\n",
            "Intercept: 2.071750111\n",
            "Degree_1: 1.6e-09\n",
            "Degree_2: -0.2672855056\n",
            "Degree_3: 1e-10\n",
            "Degree_4: -0.0\n",
            "Degree_5: 0.204486883\n",
            "Predicted MSE:  5.160389582960342\n"
          ],
          "name": "stdout"
        }
      ]
    },
    {
      "metadata": {
        "id": "ksx6WDsEoVE7",
        "colab_type": "text"
      },
      "cell_type": "markdown",
      "source": [
        "Compared with sklearn package"
      ]
    },
    {
      "metadata": {
        "id": "4mJxEk62i5f4",
        "colab_type": "code",
        "outputId": "9e2d84b4-3a44-4cb1-9e24-613fa2a1810f",
        "colab": {}
      },
      "cell_type": "code",
      "source": [
        "from sklearn.linear_model import Lasso\n",
        "model = Lasso(fit_intercept = True, alpha = 5.0)\n",
        "model.fit(X,y)\n",
        "print(\"Intercept: \", model.intercept_)\n",
        "theta_lasso2 = np.zeros(NumberOfPredictor+1)\n",
        "theta_lasso2[0] = model.intercept_\n",
        "for degree in range(NumberOfPredictor):\n",
        "    print(\"Degree_\" + str(degree+1) + \": \" + str(model.coef_[degree+1]))\n",
        "    theta_lasso2[degree+1] = model.coef_[degree+1]\n",
        "yhat_lasso2 = X.dot(theta_lasso2)\n",
        "print(\"Predicted MSE: \", sum((y - yhat_lasso2) ** 2)/(2*SampleNum))"
      ],
      "execution_count": 0,
      "outputs": [
        {
          "output_type": "stream",
          "text": [
            "Intercept:  1.7008232868015216\n",
            "Degree_1: 0.0\n",
            "Degree_2: -0.0\n",
            "Degree_3: 0.0\n",
            "Degree_4: -0.0\n",
            "Degree_5: 0.20448688317107344\n",
            "Predicted MSE:  5.215358201303278\n"
          ],
          "name": "stdout"
        }
      ]
    },
    {
      "metadata": {
        "id": "Su_rALO-i5gD",
        "colab_type": "text"
      },
      "cell_type": "markdown",
      "source": [
        "#### OLS Analytical Solution repeated 1000 times- Question 4(c)(i)"
      ]
    },
    {
      "metadata": {
        "id": "WZrHrZKNi5gE",
        "colab_type": "code",
        "colab": {}
      },
      "cell_type": "code",
      "source": [
        "y_ols_repeat = list()\n",
        "x1_ols_repeat = list()\n",
        "X_1point5 = [1, 1.5, pow(1.5,2), pow(1.5,3), pow(1.5,4), pow(1.5,5)]\n",
        "for Iter in range(1000):\n",
        "    es_predictor = np.random.normal(Mean, Std, SampleNum)\n",
        "    x_predictor = np.linspace(-2, 2, SampleNum)\n",
        "    y_predictor = Slope * x_predictor + Intercept + es_predictor\n",
        "    \n",
        "    NumberOfPredictor = 5\n",
        "    X_predictor = Create_predictors(x_predictor, NumberOfPredictor)\n",
        "    \n",
        "    theta_ols_repeat  = LS_AnalyticalSolu(X_predictor, y_predictor)\n",
        "    x1_ols_repeat.append(theta_ols_repeat[1])\n",
        "    yhat_x = sum(X_1point5*theta_ols_repeat)\n",
        "    y_ols_repeat.append(yhat_x)"
      ],
      "execution_count": 0,
      "outputs": []
    },
    {
      "metadata": {
        "id": "T0J99l-xi5gN",
        "colab_type": "code",
        "outputId": "a1072f00-3144-43c1-e74c-4bd6d6501aab",
        "colab": {}
      },
      "cell_type": "code",
      "source": [
        "fig = plt.figure()\n",
        "fig.subplots_adjust(hspace=0.4, wspace=0.4)\n",
        "plt.subplot(1, 2, 1)\n",
        "plt.hist(x1_ols_repeat, bins=20, color=\"lightblue\")\n",
        "plt.axvline(3, color=\"red\")\n",
        "plt.xlabel(\"Slopes\")\n",
        "plt.ylabel(\"Frequency\")\n",
        "plt.title(\"Coefficient of X Term and True Value\")\n",
        "\n",
        "plt.subplot(1, 2, 2)\n",
        "plt.hist(y_ols_repeat, bins=20, color=\"lightblue\")\n",
        "plt.axvline(2+3*1.5, color=\"red\")\n",
        "plt.xlabel(\"Predicted Y\")\n",
        "plt.ylabel(\"Frequency\")\n",
        "plt.title(\"Predicted Y and True Value\")\n",
        "\n",
        "print(\"Coefficient of X Term and True Value\")\n",
        "print(\"True Value:\", 3)\n",
        "print(\"Mean: \", np.mean(x1_ols_repeat))\n",
        "print(\"Std: \", np.std(x1_ols_repeat))\n",
        "print(\"Min: \", np.min(x1_ols_repeat))\n",
        "print(\"Max: \", np.max(x1_ols_repeat))\n",
        "\n",
        "print(\"\\nPredicted Y and True Value\")\n",
        "print(\"True Value:\", 2+3*1.5)\n",
        "print(\"Mean: \", np.mean(y_ols_repeat))\n",
        "print(\"Std: \", np.std(y_ols_repeat))\n",
        "print(\"Min: \", np.min(y_ols_repeat))\n",
        "print(\"Max: \", np.max(y_ols_repeat))"
      ],
      "execution_count": 0,
      "outputs": [
        {
          "output_type": "stream",
          "text": [
            "Coefficient of X Term and True Value\n",
            "True Value: 3\n",
            "Mean:  3.0040839150895\n",
            "Std:  1.0471448972825643\n",
            "Min:  -8.39049e-05\n",
            "Max:  7.6986592563\n",
            "\n",
            "Predicted Y and True Value\n",
            "True Value: 6.5\n",
            "Mean:  6.509012340930894\n",
            "Std:  0.7148810762345056\n",
            "Min:  4.140649252521875\n",
            "Max:  9.187865116506252\n"
          ],
          "name": "stdout"
        },
        {
          "output_type": "display_data",
          "data": {
            "image/png": "[encoded data removed]",
            "text/plain": [
              "<Figure size 432x288 with 2 Axes>"
            ]
          },
          "metadata": {
            "tags": [],
            "needs_background": "light"
          }
        }
      ]
    },
    {
      "metadata": {
        "id": "FqGJM-A-i5gW",
        "colab_type": "text"
      },
      "cell_type": "markdown",
      "source": [
        "#### Ridge Regresion Analytical Solution repeated 1000 times- Question 4(c)(ii)"
      ]
    },
    {
      "metadata": {
        "id": "mJRTp-Aci5gd",
        "colab_type": "code",
        "colab": {}
      },
      "cell_type": "code",
      "source": [
        "lamda = 5\n",
        "y_rid_repeat = list()\n",
        "x1_rid_repeat = list()\n",
        "X_1point5 = [1, 1.5, pow(1.5,2), pow(1.5,3), pow(1.5,4), pow(1.5,5)]\n",
        "for Iter in range(1000):\n",
        "    es_predictor = np.random.normal(Mean, Std, SampleNum)\n",
        "    x_predictor = np.linspace(-2, 2, SampleNum)\n",
        "    y_predictor = Slope * x_predictor + Intercept + es_predictor\n",
        "    \n",
        "    NumberOfPredictor = 5\n",
        "    X_predictor = Create_predictors(x_predictor, NumberOfPredictor)\n",
        "    \n",
        "    theta_rid_repeat  = Rid_AnalyticalSolu_L2(X_predictor, y_predictor, lamda)\n",
        "    x1_rid_repeat.append(theta_rid_repeat[1])\n",
        "    yhat_x = sum(X_1point5*theta_rid_repeat)\n",
        "    y_rid_repeat.append(yhat_x)"
      ],
      "execution_count": 0,
      "outputs": []
    },
    {
      "metadata": {
        "id": "nVQFVefTi5gn",
        "colab_type": "code",
        "outputId": "1b9f021e-2869-4345-982b-89956da94434",
        "colab": {}
      },
      "cell_type": "code",
      "source": [
        "fig = plt.figure()\n",
        "fig.subplots_adjust(hspace=0.4, wspace=0.4)\n",
        "plt.subplot(1, 2, 1)\n",
        "plt.hist(x1_rid_repeat, bins=20, color=\"lightblue\")\n",
        "plt.axvline(3, color=\"red\")\n",
        "plt.xlabel(\"Slopes\")\n",
        "plt.ylabel(\"Frequency\")\n",
        "plt.title(\"Coefficient of X Term and True Value\")\n",
        "\n",
        "plt.subplot(1, 2, 2)\n",
        "plt.hist(y_rid_repeat, bins=20, color=\"lightblue\")\n",
        "plt.axvline(2+3*1.5, color=\"red\")\n",
        "plt.xlabel(\"Predicted Y\")\n",
        "plt.ylabel(\"Frequency\")\n",
        "plt.title(\"Predicted Y and True Value\")\n",
        "\n",
        "print(\"Coefficient of X Term and True Value\")\n",
        "print(\"True Value:\", 3)\n",
        "print(\"Mean: \", np.mean(x1_rid_repeat))\n",
        "print(\"Std: \", np.std(x1_rid_repeat))\n",
        "print(\"Min: \", np.min(x1_rid_repeat))\n",
        "print(\"Max: \", np.max(x1_rid_repeat))\n",
        "\n",
        "print(\"\\nPredicted Y and True Value\")\n",
        "print(\"True Value:\", 2+3*1.5)\n",
        "print(\"Mean: \", np.mean(y_rid_repeat))\n",
        "print(\"Std: \", np.std(y_rid_repeat))\n",
        "print(\"Min: \", np.min(y_rid_repeat))\n",
        "print(\"Max: \", np.max(y_rid_repeat))"
      ],
      "execution_count": 0,
      "outputs": [
        {
          "output_type": "stream",
          "text": [
            "Coefficient of X Term and True Value\n",
            "True Value: 3\n",
            "Mean:  1.7235142651706001\n",
            "Std:  0.34776269847789265\n",
            "Min:  0.1486798851\n",
            "Max:  2.8579411911\n",
            "\n",
            "Predicted Y and True Value\n",
            "True Value: 6.5\n",
            "Mean:  6.518642376811444\n",
            "Std:  0.5591332578619338\n",
            "Min:  4.408215791965626\n",
            "Max:  8.261559194128125\n"
          ],
          "name": "stdout"
        },
        {
          "output_type": "display_data",
          "data": {
            "image/png": "[encoded data removed]",
            "text/plain": [
              "<Figure size 432x288 with 2 Axes>"
            ]
          },
          "metadata": {
            "tags": [],
            "needs_background": "light"
          }
        }
      ]
    },
    {
      "metadata": {
        "id": "KxCMemTFi5g1",
        "colab_type": "text"
      },
      "cell_type": "markdown",
      "source": [
        "#### Lasso Regression GD solution repeated 1000 times- Question 4(c)(iii)"
      ]
    },
    {
      "metadata": {
        "id": "72Y1Wm_bi5g5",
        "colab_type": "code",
        "colab": {}
      },
      "cell_type": "code",
      "source": [
        "lamda = 5\n",
        "max_iter = 1000\n",
        "LearningRate = 0.01\n",
        "Regularization = \"lasso\"\n",
        "y_lasso_repeat = list()\n",
        "x1_lasso_repeat = list()\n",
        "X_1point5 = [1, 1.5, pow(1.5,2), pow(1.5,3), pow(1.5,4), pow(1.5,5)]\n",
        "for Iter in range(1000):\n",
        "    es_predictor = np.random.normal(Mean, Std, SampleNum)\n",
        "    x_predictor = np.linspace(-2, 2, SampleNum)\n",
        "    y_predictor = Slope * x_predictor + Intercept + es_predictor\n",
        "    \n",
        "    NumberOfPredictor = 5\n",
        "    X_predictor = Create_predictors(x_predictor, NumberOfPredictor)\n",
        "    \n",
        "    theta_init = np.zeros(NumberOfPredictor+1, dtype=np.float64)\n",
        "    theta_lasso_repeat = Optimizer_func(X_predictor, y_predictor, LearningRate, theta_init, max_iter, Regularization, lamda)\n",
        "    x1_lasso_repeat.append(theta_lasso_repeat[1])\n",
        "    yhat_x = sum(X_1point5*theta_lasso_repeat)\n",
        "    y_lasso_repeat.append(yhat_x)"
      ],
      "execution_count": 0,
      "outputs": []
    },
    {
      "metadata": {
        "id": "PTucdRg9i5hB",
        "colab_type": "code",
        "outputId": "f6d87bf0-9d48-40df-a7e2-767bc649e3e3",
        "colab": {}
      },
      "cell_type": "code",
      "source": [
        "fig = plt.figure()\n",
        "fig.subplots_adjust(hspace=0.4, wspace=0.4)\n",
        "plt.subplot(1, 2, 1)\n",
        "plt.hist(x1_lasso_repeat, bins=20, color=\"lightblue\")\n",
        "plt.axvline(3, color=\"red\")\n",
        "plt.xlabel(\"Slopes\")\n",
        "plt.ylabel(\"Frequency\")\n",
        "plt.title(\"Coefficient of X Term and True Value\")\n",
        "\n",
        "plt.subplot(1, 2, 2)\n",
        "plt.hist(y_rid_repeat, bins=20, color=\"lightblue\")\n",
        "plt.axvline(2+3*1.5, color=\"red\")\n",
        "plt.xlabel(\"Predicted Y\")\n",
        "plt.ylabel(\"Frequency\")\n",
        "plt.title(\"Predicted Y and True Value\")\n",
        "\n",
        "print(\"Coefficient of X Term and True Value\")\n",
        "print(\"True Value:\", 3)\n",
        "print(\"Mean: \", np.mean(x1_lasso_repeat))\n",
        "print(\"Std: \", np.std(x1_lasso_repeat))\n",
        "print(\"Min: \", np.min(x1_lasso_repeat))\n",
        "print(\"Max: \", np.max(x1_lasso_repeat))\n",
        "\n",
        "print(\"\\nPredicted Y and True Value\")\n",
        "print(\"True Value:\", 2+3*1.5)\n",
        "print(\"Mean: \", np.mean(y_lasso_repeat))\n",
        "print(\"Std: \", np.std(y_lasso_repeat))\n",
        "print(\"Min: \", np.min(y_lasso_repeat))\n",
        "print(\"Max: \", np.max(y_lasso_repeat))"
      ],
      "execution_count": 0,
      "outputs": [
        {
          "output_type": "stream",
          "text": [
            "Coefficient of X Term and True Value\n",
            "True Value: 3\n",
            "Mean:  0.1755784543357\n",
            "Std:  0.5504209067600884\n",
            "Min:  0.0\n",
            "Max:  3.3823995288\n",
            "\n",
            "Predicted Y and True Value\n",
            "True Value: 6.5\n",
            "Mean:  3.8310924921445375\n",
            "Std:  0.5825350874483418\n",
            "Min:  2.1856693628781256\n",
            "Max:  7.30343230548125\n"
          ],
          "name": "stdout"
        },
        {
          "output_type": "display_data",
          "data": {
            "image/png": "[encoded data removed]",
            "text/plain": [
              "<Figure size 432x288 with 2 Axes>"
            ]
          },
          "metadata": {
            "tags": [],
            "needs_background": "light"
          }
        }
      ]
    },
    {
      "metadata": {
        "id": "kHvPz4lSi5hP",
        "colab_type": "text"
      },
      "cell_type": "markdown",
      "source": [
        "#### question 4(e)-1"
      ]
    },
    {
      "metadata": {
        "id": "kP0zSKuZi5hR",
        "colab_type": "text"
      },
      "cell_type": "markdown",
      "source": [
        "#### Comment on the penalty caused by L1-Norm and L2-Norm\n",
        "1. Based on the result of \"Coefficient of X Term and True Value\" plots, I find that L2-Norm force not only coefficient of X term but also coefficients of higher order term of X to be smaller values. (referring parameters: degree_1 to degree_5)\n",
        "2. L1-Norm forces all coefficients to be exactly \"0\". If we add penalty to intercept term, the plot will be a line that lies on the x axis. \n",
        "\n",
        "#### Comment on Bias&Variance Tradeoff in Question 4(c)\n",
        "1. According to aboved results, I conduct a result that since OLS is high model complexity, 4(c)(i) has a low bias (Mean of predicted Y is close to True value) and high variance compared with the result shown in Ridge and Lasso Regression. That means OLS with high complexity is intended to be overfitting as we expected.\n",
        "2. Compared with Lasso Regression, there is no too much difference on variance term between Ridge and Lasso methods, but Ridge Regression has a good performance on bias term. That means Lasso is intended to be underfitting because high lambda causing a simple model.\n",
        "3. As a result, I think Ridge Regression is more stable method than other two methods."
      ]
    },
    {
      "metadata": {
        "id": "6wzUiEaKi5hS",
        "colab_type": "text"
      },
      "cell_type": "markdown",
      "source": [
        "#### Ridge Regresion repeated 1000 times with different lambda- Question 4(d)(ii)"
      ]
    },
    {
      "metadata": {
        "id": "6ADRVY-Ei5hU",
        "colab_type": "code",
        "colab": {}
      },
      "cell_type": "code",
      "source": [
        "lamdas = [.1, .5, 1.0, 5.0, 10.0, 100.0]\n",
        "X_1point5 = [1, 1.5, pow(1.5,2), pow(1.5,3), pow(1.5,4), pow(1.5,5)]\n",
        "zeros = np.zeros(1000)\n",
        "df = pd.DataFrame()\n",
        "for col in range(len(lamdas)):\n",
        "    df[('lamda'+str(col)+'_Xcoef')] = zeros\n",
        "    df[('lamda'+str(col)+'_ypredic')] = zeros\n",
        "\n",
        "for Iter in range(1000):\n",
        "    es_predictor = np.random.normal(Mean, Std, SampleNum)\n",
        "    x_predictor = np.linspace(-2, 2, SampleNum)\n",
        "    y_predictor = Slope * x_predictor + Intercept + es_predictor\n",
        "    \n",
        "    NumberOfPredictor = 5\n",
        "    X_predictor = Create_predictors(x_predictor, NumberOfPredictor)\n",
        "    \n",
        "    lamda_index = 0\n",
        "    for lamda in lamdas:\n",
        "        theta_rid_repeat  = Rid_AnalyticalSolu_L2(X_predictor, y_predictor, lamda)\n",
        "        df[('lamda'+str(lamda_index)+'_Xcoef')][Iter] = theta_rid_repeat[1]\n",
        "        yhat_x = sum(X_1point5*theta_rid_repeat)\n",
        "        df[('lamda'+str(lamda_index)+'_ypredic')][Iter] = yhat_x\n",
        "        lamda_index += 1"
      ],
      "execution_count": 0,
      "outputs": []
    },
    {
      "metadata": {
        "id": "3_2862bJi5hY",
        "colab_type": "text"
      },
      "cell_type": "markdown",
      "source": [
        "X Term (first order term) vs True Value (designed slope = 3.0)"
      ]
    },
    {
      "metadata": {
        "id": "9AAUlyUni5hZ",
        "colab_type": "code",
        "outputId": "859704c5-a4c9-4e39-c43c-56ecb8c5ad9c",
        "colab": {}
      },
      "cell_type": "code",
      "source": [
        "fig = plt.figure()\n",
        "fig.subplots_adjust(hspace=1.2, wspace=0.6)\n",
        "for idx in range(len(lamdas)):\n",
        "    plt.subplot(3, 3, idx+1)\n",
        "    plt.hist(df[('lamda'+str(idx)+'_Xcoef')].values, bins=20, color=\"lightblue\")\n",
        "    plt.axvline(3, color=\"red\")\n",
        "    plt.xlabel(\"Slopes\")\n",
        "    plt.ylabel(\"Frequency\")\n",
        "    plt.title(\"Lambda= \"+ str(lamdas[idx]))"
      ],
      "execution_count": 0,
      "outputs": [
        {
          "output_type": "display_data",
          "data": {
            "image/png": "[encoded data removed]",
            "text/plain": [
              "<Figure size 432x288 with 6 Axes>"
            ]
          },
          "metadata": {
            "tags": [],
            "needs_background": "light"
          }
        }
      ]
    },
    {
      "metadata": {
        "id": "9qzUxBVmi5hj",
        "colab_type": "text"
      },
      "cell_type": "markdown",
      "source": [
        "Predicted Y vs True Value (label value)"
      ]
    },
    {
      "metadata": {
        "id": "7lD1P3W_qUOz",
        "colab_type": "text"
      },
      "cell_type": "markdown",
      "source": [
        "Here, we want to predict X = 1.5, therefore, True value Y = 3.0 * 1.5 + 2 "
      ]
    },
    {
      "metadata": {
        "id": "JdGTEAUxi5hq",
        "colab_type": "code",
        "outputId": "6b17d90d-995a-4ef2-9d83-50590c496fd3",
        "colab": {}
      },
      "cell_type": "code",
      "source": [
        "fig = plt.figure()\n",
        "fig.subplots_adjust(hspace=1.2, wspace=0.6)\n",
        "for idx in range(len(lamdas)):\n",
        "    plt.subplot(3, 3, idx+1)\n",
        "    plt.hist(df[('lamda'+str(idx)+'_ypredic')].values, bins=20, color=\"lightblue\")\n",
        "    plt.axvline(2+3*1.5, color=\"red\")\n",
        "    plt.xlabel(\"Predicted Y\")\n",
        "    plt.ylabel(\"Frequency\")\n",
        "    plt.title(\"Lambda= \"+ str(lamdas[idx]))"
      ],
      "execution_count": 0,
      "outputs": [
        {
          "output_type": "display_data",
          "data": {
            "image/png": "[encoded data removed]",
            "text/plain": [
              "<Figure size 432x288 with 6 Axes>"
            ]
          },
          "metadata": {
            "tags": [],
            "needs_background": "light"
          }
        }
      ]
    },
    {
      "metadata": {
        "id": "_rq4_5R3i5h4",
        "colab_type": "text"
      },
      "cell_type": "markdown",
      "source": [
        "#### Lasso Regresion- Question 4(d)(iii)"
      ]
    },
    {
      "metadata": {
        "id": "4X-G1NEFi5h5",
        "colab_type": "code",
        "outputId": "4900918b-05bb-40d9-9dc1-16d8e2932f13",
        "colab": {}
      },
      "cell_type": "code",
      "source": [
        "lamdas = [.1, .5, 1.0, 5.0, 10.0, 100.0]\n",
        "X_1point5 = [1, 1.5, pow(1.5,2), pow(1.5,3), pow(1.5,4), pow(1.5,5)]\n",
        "zeros = np.zeros(1000)\n",
        "df = pd.DataFrame()\n",
        "for col in range(len(lamdas)):\n",
        "    df[('lamda'+str(col)+'_Xcoef')] = zeros\n",
        "    df[('lamda'+str(col)+'_ypredic')] = zeros\n",
        "\n",
        "LearningRate = 0.01\n",
        "Regularization = \"lasso\"\n",
        "for Iter in range(1000):\n",
        "    es_predictor = np.random.normal(Mean, Std, SampleNum)\n",
        "    x_predictor = np.linspace(-2, 2, SampleNum)\n",
        "    y_predictor = Slope * x_predictor + Intercept + es_predictor\n",
        "    \n",
        "    NumberOfPredictor = 5\n",
        "    X_predictor = Create_predictors(x_predictor, NumberOfPredictor)\n",
        "    \n",
        "    if Iter%200== 0:\n",
        "        print(Iter)\n",
        "    lamda_index = 0\n",
        "    for lamda in lamdas:\n",
        "        theta_init = np.zeros(NumberOfPredictor+1, dtype=np.float64)\n",
        "        theta_lasso_repeat = Optimizer_func(X_predictor, y_predictor, LearningRate, theta_init, max_iter, Regularization, lamda)\n",
        "        df[('lamda'+str(lamda_index)+'_Xcoef')][Iter] = theta_lasso_repeat[1]\n",
        "        yhat_x = sum(X_1point5*theta_lasso_repeat)\n",
        "        df[('lamda'+str(lamda_index)+'_ypredic')][Iter] = yhat_x\n",
        "        lamda_index += 1"
      ],
      "execution_count": 0,
      "outputs": [
        {
          "output_type": "stream",
          "text": [
            "0\n",
            "200\n",
            "400\n",
            "600\n",
            "800\n"
          ],
          "name": "stdout"
        }
      ]
    },
    {
      "metadata": {
        "id": "w8WM01oSi5iA",
        "colab_type": "text"
      },
      "cell_type": "markdown",
      "source": [
        "X Term (first order term) vs True Value (designed slope = 3.0)"
      ]
    },
    {
      "metadata": {
        "id": "rm8Bb3p1i5iD",
        "colab_type": "code",
        "outputId": "d0c72aad-f5a9-46db-e2e9-a5630c79b69f",
        "colab": {}
      },
      "cell_type": "code",
      "source": [
        "fig = plt.figure()\n",
        "fig.subplots_adjust(hspace=1.2, wspace=0.6)\n",
        "for idx in range(len(lamdas)):\n",
        "    plt.subplot(3, 3, idx+1)\n",
        "    plt.hist(df[('lamda'+str(idx)+'_Xcoef')].values, bins=20, color=\"lightblue\")\n",
        "    plt.axvline(3, color=\"red\")\n",
        "    plt.xlabel(\"Slopes\")\n",
        "    plt.ylabel(\"Frequency\")\n",
        "    plt.title(\"Lambda= \"+ str(lamdas[idx]))"
      ],
      "execution_count": 0,
      "outputs": [
        {
          "output_type": "display_data",
          "data": {
            "image/png": "[encoded data removed]",
            "text/plain": [
              "<Figure size 432x288 with 6 Axes>"
            ]
          },
          "metadata": {
            "tags": [],
            "needs_background": "light"
          }
        }
      ]
    },
    {
      "metadata": {
        "id": "InBgXhLbi5iL",
        "colab_type": "text"
      },
      "cell_type": "markdown",
      "source": [
        "Predicted Y vs True Value (label value)"
      ]
    },
    {
      "metadata": {
        "id": "7mVEtdHqqzD_",
        "colab_type": "text"
      },
      "cell_type": "markdown",
      "source": [
        "Here, we want to predict X = 1.5, therefore, True value Y = 3.0 * 1.5 + 2 "
      ]
    },
    {
      "metadata": {
        "id": "UeytAmp4i5iM",
        "colab_type": "code",
        "outputId": "a2925ea2-a3e9-414e-89a5-c13b48021c79",
        "colab": {}
      },
      "cell_type": "code",
      "source": [
        "fig = plt.figure()\n",
        "fig.subplots_adjust(hspace=1.2, wspace=0.6)\n",
        "for idx in range(len(lamdas)):\n",
        "    plt.subplot(3, 3, idx+1)\n",
        "    plt.hist(df[('lamda'+str(idx)+'_ypredic')].values, bins=20, color=\"lightblue\")\n",
        "    plt.axvline(2+3*1.5, color=\"red\")\n",
        "    plt.xlabel(\"Predicted Y\")\n",
        "    plt.ylabel(\"Frequency\")\n",
        "    plt.title(\"Lambda= \"+ str(lamdas[idx]))"
      ],
      "execution_count": 0,
      "outputs": [
        {
          "output_type": "display_data",
          "data": {
            "image/png": "[encoded data removed]",
            "text/plain": [
              "<Figure size 432x288 with 6 Axes>"
            ]
          },
          "metadata": {
            "tags": [],
            "needs_background": "light"
          }
        }
      ]
    },
    {
      "metadata": {
        "id": "YFjealRwi5iR",
        "colab_type": "text"
      },
      "cell_type": "markdown",
      "source": [
        "#### question 4(e)-2"
      ]
    },
    {
      "metadata": {
        "id": "eweXs6Ssi5iS",
        "colab_type": "text"
      },
      "cell_type": "markdown",
      "source": [
        "#### Comment on the penalty caused by L1-Norm and L2-Norm\n",
        "1. Based on the result of \"Coefficient of X Term and True Value\" plots, I find that in L2-norm, as Lambda is in the range 0 to 1, X term coefficents don't deviate from the true value too much, but distribution seems to be wider and wider as Lanbda increase. But, L1-norm is very sensitive as Lanbda increase.\n",
        "2. Based on the result of \"Predicted Y and True Value\", I find that L2-norm is more stable as Lanbda increases (the regression still has ability to predict the true value). But, L1-norm strongly penalize all coefficients that extremely reduce model complexity as Lanbda increases."
      ]
    },
    {
      "metadata": {
        "id": "VUqhUr1vi5iT",
        "colab_type": "text"
      },
      "cell_type": "markdown",
      "source": [
        "# Question 5"
      ]
    },
    {
      "metadata": {
        "id": "HB5kRYIarBiF",
        "colab_type": "text"
      },
      "cell_type": "markdown",
      "source": [
        "#### Case Study"
      ]
    },
    {
      "metadata": {
        "id": "RI9dfVQyi5iW",
        "colab_type": "code",
        "outputId": "29bac39c-5bef-420c-b338-530a69fcd1b1",
        "colab": {}
      },
      "cell_type": "code",
      "source": [
        "%matplotlib inline\n",
        "import matplotlib.pyplot as plt\n",
        "plt.style.use('seaborn-whitegrid')\n",
        "import numpy as np\n",
        "import pandas as pd\n",
        "from sklearn.linear_model import Lasso\n",
        "from sklearn.linear_model import LinearRegression\n",
        "from sklearn.linear_model import Ridge\n",
        "from sklearn.model_selection import train_test_split\n",
        "\n",
        "from sklearn.feature_extraction import DictVectorizer\n",
        "\n",
        "# Saving TXT file to CSV file\n",
        "import csv\n",
        "import sys\n",
        "\n",
        "txt_file = \"./sales_data.txt\"\n",
        "csv_file = \"./sales_data.csv\"\n",
        "\n",
        "with open(txt_file, \"rt\") as fin:\n",
        "    lines = fin.readlines()\n",
        "    data = [line.split() for line in lines]        \n",
        "    \n",
        "with open(csv_file, 'wt') as fout:\n",
        "    out_csv = csv.writer(fout)\n",
        "    out_csv.writerows(data)\n",
        "    \n",
        "# Saving CSV file to dataframe\n",
        "df_house = pd.read_csv(csv_file, names=['ID', 'SalPrice', 'SquFeet', 'Bedrooms', 'Bathrooms', 'AC', \n",
        "                                        'GaraSize', 'Pool', 'Year', 'Quality', 'Style', 'LotSize', 'AdjaHW']) \n",
        "df_house.head()"
      ],
      "execution_count": 0,
      "outputs": [
        {
          "output_type": "execute_result",
          "data": {
            "text/html": [
              "<div>\n",
              "<style scoped>\n",
              "    .dataframe tbody tr th:only-of-type {\n",
              "        vertical-align: middle;\n",
              "    }\n",
              "\n",
              "    .dataframe tbody tr th {\n",
              "        vertical-align: top;\n",
              "    }\n",
              "\n",
              "    .dataframe thead th {\n",
              "        text-align: right;\n",
              "    }\n",
              "</style>\n",
              "<table border=\"1\" class=\"dataframe\">\n",
              "  <thead>\n",
              "    <tr style=\"text-align: right;\">\n",
              "      <th></th>\n",
              "      <th>ID</th>\n",
              "      <th>SalPrice</th>\n",
              "      <th>SquFeet</th>\n",
              "      <th>Bedrooms</th>\n",
              "      <th>Bathrooms</th>\n",
              "      <th>AC</th>\n",
              "      <th>GaraSize</th>\n",
              "      <th>Pool</th>\n",
              "      <th>Year</th>\n",
              "      <th>Quality</th>\n",
              "      <th>Style</th>\n",
              "      <th>LotSize</th>\n",
              "      <th>AdjaHW</th>\n",
              "    </tr>\n",
              "  </thead>\n",
              "  <tbody>\n",
              "    <tr>\n",
              "      <th>0</th>\n",
              "      <td>1</td>\n",
              "      <td>360000</td>\n",
              "      <td>3032</td>\n",
              "      <td>4</td>\n",
              "      <td>4</td>\n",
              "      <td>1</td>\n",
              "      <td>2</td>\n",
              "      <td>0</td>\n",
              "      <td>1972</td>\n",
              "      <td>2</td>\n",
              "      <td>1</td>\n",
              "      <td>22221</td>\n",
              "      <td>0</td>\n",
              "    </tr>\n",
              "    <tr>\n",
              "      <th>1</th>\n",
              "      <td>2</td>\n",
              "      <td>340000</td>\n",
              "      <td>2058</td>\n",
              "      <td>4</td>\n",
              "      <td>2</td>\n",
              "      <td>1</td>\n",
              "      <td>2</td>\n",
              "      <td>0</td>\n",
              "      <td>1976</td>\n",
              "      <td>2</td>\n",
              "      <td>1</td>\n",
              "      <td>22912</td>\n",
              "      <td>0</td>\n",
              "    </tr>\n",
              "    <tr>\n",
              "      <th>2</th>\n",
              "      <td>3</td>\n",
              "      <td>250000</td>\n",
              "      <td>1780</td>\n",
              "      <td>4</td>\n",
              "      <td>3</td>\n",
              "      <td>1</td>\n",
              "      <td>2</td>\n",
              "      <td>0</td>\n",
              "      <td>1980</td>\n",
              "      <td>2</td>\n",
              "      <td>1</td>\n",
              "      <td>21345</td>\n",
              "      <td>0</td>\n",
              "    </tr>\n",
              "    <tr>\n",
              "      <th>3</th>\n",
              "      <td>4</td>\n",
              "      <td>205500</td>\n",
              "      <td>1638</td>\n",
              "      <td>4</td>\n",
              "      <td>2</td>\n",
              "      <td>1</td>\n",
              "      <td>2</td>\n",
              "      <td>0</td>\n",
              "      <td>1963</td>\n",
              "      <td>2</td>\n",
              "      <td>1</td>\n",
              "      <td>17342</td>\n",
              "      <td>0</td>\n",
              "    </tr>\n",
              "    <tr>\n",
              "      <th>4</th>\n",
              "      <td>5</td>\n",
              "      <td>275500</td>\n",
              "      <td>2196</td>\n",
              "      <td>4</td>\n",
              "      <td>3</td>\n",
              "      <td>1</td>\n",
              "      <td>2</td>\n",
              "      <td>0</td>\n",
              "      <td>1968</td>\n",
              "      <td>2</td>\n",
              "      <td>7</td>\n",
              "      <td>21786</td>\n",
              "      <td>0</td>\n",
              "    </tr>\n",
              "  </tbody>\n",
              "</table>\n",
              "</div>"
            ],
            "text/plain": [
              "   ID  SalPrice  SquFeet  Bedrooms  Bathrooms  AC  GaraSize  Pool  Year  \\\n",
              "0   1    360000     3032         4          4   1         2     0  1972   \n",
              "1   2    340000     2058         4          2   1         2     0  1976   \n",
              "2   3    250000     1780         4          3   1         2     0  1980   \n",
              "3   4    205500     1638         4          2   1         2     0  1963   \n",
              "4   5    275500     2196         4          3   1         2     0  1968   \n",
              "\n",
              "   Quality  Style  LotSize  AdjaHW  \n",
              "0        2      1    22221       0  \n",
              "1        2      1    22912       0  \n",
              "2        2      1    21345       0  \n",
              "3        2      1    17342       0  \n",
              "4        2      7    21786       0  "
            ]
          },
          "metadata": {
            "tags": []
          },
          "execution_count": 23
        }
      ]
    },
    {
      "metadata": {
        "id": "8R-ELdE7i5ib",
        "colab_type": "code",
        "colab": {}
      },
      "cell_type": "code",
      "source": [
        "X_house = df_house.drop(['ID', 'SalPrice'], axis=1)\n",
        "y_house = df_house['SalPrice']"
      ],
      "execution_count": 0,
      "outputs": []
    },
    {
      "metadata": {
        "id": "S8piHESHi5ie",
        "colab_type": "text"
      },
      "cell_type": "markdown",
      "source": [
        "#### Using raw data as input to do OLS, Lasso and Ridge - Only use training data set"
      ]
    },
    {
      "metadata": {
        "id": "9CmHHtnVi5if",
        "colab_type": "text"
      },
      "cell_type": "markdown",
      "source": [
        "#### OLS with raw data- question 5(a)"
      ]
    },
    {
      "metadata": {
        "id": "5bSQ02Y1i5if",
        "colab_type": "code",
        "outputId": "f0e91e49-850e-4f21-af46-8bf27dbb17cd",
        "colab": {}
      },
      "cell_type": "code",
      "source": [
        "paras_list = list()\n",
        "es = 0\n",
        "error = 0\n",
        "es_percent= 0\n",
        "error_per = 0\n",
        "IterTimes = 1000\n",
        "for Iter in range(IterTimes):\n",
        "    X_train_iter, X_test_iter, y_train_iter, y_test_iter = train_test_split(X_house, y_house, test_size=0.2, shuffle=True)\n",
        "    X_train_iter, X_val_iter, y_train_iter, y_val_iter = train_test_split(X_train_iter, y_train_iter, test_size=0.2, shuffle=True)\n",
        "\n",
        "    model = LinearRegression(fit_intercept=True)\n",
        "    model.fit(X_train_iter,y_train_iter)\n",
        "    ymodel = model.predict(X_train_iter)\n",
        "    \n",
        "    y_predict = np.array(ymodel)\n",
        "    y_true_val = np.array(y_val_iter)\n",
        "    y_true_train = np.array(y_train_iter)\n",
        "    X_true_val = np.array(X_val_iter)\n",
        "    X_true_train = np.array(X_train_iter)\n",
        "\n",
        "    paras_list.append(model.coef_)  \n",
        "    \n",
        "    es = np.sqrt( sum((y_predict - y_true_train)**2) / len(y_predict) )\n",
        "    es_percent = sum(np.abs(y_true_train - y_predict) / y_true_train) * 100 / len(y_true_train)\n",
        "    error += es\n",
        "    error_per += es_percent\n",
        "    \n",
        "params = pd.Series(np.sum(paras_list, axis=0) / IterTimes, index=X_train_iter.columns)\n",
        "\n",
        "print(\"\\nTotal Error: \", error / IterTimes)\n",
        "print(\"Percentage Error: \", error_per / IterTimes, '%')\n",
        "print(pd.DataFrame({'Coefficient': params.round(2)}))"
      ],
      "execution_count": 0,
      "outputs": [
        {
          "output_type": "stream",
          "text": [
            "\n",
            "Total Error:  62351.40137574111\n",
            "Percentage Error:  17.385250541152452 %\n",
            "           Coefficient\n",
            "SquFeet         131.09\n",
            "Bedrooms      -8824.53\n",
            "Bathrooms      3063.08\n",
            "AC           -14017.81\n",
            "GaraSize      13913.11\n",
            "Pool           9601.55\n",
            "Year           1275.26\n",
            "Quality      -48024.35\n",
            "Style         -9505.06\n",
            "LotSize           1.19\n",
            "AdjaHW       -38687.06\n"
          ],
          "name": "stdout"
        }
      ]
    },
    {
      "metadata": {
        "id": "veeZumBoi5io",
        "colab_type": "text"
      },
      "cell_type": "markdown",
      "source": [
        "### Ridge with raw data"
      ]
    },
    {
      "metadata": {
        "id": "S8tQgp29i5ip",
        "colab_type": "code",
        "outputId": "b2ed777b-d910-465d-dcbd-d61c086768d4",
        "colab": {}
      },
      "cell_type": "code",
      "source": [
        "paras_list = list()\n",
        "es = 0\n",
        "error = 0\n",
        "es_percent= 0\n",
        "error_per = 0\n",
        "IterTimes = 1000\n",
        "for Iter in range(IterTimes):\n",
        "    X_train_iter, X_test_iter, y_train_iter, y_test_iter = train_test_split(X_house, y_house, test_size=0.2, shuffle=True)\n",
        "    X_train_iter, X_val_iter, y_train_iter, y_val_iter = train_test_split(X_train_iter, y_train_iter, test_size=0.2, shuffle=True)\n",
        "\n",
        "    model = Ridge(fit_intercept=True, alpha=1.5)\n",
        "    model.fit(X_train_iter,y_train_iter)\n",
        "    ymodel = model.predict(X_train_iter)\n",
        "    \n",
        "    y_predict = np.array(ymodel)\n",
        "    y_true_val = np.array(y_val_iter)\n",
        "    y_true_train = np.array(y_train_iter)\n",
        "    X_true_val = np.array(X_val_iter)\n",
        "    X_true_train = np.array(X_train_iter)\n",
        "    \n",
        "    paras_list.append(model.coef_)\n",
        "    \n",
        "    es = np.sqrt( sum((y_predict - y_true_train)**2) / len(y_predict) )\n",
        "    es_percent = sum(np.abs(y_true_train - y_predict) / y_true_train) * 100 / len(y_true_train)\n",
        "    error += es\n",
        "    error_per += es_percent\n",
        "    \n",
        "params = pd.Series(np.sum(paras_list, axis=0) / IterTimes, index=X_train_iter.columns)\n",
        "\n",
        "print(\"\\nTotal Error: \", error / IterTimes)\n",
        "print(\"Percentage Error: \", error_per / IterTimes, '%')\n",
        "print(pd.DataFrame({'Coefficient': params.round(2)}))"
      ],
      "execution_count": 0,
      "outputs": [
        {
          "output_type": "stream",
          "text": [
            "\n",
            "Total Error:  62281.34685344734\n",
            "Percentage Error:  17.258894671902297 %\n",
            "           Coefficient\n",
            "SquFeet         130.97\n",
            "Bedrooms      -8995.82\n",
            "Bathrooms      3446.76\n",
            "AC           -12210.66\n",
            "GaraSize      13943.39\n",
            "Pool           8955.81\n",
            "Year           1272.11\n",
            "Quality      -46299.52\n",
            "Style         -9422.07\n",
            "LotSize           1.21\n",
            "AdjaHW       -31224.47\n"
          ],
          "name": "stdout"
        }
      ]
    },
    {
      "metadata": {
        "id": "Cdq9pE81i5i6",
        "colab_type": "text"
      },
      "cell_type": "markdown",
      "source": [
        "### Select Model with Ridge- question 5(e)"
      ]
    },
    {
      "metadata": {
        "id": "zwEVJAODi5i7",
        "colab_type": "code",
        "outputId": "f973a32d-c407-4b1a-8c2a-7603c3d10758",
        "colab": {}
      },
      "cell_type": "code",
      "source": [
        "paras_list = list()\n",
        "err_list = list()\n",
        "lamda_list = list()\n",
        "es = 0\n",
        "lamdas = np.linspace(0, 1000, 10000)\n",
        "\n",
        "X_train_iter, X_test_iter, y_train_iter, y_test_iter = train_test_split(X_house, y_house, test_size=0.2, random_state=42)\n",
        "X_train_iter, X_val_iter, y_train_iter, y_val_iter = train_test_split(X_train_iter, y_train_iter, test_size=0.2, random_state=42)\n",
        "\n",
        "y_true_val = np.array(y_val_iter)\n",
        "y_true_train = np.array(y_train_iter)\n",
        "X_true_val = np.array(X_val_iter)\n",
        "X_true_train = np.array(X_train_iter)\n",
        "y_true_test = np.array(y_test_iter)\n",
        "\n",
        "for lamda in lamdas:\n",
        "    \n",
        "    model = Ridge(fit_intercept=True, alpha=lamda)\n",
        "    model.fit(X_train_iter,y_train_iter)\n",
        "    ymodel = model.predict(X_val_iter)\n",
        "    \n",
        "    y_predict = np.array(ymodel)\n",
        "    \n",
        "    lamda_list.append(lamda)\n",
        "    paras_list.append(model.coef_)\n",
        "    err_list.append(sum(abs(y_predict - y_true_val)))\n",
        "    \n",
        "plt.figure(figsize=(15,8))\n",
        "plt.plot(lamdas, err_list)\n",
        "plt.xlabel(\"Lanmbda\")\n",
        "plt.ylabel(\"Absoluate Error\")"
      ],
      "execution_count": 0,
      "outputs": [
        {
          "output_type": "execute_result",
          "data": {
            "text/plain": [
              "Text(0, 0.5, 'Absoluate Error')"
            ]
          },
          "metadata": {
            "tags": []
          },
          "execution_count": 27
        },
        {
          "output_type": "display_data",
          "data": {
            "image/png": "[encoded data removed]",
            "text/plain": [
              "<Figure size 1080x576 with 1 Axes>"
            ]
          },
          "metadata": {
            "tags": []
          }
        }
      ]
    },
    {
      "metadata": {
        "id": "ccgtoNH_i5jA",
        "colab_type": "code",
        "outputId": "9bf2d6f2-2e82-4519-9a9d-f86e2defe7d8",
        "colab": {}
      },
      "cell_type": "code",
      "source": [
        "minpos = err_list.index(min(err_list)) \n",
        "print(\"Min Lambda: \", lamda_list[minpos])\n",
        "print(\"Coeff: \", paras_list[minpos])"
      ],
      "execution_count": 0,
      "outputs": [
        {
          "output_type": "stream",
          "text": [
            "Min Lambda:  100.1100110011001\n",
            "Coeff:  [ 1.27997167e+02 -1.85570276e+03  5.40953644e+03 -8.16998741e+02\n",
            "  1.14622264e+04  3.89826201e+03  1.45603494e+03 -1.32358675e+04\n",
            " -7.94392720e+03  1.76200304e+00 -1.50988216e+03]\n"
          ],
          "name": "stdout"
        }
      ]
    },
    {
      "metadata": {
        "id": "aBTvWtZ_i5jN",
        "colab_type": "text"
      },
      "cell_type": "markdown",
      "source": [
        "### Lasso with raw data"
      ]
    },
    {
      "metadata": {
        "id": "Vd3o-b_Fi5jO",
        "colab_type": "code",
        "outputId": "b0178354-a652-4bd5-8fb4-3c1ed6aa69fe",
        "colab": {}
      },
      "cell_type": "code",
      "source": [
        "paras_list = list()\n",
        "es = 0\n",
        "error = 0\n",
        "es_percent= 0\n",
        "error_per = 0\n",
        "IterTimes = 1000\n",
        "\n",
        "for Iter in range(IterTimes):\n",
        "    X_train_iter, X_test_iter, y_train_iter, y_test_iter = train_test_split(X_house, y_house, test_size=0.2, shuffle=True)\n",
        "    X_train_iter, X_val_iter, y_train_iter, y_val_iter = train_test_split(X_train_iter, y_train_iter, test_size=0.2, shuffle=True)\n",
        "\n",
        "    model = Lasso(fit_intercept=True, alpha=1.5, max_iter=8000)\n",
        "    model.fit(X_train_iter,y_train_iter)\n",
        "    ymodel = model.predict(X_train_iter)\n",
        "    \n",
        "    y_predict = np.array(ymodel)\n",
        "    y_true_val = np.array(y_val_iter)\n",
        "    y_true_train = np.array(y_train_iter)\n",
        "    X_true_val = np.array(X_val_iter)\n",
        "    X_true_train = np.array(X_train_iter)\n",
        "    \n",
        "    paras_list.append(model.coef_)\n",
        "    es = np.sqrt( sum((y_predict - y_true_train)**2) / len(y_predict) )\n",
        "    es_percent = sum(np.abs(y_true_train - y_predict) / y_true_train) * 100 / len(y_true_train)\n",
        "    error += es\n",
        "    error_per += es_percent\n",
        "    \n",
        "params = pd.Series(np.sum(paras_list, axis=0) / IterTimes, index=X_train_iter.columns)\n",
        "\n",
        "print(\"\\nTotal Error: \", error / IterTimes)\n",
        "print(\"Percentage Error: \", error_per / IterTimes, '%')\n",
        "print(pd.DataFrame({'Coefficient': params.round(2)}))"
      ],
      "execution_count": 0,
      "outputs": [
        {
          "output_type": "stream",
          "text": [
            "\n",
            "Total Error:  62263.47540407278\n",
            "Percentage Error:  17.351599722597157 %\n",
            "           Coefficient\n",
            "SquFeet         130.34\n",
            "Bedrooms      -8668.57\n",
            "Bathrooms      3278.64\n",
            "AC           -13848.15\n",
            "GaraSize      14097.50\n",
            "Pool           9313.36\n",
            "Year           1257.34\n",
            "Quality      -47979.28\n",
            "Style         -9453.50\n",
            "LotSize           1.18\n",
            "AdjaHW       -37956.23\n"
          ],
          "name": "stdout"
        }
      ]
    },
    {
      "metadata": {
        "id": "oaVKD8A-i5jS",
        "colab_type": "text"
      },
      "cell_type": "markdown",
      "source": [
        "### Select Model with Lasso- question 5(f)"
      ]
    },
    {
      "metadata": {
        "id": "9WsDaweai5jT",
        "colab_type": "code",
        "outputId": "23393d36-887c-4afa-f379-04615b071c7c",
        "colab": {}
      },
      "cell_type": "code",
      "source": [
        "paras_list = list()\n",
        "err_list = list()\n",
        "lamda_list = list()\n",
        "es = 0\n",
        "lamdas = np.linspace(0, 1000, 10000)\n",
        "\n",
        "X_train_iter, X_test_iter, y_train_iter, y_test_iter = train_test_split(X_house, y_house, test_size=0.2, random_state=42)\n",
        "X_train_iter, X_val_iter, y_train_iter, y_val_iter = train_test_split(X_train_iter, y_train_iter, test_size=0.2, random_state=42)\n",
        "\n",
        "y_true_val = np.array(y_val_iter)\n",
        "y_true_train = np.array(y_train_iter)\n",
        "X_true_val = np.array(X_val_iter)\n",
        "X_true_train = np.array(X_train_iter)\n",
        "\n",
        "for lamda in lamdas:\n",
        "    \n",
        "    model = Lasso(fit_intercept=True, alpha=lamda, max_iter=8000)\n",
        "    model.fit(X_train_iter,y_train_iter)\n",
        "    ymodel = model.predict(X_val_iter)\n",
        "    \n",
        "    y_predict = np.array(ymodel)\n",
        "    \n",
        "    lamda_list.append(lamda)\n",
        "    paras_list.append(model.coef_)\n",
        "    err_list.append(sum(abs(y_predict - y_true_val)))\n",
        "    \n",
        "plt.figure(figsize=(15,8))\n",
        "plt.plot(lamdas, err_list)\n",
        "plt.xlabel(\"Lanmbda\")\n",
        "plt.ylabel(\"Absoluate Error\")"
      ],
      "execution_count": 0,
      "outputs": [
        {
          "output_type": "stream",
          "text": [
            "/home/james/miniconda3/envs/supervised-py3.6/lib/python3.6/site-packages/ipykernel_launcher.py:18: UserWarning: With alpha=0, this algorithm does not converge well. You are advised to use the LinearRegression estimator\n",
            "/home/james/miniconda3/envs/supervised-py3.6/lib/python3.6/site-packages/sklearn/linear_model/coordinate_descent.py:477: UserWarning: Coordinate descent with no regularization may lead to unexpected results and is discouraged.\n",
            "  positive)\n",
            "/home/james/miniconda3/envs/supervised-py3.6/lib/python3.6/site-packages/sklearn/linear_model/coordinate_descent.py:491: ConvergenceWarning: Objective did not converge. You might want to increase the number of iterations. Fitting data with very small alpha may cause precision problems.\n",
            "  ConvergenceWarning)\n"
          ],
          "name": "stderr"
        },
        {
          "output_type": "execute_result",
          "data": {
            "text/plain": [
              "Text(0, 0.5, 'Absoluate Error')"
            ]
          },
          "metadata": {
            "tags": []
          },
          "execution_count": 30
        },
        {
          "output_type": "display_data",
          "data": {
            "image/png": "[encoded data removed]",
            "text/plain": [
              "<Figure size 1080x576 with 1 Axes>"
            ]
          },
          "metadata": {
            "tags": []
          }
        }
      ]
    },
    {
      "metadata": {
        "id": "TBSxI5ksi5jZ",
        "colab_type": "code",
        "outputId": "d71d55d7-4db2-4cd6-e943-81d3a0291c88",
        "colab": {}
      },
      "cell_type": "code",
      "source": [
        "minpos = err_list.index(min(err_list)) \n",
        "print(\"Min Lambda: \", lamda_list[minpos])\n",
        "print(\"Coeff: \", paras_list[minpos])"
      ],
      "execution_count": 0,
      "outputs": [
        {
          "output_type": "stream",
          "text": [
            "Min Lambda:  102.6102610261026\n",
            "Coeff:  [ 1.11990527e+02 -2.20782161e+03  5.88225417e+03 -1.09716380e+04\n",
            "  2.34910567e+04  1.72748383e+04  1.07589845e+03 -3.66919241e+04\n",
            " -7.79408826e+03  1.59048152e+00 -2.30647111e+04]\n"
          ],
          "name": "stdout"
        }
      ]
    },
    {
      "metadata": {
        "id": "oMj3BiI8i5jb",
        "colab_type": "text"
      },
      "cell_type": "markdown",
      "source": [
        "#### Starting Processing Data to fix Error Rate"
      ]
    },
    {
      "metadata": {
        "id": "VBUyCEyGi5jc",
        "colab_type": "text"
      },
      "cell_type": "markdown",
      "source": [
        "#### Feature and Target Correlation- question 5(b)"
      ]
    },
    {
      "metadata": {
        "id": "1vEHHALOi5jd",
        "colab_type": "code",
        "outputId": "38a5931e-4323-450b-a7ad-2424acb3bcb7",
        "colab": {}
      },
      "cell_type": "code",
      "source": [
        "import seaborn as sns; sns.set()\n",
        "corr = df_house.drop('ID', axis=1).corr()\n",
        "\n",
        "# Generate a mask for the upper triangle\n",
        "mask = np.zeros_like(corr, dtype=np.bool)\n",
        "mask[np.triu_indices_from(mask)] = True\n",
        "\n",
        "# Set up the matplotlib figure\n",
        "f, ax = plt.subplots(figsize=(11, 9))\n",
        "\n",
        "# Generate a custom diverging colormap\n",
        "cmap = sns.diverging_palette(220, 10, as_cmap=True)\n",
        "\n",
        "# Draw the heatmap with the mask and correct aspect ratio\n",
        "sns.heatmap(corr, mask=mask, cmap=cmap, center=0,\n",
        "            square=True, linewidths=.5, cbar_kws={\"shrink\": .5})"
      ],
      "execution_count": 0,
      "outputs": [
        {
          "output_type": "execute_result",
          "data": {
            "text/plain": [
              "<matplotlib.axes._subplots.AxesSubplot at 0x7fb78e47c320>"
            ]
          },
          "metadata": {
            "tags": []
          },
          "execution_count": 32
        },
        {
          "output_type": "display_data",
          "data": {
            "image/png": "[encoded data removed]",
            "text/plain": [
              "<Figure size 792x648 with 2 Axes>"
            ]
          },
          "metadata": {
            "tags": []
          }
        }
      ]
    },
    {
      "metadata": {
        "id": "lcda-NWmwAw7",
        "colab_type": "text"
      },
      "cell_type": "markdown",
      "source": [
        "Outliers in numerical features"
      ]
    },
    {
      "metadata": {
        "id": "TfCRlHjpi5jg",
        "colab_type": "code",
        "outputId": "4982d310-fd65-4cdc-f5c6-5cf8cc7d2dd0",
        "colab": {}
      },
      "cell_type": "code",
      "source": [
        "fig, ax = plt.subplots(figsize=(15, 6))\n",
        "fig.subplots_adjust(wspace=0.5)\n",
        "\n",
        "plt.subplot(1, 3, 1)\n",
        "plt.boxplot(df_house['SalPrice'])\n",
        "plt.title(\"Sales Price\")\n",
        "\n",
        "plt.subplot(1, 3, 2)\n",
        "plt.boxplot(df_house['SquFeet'])\n",
        "plt.title(\"Square Feet\")\n",
        "\n",
        "plt.subplot(1, 3, 3)\n",
        "plt.boxplot(df_house['LotSize'])\n",
        "plt.title(\"Lot Size\")"
      ],
      "execution_count": 0,
      "outputs": [
        {
          "output_type": "execute_result",
          "data": {
            "text/plain": [
              "Text(0.5, 1.0, 'Lot Size')"
            ]
          },
          "metadata": {
            "tags": []
          },
          "execution_count": 33
        },
        {
          "output_type": "display_data",
          "data": {
            "image/png": "[encoded data removed]",
            "text/plain": [
              "<Figure size 1080x432 with 3 Axes>"
            ]
          },
          "metadata": {
            "tags": []
          }
        }
      ]
    },
    {
      "metadata": {
        "id": "I_31HH_txCcq",
        "colab_type": "text"
      },
      "cell_type": "markdown",
      "source": [
        "Bivariate distribution between Sales Price vs. Square Feet, and Sales Price vs. Lot Size"
      ]
    },
    {
      "metadata": {
        "id": "NOfMMrJmi5jm",
        "colab_type": "code",
        "outputId": "24467b1b-7c3e-40ce-c765-bcdb492c22e7",
        "colab": {}
      },
      "cell_type": "code",
      "source": [
        "fig, ax = plt.subplots(figsize=(15, 5))\n",
        "fig.subplots_adjust(wspace=0.5)\n",
        "plt.subplot(1, 2, 1)\n",
        "plt.scatter(df_house['SquFeet'], df_house['SalPrice'])\n",
        "plt.ylabel(\"Sales Price\")\n",
        "plt.xlabel(\"Square Feet\")\n",
        "\n",
        "plt.subplot(1, 2, 2)\n",
        "plt.scatter(df_house['LotSize'], df_house['SalPrice'])\n",
        "plt.ylabel(\"Sales Price\")\n",
        "plt.xlabel(\"Lot Size\")"
      ],
      "execution_count": 0,
      "outputs": [
        {
          "output_type": "execute_result",
          "data": {
            "text/plain": [
              "Text(0.5, 0, 'Lot Size')"
            ]
          },
          "metadata": {
            "tags": []
          },
          "execution_count": 34
        },
        {
          "output_type": "display_data",
          "data": {
            "image/png": "[encoded data removed]",
            "text/plain": [
              "<Figure size 1080x360 with 2 Axes>"
            ]
          },
          "metadata": {
            "tags": []
          }
        }
      ]
    },
    {
      "metadata": {
        "id": "QEBHw4Mei5jm",
        "colab_type": "text"
      },
      "cell_type": "markdown",
      "source": [
        "#### Implication\n",
        "1. Categorical predictors: except Sales Price, Square Feet and Lot Size\n",
        "2. There is no missing data in this dataset, but \"Sales Price\", \"Square Feet\" and \"Lot Size\" have serveral outliers. Therefore, I removed them from the data.\n",
        "3. According to heatmap, I find that all variables are some kind correlated to each other, except Sales Price vs Square Feet, which is highly correlated. Also, Quality seems to be negative correalted to other variables. If we want to express the Sales Price, features like Square Feet and Quality might be an important feature to predict price value.\n",
        "4. Therefore, I will clean the dataset firest, and then transfer categorical features to binary feature, which will increase feature dimension.\n"
      ]
    },
    {
      "metadata": {
        "id": "O0jtmXGAi5jq",
        "colab_type": "text"
      },
      "cell_type": "markdown",
      "source": [
        "Drop Outliers from dataset by IQR rule"
      ]
    },
    {
      "metadata": {
        "id": "Z35Z6EiGi5jr",
        "colab_type": "code",
        "outputId": "5fbae704-01c3-4678-a4dd-ae8afe83e1cf",
        "colab": {}
      },
      "cell_type": "code",
      "source": [
        "max_boxplot_price = 1.5*(np.quantile(df_house.SalPrice, .75)-\n",
        "                         np.quantile(df_house.SalPrice, .25)) + np.quantile(df_house.SalPrice, .75)\n",
        "max_boxplot_squfeet = 1.5*(np.quantile(df_house.SquFeet, .75)-\n",
        "                           np.quantile(df_house.SquFeet, .25)) + np.quantile(df_house.SquFeet, .75)\n",
        "max_boxplot_lotsize = 1.5*(np.quantile(df_house.LotSize, .75)-\n",
        "                           np.quantile(df_house.LotSize, .25)) + np.quantile(df_house.LotSize, .75)\n",
        "\n",
        "outliers = df_house[df_house.SalPrice>max_boxplot_price]\n",
        "outlier_idx = np.asarray(outliers.ID.values-1)\n",
        "\n",
        "outliers = df_house[df_house.SquFeet>max_boxplot_squfeet]\n",
        "outlier_idx2 = np.asarray(outliers.ID.values-1)\n",
        "\n",
        "outliers = df_house[df_house.LotSize>max_boxplot_lotsize]\n",
        "outlier_idx3 = np.asarray(outliers.ID.values-1)\n",
        "\n",
        "outliers_all = np.concatenate((outlier_idx, outlier_idx2, outlier_idx3))\n",
        "\n",
        "df_house_Drop = df_house.drop(outliers_all)\n",
        "df_house_Drop = df_house_Drop.reset_index()\n",
        "\n",
        "del df_house_Drop['index']\n",
        "print(df_house_Drop.shape)\n",
        "\n",
        "df_house_Drop.head()"
      ],
      "execution_count": 0,
      "outputs": [
        {
          "output_type": "stream",
          "text": [
            "(455, 13)\n"
          ],
          "name": "stdout"
        },
        {
          "output_type": "execute_result",
          "data": {
            "text/html": [
              "<div>\n",
              "<style scoped>\n",
              "    .dataframe tbody tr th:only-of-type {\n",
              "        vertical-align: middle;\n",
              "    }\n",
              "\n",
              "    .dataframe tbody tr th {\n",
              "        vertical-align: top;\n",
              "    }\n",
              "\n",
              "    .dataframe thead th {\n",
              "        text-align: right;\n",
              "    }\n",
              "</style>\n",
              "<table border=\"1\" class=\"dataframe\">\n",
              "  <thead>\n",
              "    <tr style=\"text-align: right;\">\n",
              "      <th></th>\n",
              "      <th>ID</th>\n",
              "      <th>SalPrice</th>\n",
              "      <th>SquFeet</th>\n",
              "      <th>Bedrooms</th>\n",
              "      <th>Bathrooms</th>\n",
              "      <th>AC</th>\n",
              "      <th>GaraSize</th>\n",
              "      <th>Pool</th>\n",
              "      <th>Year</th>\n",
              "      <th>Quality</th>\n",
              "      <th>Style</th>\n",
              "      <th>LotSize</th>\n",
              "      <th>AdjaHW</th>\n",
              "    </tr>\n",
              "  </thead>\n",
              "  <tbody>\n",
              "    <tr>\n",
              "      <th>0</th>\n",
              "      <td>1</td>\n",
              "      <td>360000</td>\n",
              "      <td>3032</td>\n",
              "      <td>4</td>\n",
              "      <td>4</td>\n",
              "      <td>1</td>\n",
              "      <td>2</td>\n",
              "      <td>0</td>\n",
              "      <td>1972</td>\n",
              "      <td>2</td>\n",
              "      <td>1</td>\n",
              "      <td>22221</td>\n",
              "      <td>0</td>\n",
              "    </tr>\n",
              "    <tr>\n",
              "      <th>1</th>\n",
              "      <td>2</td>\n",
              "      <td>340000</td>\n",
              "      <td>2058</td>\n",
              "      <td>4</td>\n",
              "      <td>2</td>\n",
              "      <td>1</td>\n",
              "      <td>2</td>\n",
              "      <td>0</td>\n",
              "      <td>1976</td>\n",
              "      <td>2</td>\n",
              "      <td>1</td>\n",
              "      <td>22912</td>\n",
              "      <td>0</td>\n",
              "    </tr>\n",
              "    <tr>\n",
              "      <th>2</th>\n",
              "      <td>3</td>\n",
              "      <td>250000</td>\n",
              "      <td>1780</td>\n",
              "      <td>4</td>\n",
              "      <td>3</td>\n",
              "      <td>1</td>\n",
              "      <td>2</td>\n",
              "      <td>0</td>\n",
              "      <td>1980</td>\n",
              "      <td>2</td>\n",
              "      <td>1</td>\n",
              "      <td>21345</td>\n",
              "      <td>0</td>\n",
              "    </tr>\n",
              "    <tr>\n",
              "      <th>3</th>\n",
              "      <td>4</td>\n",
              "      <td>205500</td>\n",
              "      <td>1638</td>\n",
              "      <td>4</td>\n",
              "      <td>2</td>\n",
              "      <td>1</td>\n",
              "      <td>2</td>\n",
              "      <td>0</td>\n",
              "      <td>1963</td>\n",
              "      <td>2</td>\n",
              "      <td>1</td>\n",
              "      <td>17342</td>\n",
              "      <td>0</td>\n",
              "    </tr>\n",
              "    <tr>\n",
              "      <th>4</th>\n",
              "      <td>5</td>\n",
              "      <td>275500</td>\n",
              "      <td>2196</td>\n",
              "      <td>4</td>\n",
              "      <td>3</td>\n",
              "      <td>1</td>\n",
              "      <td>2</td>\n",
              "      <td>0</td>\n",
              "      <td>1968</td>\n",
              "      <td>2</td>\n",
              "      <td>7</td>\n",
              "      <td>21786</td>\n",
              "      <td>0</td>\n",
              "    </tr>\n",
              "  </tbody>\n",
              "</table>\n",
              "</div>"
            ],
            "text/plain": [
              "   ID  SalPrice  SquFeet  Bedrooms  Bathrooms  AC  GaraSize  Pool  Year  \\\n",
              "0   1    360000     3032         4          4   1         2     0  1972   \n",
              "1   2    340000     2058         4          2   1         2     0  1976   \n",
              "2   3    250000     1780         4          3   1         2     0  1980   \n",
              "3   4    205500     1638         4          2   1         2     0  1963   \n",
              "4   5    275500     2196         4          3   1         2     0  1968   \n",
              "\n",
              "   Quality  Style  LotSize  AdjaHW  \n",
              "0        2      1    22221       0  \n",
              "1        2      1    22912       0  \n",
              "2        2      1    21345       0  \n",
              "3        2      1    17342       0  \n",
              "4        2      7    21786       0  "
            ]
          },
          "metadata": {
            "tags": []
          },
          "execution_count": 35
        }
      ]
    },
    {
      "metadata": {
        "id": "hm2jxqptyNCr",
        "colab_type": "text"
      },
      "cell_type": "markdown",
      "source": [
        "Bivariate distribution between Sales Price vs. Square Feet, and Sales Price vs. Lot Size"
      ]
    },
    {
      "metadata": {
        "id": "Kn_aZuuCi5ju",
        "colab_type": "code",
        "outputId": "75d4cee1-04f8-47f6-b3b3-e07b251d3bff",
        "colab": {}
      },
      "cell_type": "code",
      "source": [
        "fig, ax = plt.subplots(figsize=(15, 5))\n",
        "fig.subplots_adjust(wspace=0.5)\n",
        "\n",
        "plt.subplot(1, 3, 1)\n",
        "plt.scatter(df_house_Drop['SquFeet'], df_house_Drop['SalPrice'])\n",
        "plt.ylabel(\"Sales Price\")\n",
        "plt.xlabel(\"Square Feet\")\n",
        "\n",
        "plt.subplot(1, 3, 2)\n",
        "plt.scatter(df_house_Drop['LotSize'], df_house_Drop['SalPrice'])\n",
        "plt.ylabel(\"Sales Price\")\n",
        "plt.xlabel(\"Lot Size\")"
      ],
      "execution_count": 0,
      "outputs": [
        {
          "output_type": "execute_result",
          "data": {
            "text/plain": [
              "Text(0.5, 0, 'Lot Size')"
            ]
          },
          "metadata": {
            "tags": []
          },
          "execution_count": 36
        },
        {
          "output_type": "display_data",
          "data": {
            "image/png": "[encoded data removed]",
            "text/plain": [
              "<Figure size 1080x360 with 2 Axes>"
            ]
          },
          "metadata": {
            "tags": []
          }
        }
      ]
    },
    {
      "metadata": {
        "id": "QU1ZrGGmi5j4",
        "colab_type": "text"
      },
      "cell_type": "markdown",
      "source": [
        "One-Hot Encoder "
      ]
    },
    {
      "metadata": {
        "id": "9HzpZncKi5j7",
        "colab_type": "code",
        "colab": {}
      },
      "cell_type": "code",
      "source": [
        "def house_categorized_feature(df, *argv):\n",
        "    df_house_feature = df.drop([arg for arg in argv], axis=1)\n",
        "\n",
        "    Bed = ['Bed_'+str(i) for i in df.Bedrooms.values]\n",
        "    df_house_feature['Bedrooms'] = Bed\n",
        "    \n",
        "    Bath = ['Bath_'+str(i) for i in df.Bathrooms.values]\n",
        "    df_house_feature['Bathrooms'] = Bath\n",
        "    \n",
        "    Gara = ['Gara_'+str(i) for i in df.GaraSize.values]\n",
        "    df_house_feature['GaraSize'] = Gara\n",
        "    \n",
        "    Sty = ['Style_'+str(i) for i in df.Style.values]\n",
        "    df_house_feature['Style'] = Sty\n",
        "    \n",
        "    AC = ['No' if i == 0 else 'YES' for i in df.AC.values]\n",
        "    df_house_feature['AC'] = AC\n",
        "\n",
        "    Pool = ['No' if i == 0 else 'YES' for i in df.Pool.values]\n",
        "    df_house_feature['Pool'] = Pool\n",
        "\n",
        "    Year = [str(i - i%10) + 's' for i in df.Year.values]\n",
        "    df_house_feature['Year'] = Year\n",
        "\n",
        "    Quality = list()\n",
        "    for i in df.Quality.values:\n",
        "        if i == 1:\n",
        "            Quality.append('high')\n",
        "        elif i == 2:\n",
        "            Quality.append('medium')\n",
        "        else:\n",
        "            Quality.append('low')\n",
        "    df_house_feature['Quality'] = Quality\n",
        "\n",
        "    AdjaHW = ['No' if i == 0 else 'YES' for i in df.AdjaHW.values]\n",
        "    df_house_feature['AdjaHW'] = AdjaHW\n",
        "\n",
        "    df_house_feature.head()\n",
        "    return df_house_feature"
      ],
      "execution_count": 0,
      "outputs": []
    },
    {
      "metadata": {
        "id": "-I-xIG11i5kB",
        "colab_type": "code",
        "outputId": "472d860d-a6d0-4be8-eedd-3ee373901945",
        "colab": {}
      },
      "cell_type": "code",
      "source": [
        "df_house_feature = house_categorized_feature(df_house_Drop, 'Bedrooms', 'Bathrooms', \n",
        "                                             'AC', 'GaraSize', 'Pool', 'Year', 'Quality', 'Style', 'AdjaHW', )\n",
        "df_house_feature = df_house_feature.drop('ID', axis=1)\n",
        "\n",
        "vec = DictVectorizer(sparse=False, dtype=int)\n",
        "df_house_feature_oneHot = pd.DataFrame(vec.fit_transform(df_house_feature.to_dict('records')), \n",
        "                                       columns=vec.get_feature_names())\n",
        "\n",
        "print(\"Data Shape: \", df_house_feature.shape)\n",
        "df_house_feature.head()"
      ],
      "execution_count": 0,
      "outputs": [
        {
          "output_type": "stream",
          "text": [
            "Data Shape:  (455, 12)\n"
          ],
          "name": "stdout"
        },
        {
          "output_type": "execute_result",
          "data": {
            "text/html": [
              "<div>\n",
              "<style scoped>\n",
              "    .dataframe tbody tr th:only-of-type {\n",
              "        vertical-align: middle;\n",
              "    }\n",
              "\n",
              "    .dataframe tbody tr th {\n",
              "        vertical-align: top;\n",
              "    }\n",
              "\n",
              "    .dataframe thead th {\n",
              "        text-align: right;\n",
              "    }\n",
              "</style>\n",
              "<table border=\"1\" class=\"dataframe\">\n",
              "  <thead>\n",
              "    <tr style=\"text-align: right;\">\n",
              "      <th></th>\n",
              "      <th>SalPrice</th>\n",
              "      <th>SquFeet</th>\n",
              "      <th>LotSize</th>\n",
              "      <th>Bedrooms</th>\n",
              "      <th>Bathrooms</th>\n",
              "      <th>GaraSize</th>\n",
              "      <th>Style</th>\n",
              "      <th>AC</th>\n",
              "      <th>Pool</th>\n",
              "      <th>Year</th>\n",
              "      <th>Quality</th>\n",
              "      <th>AdjaHW</th>\n",
              "    </tr>\n",
              "  </thead>\n",
              "  <tbody>\n",
              "    <tr>\n",
              "      <th>0</th>\n",
              "      <td>360000</td>\n",
              "      <td>3032</td>\n",
              "      <td>22221</td>\n",
              "      <td>Bed_4</td>\n",
              "      <td>Bath_4</td>\n",
              "      <td>Gara_2</td>\n",
              "      <td>Style_1</td>\n",
              "      <td>YES</td>\n",
              "      <td>No</td>\n",
              "      <td>1970s</td>\n",
              "      <td>medium</td>\n",
              "      <td>No</td>\n",
              "    </tr>\n",
              "    <tr>\n",
              "      <th>1</th>\n",
              "      <td>340000</td>\n",
              "      <td>2058</td>\n",
              "      <td>22912</td>\n",
              "      <td>Bed_4</td>\n",
              "      <td>Bath_2</td>\n",
              "      <td>Gara_2</td>\n",
              "      <td>Style_1</td>\n",
              "      <td>YES</td>\n",
              "      <td>No</td>\n",
              "      <td>1970s</td>\n",
              "      <td>medium</td>\n",
              "      <td>No</td>\n",
              "    </tr>\n",
              "    <tr>\n",
              "      <th>2</th>\n",
              "      <td>250000</td>\n",
              "      <td>1780</td>\n",
              "      <td>21345</td>\n",
              "      <td>Bed_4</td>\n",
              "      <td>Bath_3</td>\n",
              "      <td>Gara_2</td>\n",
              "      <td>Style_1</td>\n",
              "      <td>YES</td>\n",
              "      <td>No</td>\n",
              "      <td>1980s</td>\n",
              "      <td>medium</td>\n",
              "      <td>No</td>\n",
              "    </tr>\n",
              "    <tr>\n",
              "      <th>3</th>\n",
              "      <td>205500</td>\n",
              "      <td>1638</td>\n",
              "      <td>17342</td>\n",
              "      <td>Bed_4</td>\n",
              "      <td>Bath_2</td>\n",
              "      <td>Gara_2</td>\n",
              "      <td>Style_1</td>\n",
              "      <td>YES</td>\n",
              "      <td>No</td>\n",
              "      <td>1960s</td>\n",
              "      <td>medium</td>\n",
              "      <td>No</td>\n",
              "    </tr>\n",
              "    <tr>\n",
              "      <th>4</th>\n",
              "      <td>275500</td>\n",
              "      <td>2196</td>\n",
              "      <td>21786</td>\n",
              "      <td>Bed_4</td>\n",
              "      <td>Bath_3</td>\n",
              "      <td>Gara_2</td>\n",
              "      <td>Style_7</td>\n",
              "      <td>YES</td>\n",
              "      <td>No</td>\n",
              "      <td>1960s</td>\n",
              "      <td>medium</td>\n",
              "      <td>No</td>\n",
              "    </tr>\n",
              "  </tbody>\n",
              "</table>\n",
              "</div>"
            ],
            "text/plain": [
              "   SalPrice  SquFeet  LotSize Bedrooms Bathrooms GaraSize    Style   AC Pool  \\\n",
              "0    360000     3032    22221    Bed_4    Bath_4   Gara_2  Style_1  YES   No   \n",
              "1    340000     2058    22912    Bed_4    Bath_2   Gara_2  Style_1  YES   No   \n",
              "2    250000     1780    21345    Bed_4    Bath_3   Gara_2  Style_1  YES   No   \n",
              "3    205500     1638    17342    Bed_4    Bath_2   Gara_2  Style_1  YES   No   \n",
              "4    275500     2196    21786    Bed_4    Bath_3   Gara_2  Style_7  YES   No   \n",
              "\n",
              "    Year Quality AdjaHW  \n",
              "0  1970s  medium     No  \n",
              "1  1970s  medium     No  \n",
              "2  1980s  medium     No  \n",
              "3  1960s  medium     No  \n",
              "4  1960s  medium     No  "
            ]
          },
          "metadata": {
            "tags": []
          },
          "execution_count": 38
        }
      ]
    },
    {
      "metadata": {
        "id": "bWyieN64i5kI",
        "colab_type": "code",
        "outputId": "cf4c7627-91a8-491a-ea47-301c8d78322e",
        "colab": {}
      },
      "cell_type": "code",
      "source": [
        "df_house_feature_oneHot.head()"
      ],
      "execution_count": 0,
      "outputs": [
        {
          "output_type": "execute_result",
          "data": {
            "text/html": [
              "<div>\n",
              "<style scoped>\n",
              "    .dataframe tbody tr th:only-of-type {\n",
              "        vertical-align: middle;\n",
              "    }\n",
              "\n",
              "    .dataframe tbody tr th {\n",
              "        vertical-align: top;\n",
              "    }\n",
              "\n",
              "    .dataframe thead th {\n",
              "        text-align: right;\n",
              "    }\n",
              "</style>\n",
              "<table border=\"1\" class=\"dataframe\">\n",
              "  <thead>\n",
              "    <tr style=\"text-align: right;\">\n",
              "      <th></th>\n",
              "      <th>AC=No</th>\n",
              "      <th>AC=YES</th>\n",
              "      <th>AdjaHW=No</th>\n",
              "      <th>AdjaHW=YES</th>\n",
              "      <th>Bathrooms=Bath_0</th>\n",
              "      <th>Bathrooms=Bath_1</th>\n",
              "      <th>Bathrooms=Bath_2</th>\n",
              "      <th>Bathrooms=Bath_3</th>\n",
              "      <th>Bathrooms=Bath_4</th>\n",
              "      <th>Bathrooms=Bath_5</th>\n",
              "      <th>...</th>\n",
              "      <th>Year=1900s</th>\n",
              "      <th>Year=1910s</th>\n",
              "      <th>Year=1920s</th>\n",
              "      <th>Year=1930s</th>\n",
              "      <th>Year=1940s</th>\n",
              "      <th>Year=1950s</th>\n",
              "      <th>Year=1960s</th>\n",
              "      <th>Year=1970s</th>\n",
              "      <th>Year=1980s</th>\n",
              "      <th>Year=1990s</th>\n",
              "    </tr>\n",
              "  </thead>\n",
              "  <tbody>\n",
              "    <tr>\n",
              "      <th>0</th>\n",
              "      <td>0</td>\n",
              "      <td>1</td>\n",
              "      <td>1</td>\n",
              "      <td>0</td>\n",
              "      <td>0</td>\n",
              "      <td>0</td>\n",
              "      <td>0</td>\n",
              "      <td>0</td>\n",
              "      <td>1</td>\n",
              "      <td>0</td>\n",
              "      <td>...</td>\n",
              "      <td>0</td>\n",
              "      <td>0</td>\n",
              "      <td>0</td>\n",
              "      <td>0</td>\n",
              "      <td>0</td>\n",
              "      <td>0</td>\n",
              "      <td>0</td>\n",
              "      <td>1</td>\n",
              "      <td>0</td>\n",
              "      <td>0</td>\n",
              "    </tr>\n",
              "    <tr>\n",
              "      <th>1</th>\n",
              "      <td>0</td>\n",
              "      <td>1</td>\n",
              "      <td>1</td>\n",
              "      <td>0</td>\n",
              "      <td>0</td>\n",
              "      <td>0</td>\n",
              "      <td>1</td>\n",
              "      <td>0</td>\n",
              "      <td>0</td>\n",
              "      <td>0</td>\n",
              "      <td>...</td>\n",
              "      <td>0</td>\n",
              "      <td>0</td>\n",
              "      <td>0</td>\n",
              "      <td>0</td>\n",
              "      <td>0</td>\n",
              "      <td>0</td>\n",
              "      <td>0</td>\n",
              "      <td>1</td>\n",
              "      <td>0</td>\n",
              "      <td>0</td>\n",
              "    </tr>\n",
              "    <tr>\n",
              "      <th>2</th>\n",
              "      <td>0</td>\n",
              "      <td>1</td>\n",
              "      <td>1</td>\n",
              "      <td>0</td>\n",
              "      <td>0</td>\n",
              "      <td>0</td>\n",
              "      <td>0</td>\n",
              "      <td>1</td>\n",
              "      <td>0</td>\n",
              "      <td>0</td>\n",
              "      <td>...</td>\n",
              "      <td>0</td>\n",
              "      <td>0</td>\n",
              "      <td>0</td>\n",
              "      <td>0</td>\n",
              "      <td>0</td>\n",
              "      <td>0</td>\n",
              "      <td>0</td>\n",
              "      <td>0</td>\n",
              "      <td>1</td>\n",
              "      <td>0</td>\n",
              "    </tr>\n",
              "    <tr>\n",
              "      <th>3</th>\n",
              "      <td>0</td>\n",
              "      <td>1</td>\n",
              "      <td>1</td>\n",
              "      <td>0</td>\n",
              "      <td>0</td>\n",
              "      <td>0</td>\n",
              "      <td>1</td>\n",
              "      <td>0</td>\n",
              "      <td>0</td>\n",
              "      <td>0</td>\n",
              "      <td>...</td>\n",
              "      <td>0</td>\n",
              "      <td>0</td>\n",
              "      <td>0</td>\n",
              "      <td>0</td>\n",
              "      <td>0</td>\n",
              "      <td>0</td>\n",
              "      <td>1</td>\n",
              "      <td>0</td>\n",
              "      <td>0</td>\n",
              "      <td>0</td>\n",
              "    </tr>\n",
              "    <tr>\n",
              "      <th>4</th>\n",
              "      <td>0</td>\n",
              "      <td>1</td>\n",
              "      <td>1</td>\n",
              "      <td>0</td>\n",
              "      <td>0</td>\n",
              "      <td>0</td>\n",
              "      <td>0</td>\n",
              "      <td>1</td>\n",
              "      <td>0</td>\n",
              "      <td>0</td>\n",
              "      <td>...</td>\n",
              "      <td>0</td>\n",
              "      <td>0</td>\n",
              "      <td>0</td>\n",
              "      <td>0</td>\n",
              "      <td>0</td>\n",
              "      <td>0</td>\n",
              "      <td>1</td>\n",
              "      <td>0</td>\n",
              "      <td>0</td>\n",
              "      <td>0</td>\n",
              "    </tr>\n",
              "  </tbody>\n",
              "</table>\n",
              "<p>5 rows × 52 columns</p>\n",
              "</div>"
            ],
            "text/plain": [
              "   AC=No  AC=YES  AdjaHW=No  AdjaHW=YES  Bathrooms=Bath_0  Bathrooms=Bath_1  \\\n",
              "0      0       1          1           0                 0                 0   \n",
              "1      0       1          1           0                 0                 0   \n",
              "2      0       1          1           0                 0                 0   \n",
              "3      0       1          1           0                 0                 0   \n",
              "4      0       1          1           0                 0                 0   \n",
              "\n",
              "   Bathrooms=Bath_2  Bathrooms=Bath_3  Bathrooms=Bath_4  Bathrooms=Bath_5  \\\n",
              "0                 0                 0                 1                 0   \n",
              "1                 1                 0                 0                 0   \n",
              "2                 0                 1                 0                 0   \n",
              "3                 1                 0                 0                 0   \n",
              "4                 0                 1                 0                 0   \n",
              "\n",
              "      ...      Year=1900s  Year=1910s  Year=1920s  Year=1930s  Year=1940s  \\\n",
              "0     ...               0           0           0           0           0   \n",
              "1     ...               0           0           0           0           0   \n",
              "2     ...               0           0           0           0           0   \n",
              "3     ...               0           0           0           0           0   \n",
              "4     ...               0           0           0           0           0   \n",
              "\n",
              "   Year=1950s  Year=1960s  Year=1970s  Year=1980s  Year=1990s  \n",
              "0           0           0           1           0           0  \n",
              "1           0           0           1           0           0  \n",
              "2           0           0           0           1           0  \n",
              "3           0           1           0           0           0  \n",
              "4           0           1           0           0           0  \n",
              "\n",
              "[5 rows x 52 columns]"
            ]
          },
          "metadata": {
            "tags": []
          },
          "execution_count": 39
        }
      ]
    },
    {
      "metadata": {
        "id": "T8JLOy7Ri5kP",
        "colab_type": "text"
      },
      "cell_type": "markdown",
      "source": [
        "### Starting training data after one-hot encode without outliers"
      ]
    },
    {
      "metadata": {
        "id": "aHQMpX1qi5kR",
        "colab_type": "code",
        "outputId": "3daf7811-708e-45b5-cd5a-86eeda705517",
        "colab": {}
      },
      "cell_type": "code",
      "source": [
        "X_house = df_house_feature_oneHot.drop('SalPrice', axis=1)\n",
        "y_house = df_house_feature_oneHot['SalPrice']\n",
        "\n",
        "X_train, X_test, y_train, y_test = train_test_split(X_house, y_house, test_size=0.2, shuffle=True)\n",
        "X_train, X_val, y_train, y_val = train_test_split(X_train, y_train, test_size=0.2, shuffle=True)\n",
        "print(\"Training set X: \", X_train.shape)"
      ],
      "execution_count": 0,
      "outputs": [
        {
          "output_type": "stream",
          "text": [
            "Training set X:  (291, 51)\n"
          ],
          "name": "stdout"
        }
      ]
    },
    {
      "metadata": {
        "id": "L80ci76qi5kU",
        "colab_type": "text"
      },
      "cell_type": "markdown",
      "source": [
        "### OLS model with processed data"
      ]
    },
    {
      "metadata": {
        "id": "cYSoCDari5ki",
        "colab_type": "code",
        "outputId": "3fa61f8d-118c-4428-8bc8-fb2fe7c24fa7",
        "colab": {}
      },
      "cell_type": "code",
      "source": [
        "model = LinearRegression(fit_intercept=True)\n",
        "model.fit(X_train,y_train)\n",
        "ymodel = model.predict(X_train)\n",
        "err = (y_train - ymodel)\n",
        "\n",
        "# Linear Regression for y_predict and y_true\n",
        "model_2 = LinearRegression(fit_intercept=True)\n",
        "model_2.fit(y_train[:,np.newaxis],ymodel)\n",
        "predicted_y_train = model_2.predict(y_train[:,np.newaxis])\n",
        "\n",
        "# Linear Regression for y_true and y_true\n",
        "model_3 = LinearRegression(fit_intercept=True)\n",
        "model_3.fit(y_train[:,np.newaxis],y_train)\n",
        "y_train_real = model_3.predict(y_train[:,np.newaxis])\n",
        "\n",
        "f, ax = plt.subplots(figsize=(15, 6))\n",
        "plt.scatter(y_train, ymodel, alpha=0.5)\n",
        "plt.plot(y_train, predicted_y_train, alpha=0.8, color='r', label='predicted')\n",
        "plt.plot(y_train, y_train_real, alpha=0.8, color='b', label='expected (yout = ytarget)')\n",
        "plt.xlabel(\"Trainning Target\")\n",
        "plt.ylabel(\"Predicted Value\")\n",
        "plt.title(\"Predicted Price vs Real Price\")\n",
        "plt.legend()"
      ],
      "execution_count": 0,
      "outputs": [
        {
          "output_type": "execute_result",
          "data": {
            "text/plain": [
              "<matplotlib.legend.Legend at 0x7fb78c90fd68>"
            ]
          },
          "metadata": {
            "tags": []
          },
          "execution_count": 41
        },
        {
          "output_type": "display_data",
          "data": {
            "image/png": "[encoded data removed]",
            "text/plain": [
              "<Figure size 1080x432 with 1 Axes>"
            ]
          },
          "metadata": {
            "tags": []
          }
        }
      ]
    },
    {
      "metadata": {
        "id": "voIxjnR3i5ks",
        "colab_type": "text"
      },
      "cell_type": "markdown",
      "source": [
        "### Assumption of Normality- question 5(c)"
      ]
    },
    {
      "metadata": {
        "id": "nJ4TIu7gi5kt",
        "colab_type": "code",
        "outputId": "e0affc3f-c521-48b7-ac4f-4b54a8bd0be6",
        "colab": {}
      },
      "cell_type": "code",
      "source": [
        "from yellowbrick.regressor import ResidualsPlot\n",
        "model = LinearRegression()\n",
        "visualizer = ResidualsPlot(model)\n",
        "\n",
        "visualizer.fit(X_train, y_train)  \n",
        "visualizer.score(X_train, y_train)  \n",
        "visualizer.poof()                 "
      ],
      "execution_count": 0,
      "outputs": [
        {
          "output_type": "display_data",
          "data": {
            "image/png": "[encoded data removed]",
            "text/plain": [
              "<Figure size 576x396 with 2 Axes>"
            ]
          },
          "metadata": {
            "tags": []
          }
        }
      ]
    },
    {
      "metadata": {
        "id": "soC-G7TPi5k9",
        "colab_type": "code",
        "colab": {}
      },
      "cell_type": "code",
      "source": [
        "paras_list = list()\n",
        "es = 0\n",
        "error = 0\n",
        "es_percent= 0\n",
        "error_per = 0\n",
        "IterTimes = 1000\n",
        "for Iter in range(IterTimes):\n",
        "    X_train_iter, X_test_iter, y_train_iter, y_test_iter = train_test_split(X_house, y_house, test_size=0.2, shuffle=True)\n",
        "    X_train_iter, X_val_iter, y_train_iter, y_val_iter = train_test_split(X_train_iter, y_train_iter, test_size=0.2, shuffle=True)\n",
        "\n",
        "    model = LinearRegression(fit_intercept=True)\n",
        "    model.fit(X_train_iter,y_train_iter)\n",
        "    ymodel = model.predict(X_val_iter)\n",
        "    \n",
        "    y_predict = np.array(ymodel)\n",
        "    y_true_val = np.array(y_val_iter)\n",
        "    y_true_train = np.array(y_train_iter)\n",
        "    X_true_val = np.array(X_val_iter)\n",
        "    X_true_train = np.array(X_train_iter)\n",
        "\n",
        "    paras_list.append(model.coef_)  \n",
        "    \n",
        "    es = np.sqrt( sum((y_predict - y_true_val)**2) / len(y_predict) )\n",
        "    es_percent = sum(np.abs(y_true_val - y_predict) / y_true_val) * 100 / len(y_true_val)\n",
        "    error += es\n",
        "    error_per += es_percent\n",
        "    \n",
        "params = pd.Series(np.sum(paras_list, axis=0) / IterTimes, index=X_train_iter.columns)\n",
        "\n",
        "print(\"\\nTotal Error: \", error / IterTimes)\n",
        "print(\"Percentage Error: \", error_per / IterTimes, '%')"
      ],
      "execution_count": 0,
      "outputs": []
    },
    {
      "metadata": {
        "id": "VAUdB9S9i5lC",
        "colab_type": "text"
      },
      "cell_type": "markdown",
      "source": [
        "### Ridge model with processed data"
      ]
    },
    {
      "metadata": {
        "id": "XNmKdJxKi5lD",
        "colab_type": "text"
      },
      "cell_type": "markdown",
      "source": [
        "#### Select Model with Ridge- question 5(e)"
      ]
    },
    {
      "metadata": {
        "id": "giJStrRGi5lE",
        "colab_type": "code",
        "outputId": "74b7e45c-bda4-4691-b4ae-ae812bc9e298",
        "colab": {}
      },
      "cell_type": "code",
      "source": [
        "paras_list = list()\n",
        "err_list = list()\n",
        "lamda_list = list()\n",
        "es = 0\n",
        "lamdas = np.linspace(0, 1000, 10000)\n",
        "\n",
        "X_train_iter, X_test_iter, y_train_iter, y_test_iter = train_test_split(X_house, y_house, test_size=0.2, random_state=42)\n",
        "X_train_iter, X_val_iter, y_train_iter, y_val_iter = train_test_split(X_train_iter, y_train_iter, test_size=0.2, random_state=42)\n",
        "\n",
        "y_true_val = np.array(y_val_iter)\n",
        "y_true_train = np.array(y_train_iter)\n",
        "X_true_val = np.array(X_val_iter)\n",
        "X_true_train = np.array(X_train_iter)\n",
        "y_true_test = np.array(y_test_iter)\n",
        "\n",
        "for lamda in lamdas:\n",
        "    \n",
        "    model = Ridge(fit_intercept=True, alpha=lamda)\n",
        "    model.fit(X_train_iter,y_train_iter)\n",
        "    ymodel = model.predict(X_val_iter)\n",
        "    \n",
        "    y_predict = np.array(ymodel)\n",
        "    \n",
        "    lamda_list.append(lamda)\n",
        "    paras_list.append(model.coef_)\n",
        "    err_list.append(sum(abs(y_predict - y_true_val)))\n",
        "    \n",
        "plt.figure(figsize=(15,8))\n",
        "plt.plot(lamdas, err_list)\n",
        "plt.xlabel(\"Lanmbda\")\n",
        "plt.ylabel(\"Absoluate Error\")"
      ],
      "execution_count": 0,
      "outputs": [
        {
          "output_type": "execute_result",
          "data": {
            "text/plain": [
              "Text(0, 0.5, 'Absoluate Error')"
            ]
          },
          "metadata": {
            "tags": []
          },
          "execution_count": 44
        },
        {
          "output_type": "display_data",
          "data": {
            "image/png": "[encoded data removed]",
            "text/plain": [
              "<Figure size 1080x576 with 1 Axes>"
            ]
          },
          "metadata": {
            "tags": []
          }
        }
      ]
    },
    {
      "metadata": {
        "id": "rTrxKH7mi5lL",
        "colab_type": "code",
        "outputId": "27830152-7223-4fec-9d6e-ebe529538c54",
        "colab": {}
      },
      "cell_type": "code",
      "source": [
        "minpos = err_list.index(min(err_list)) \n",
        "print(\"Min Lambda: \", lamda_list[minpos])\n",
        "print(\"Coeff: \", paras_list[minpos])"
      ],
      "execution_count": 0,
      "outputs": [
        {
          "output_type": "stream",
          "text": [
            "Min Lambda:  6.900690069006901\n",
            "Coeff:  [-3.79359319e+03  3.79359319e+03  5.56105956e+03 -5.56105956e+03\n",
            "  0.00000000e+00 -1.94072504e+04 -2.10961180e+04 -1.56673708e+03\n",
            "  2.00765706e+04  2.29760317e+04 -9.82496888e+02  0.00000000e+00\n",
            " -9.09275865e+03 -4.30048373e+03 -2.19028770e+02  2.13136167e+03\n",
            "  1.83509028e+04 -6.86999335e+03 -3.35696944e+03 -5.59671501e+03\n",
            " -5.05375367e+03  1.73510434e+04 -3.34360525e+03  1.16674384e+00\n",
            " -1.31363784e+04  1.31363784e+04  3.34181910e+04 -1.85574042e+04\n",
            " -1.48607868e+04  1.09133772e+02  1.75037987e+04 -1.97932672e+03\n",
            "  0.00000000e+00  1.96585925e+03 -2.42707700e+03  1.22473241e+04\n",
            " -1.73802087e+03 -5.61968003e+03 -2.43238572e+04  4.37097971e+03\n",
            " -1.39219935e+04  0.00000000e+00  1.33279834e+03  1.60598224e+03\n",
            " -4.57010791e+03 -1.70903275e+04 -1.07833839e+04 -9.74872417e+03\n",
            " -6.30122373e+03  7.43847539e+03  5.20385048e+04]\n"
          ],
          "name": "stdout"
        }
      ]
    },
    {
      "metadata": {
        "id": "cJiFqNFii5lf",
        "colab_type": "code",
        "outputId": "8fb3f2d2-24f5-44d3-d0c2-aaf15bfa05ed",
        "colab": {}
      },
      "cell_type": "code",
      "source": [
        "paras_list = list()\n",
        "es = 0\n",
        "error = 0\n",
        "es_percent= 0\n",
        "error_per = 0\n",
        "IterTimes = 1000\n",
        "for Iter in range(IterTimes):\n",
        "    X_train_iter, X_test_iter, y_train_iter, y_test_iter = train_test_split(X_house, y_house, test_size=0.2, shuffle=True)\n",
        "    X_train_iter, X_val_iter, y_train_iter, y_val_iter = train_test_split(X_train_iter, y_train_iter, test_size=0.2, shuffle=True)\n",
        "\n",
        "    model = Ridge(fit_intercept=True, alpha=7)\n",
        "    model.fit(X_train_iter,y_train_iter)\n",
        "    ymodel = model.predict(X_val_iter)\n",
        "    \n",
        "    y_predict = np.array(ymodel)\n",
        "    y_true_val = np.array(y_val_iter)\n",
        "    y_true_train = np.array(y_train_iter)\n",
        "    X_true_val = np.array(X_val_iter)\n",
        "    X_true_train = np.array(X_train_iter)\n",
        "    \n",
        "    paras_list.append(model.coef_)\n",
        "    \n",
        "    es = np.sqrt( sum((y_predict - y_true_val)**2) / len(y_predict) )\n",
        "    es_percent = sum(np.abs(y_true_val - y_predict) / y_true_val) * 100 / len(y_true_val)\n",
        "    error += es\n",
        "    error_per += es_percent\n",
        "    \n",
        "params = pd.Series(np.sum(paras_list, axis=0) / IterTimes, index=X_train_iter.columns)\n",
        "\n",
        "print(\"\\nTotal Error: \", error / IterTimes)\n",
        "print(\"Percentage Error: \", error_per / IterTimes, '%')"
      ],
      "execution_count": 0,
      "outputs": [
        {
          "output_type": "stream",
          "text": [
            "\n",
            "Total Error:  44207.038327022805\n",
            "Percentage Error:  12.923283653884898 %\n"
          ],
          "name": "stdout"
        }
      ]
    },
    {
      "metadata": {
        "id": "SR0M7uVui5lo",
        "colab_type": "text"
      },
      "cell_type": "markdown",
      "source": [
        "### Lasso model with processed data"
      ]
    },
    {
      "metadata": {
        "id": "tzbgSma2i5ls",
        "colab_type": "text"
      },
      "cell_type": "markdown",
      "source": [
        "#### Select Model with Lasso- question 5(f)"
      ]
    },
    {
      "metadata": {
        "id": "pN7c-X9Qi5lu",
        "colab_type": "code",
        "outputId": "889dbbc1-5b7c-4d09-d62b-ebc015216c0a",
        "colab": {}
      },
      "cell_type": "code",
      "source": [
        "paras_list = list()\n",
        "err_list = list()\n",
        "lamda_list = list()\n",
        "es = 0\n",
        "lamdas = np.linspace(0, 1000, 10000)\n",
        "\n",
        "X_train_iter, X_test_iter, y_train_iter, y_test_iter = train_test_split(X_house, y_house, test_size=0.2, random_state=42)\n",
        "X_train_iter, X_val_iter, y_train_iter, y_val_iter = train_test_split(X_train_iter, y_train_iter, test_size=0.2, random_state=42)\n",
        "\n",
        "y_true_val = np.array(y_val_iter)\n",
        "y_true_train = np.array(y_train_iter)\n",
        "X_true_val = np.array(X_val_iter)\n",
        "X_true_train = np.array(X_train_iter)\n",
        "y_true_test = np.array(y_test_iter)\n",
        "\n",
        "for lamda in lamdas:\n",
        "    \n",
        "    model = Lasso(fit_intercept=True, alpha=lamda, max_iter=10000)\n",
        "    model.fit(X_train_iter,y_train_iter)\n",
        "    ymodel = model.predict(X_val_iter)\n",
        "    \n",
        "    y_predict = np.array(ymodel)\n",
        "    \n",
        "    lamda_list.append(lamda)\n",
        "    paras_list.append(model.coef_)\n",
        "    err_list.append(sum(abs(y_predict - y_true_val)))\n",
        "    \n",
        "plt.figure(figsize=(15,8))\n",
        "plt.plot(lamdas, err_list)\n",
        "plt.xlabel(\"Lanmbda\")\n",
        "plt.ylabel(\"Absoluate Error\")"
      ],
      "execution_count": 0,
      "outputs": [
        {
          "output_type": "stream",
          "text": [
            "/home/james/miniconda3/envs/supervised-py3.6/lib/python3.6/site-packages/ipykernel_launcher.py:19: UserWarning: With alpha=0, this algorithm does not converge well. You are advised to use the LinearRegression estimator\n",
            "/home/james/miniconda3/envs/supervised-py3.6/lib/python3.6/site-packages/sklearn/linear_model/coordinate_descent.py:477: UserWarning: Coordinate descent with no regularization may lead to unexpected results and is discouraged.\n",
            "  positive)\n",
            "/home/james/miniconda3/envs/supervised-py3.6/lib/python3.6/site-packages/sklearn/linear_model/coordinate_descent.py:491: ConvergenceWarning: Objective did not converge. You might want to increase the number of iterations. Fitting data with very small alpha may cause precision problems.\n",
            "  ConvergenceWarning)\n",
            "/home/james/miniconda3/envs/supervised-py3.6/lib/python3.6/site-packages/sklearn/linear_model/coordinate_descent.py:491: ConvergenceWarning: Objective did not converge. You might want to increase the number of iterations. Fitting data with very small alpha may cause precision problems.\n",
            "  ConvergenceWarning)\n",
            "/home/james/miniconda3/envs/supervised-py3.6/lib/python3.6/site-packages/sklearn/linear_model/coordinate_descent.py:491: ConvergenceWarning: Objective did not converge. You might want to increase the number of iterations. Fitting data with very small alpha may cause precision problems.\n",
            "  ConvergenceWarning)\n"
          ],
          "name": "stderr"
        },
        {
          "output_type": "execute_result",
          "data": {
            "text/plain": [
              "Text(0, 0.5, 'Absoluate Error')"
            ]
          },
          "metadata": {
            "tags": []
          },
          "execution_count": 47
        },
        {
          "output_type": "display_data",
          "data": {
            "image/png": "[encoded data removed]",
            "text/plain": [
              "<Figure size 1080x576 with 1 Axes>"
            ]
          },
          "metadata": {
            "tags": []
          }
        }
      ]
    },
    {
      "metadata": {
        "id": "Z-CVhU0Yi5l1",
        "colab_type": "code",
        "outputId": "9bf93f56-50c4-4788-8608-cffaf23886cb",
        "colab": {}
      },
      "cell_type": "code",
      "source": [
        "minpos = err_list.index(min(err_list)) \n",
        "print(\"Min Lambda: \", lamda_list[minpos])\n",
        "print(\"Coeff: \", paras_list[minpos])"
      ],
      "execution_count": 0,
      "outputs": [
        {
          "output_type": "stream",
          "text": [
            "Min Lambda:  630.06300630063\n",
            "Coeff:  [-3.04393355e+03  1.34282776e-12  0.00000000e+00 -0.00000000e+00\n",
            "  0.00000000e+00 -1.80665222e+04 -1.92895221e+04  0.00000000e+00\n",
            "  1.87982221e+04  1.67112409e+04 -0.00000000e+00  0.00000000e+00\n",
            " -0.00000000e+00 -1.13241316e+03 -0.00000000e+00  0.00000000e+00\n",
            "  1.54213729e+04 -0.00000000e+00 -0.00000000e+00 -0.00000000e+00\n",
            " -0.00000000e+00  1.86142839e+04 -0.00000000e+00  1.07402636e+00\n",
            " -2.36685881e+04  1.34650071e-10  4.86307845e+04 -4.96299088e+03\n",
            "  0.00000000e+00  1.12277611e+02  1.20413361e+04 -0.00000000e+00\n",
            "  0.00000000e+00  0.00000000e+00 -0.00000000e+00  0.00000000e+00\n",
            " -0.00000000e+00 -0.00000000e+00 -2.37652086e+04  0.00000000e+00\n",
            " -0.00000000e+00  0.00000000e+00  0.00000000e+00  0.00000000e+00\n",
            " -0.00000000e+00 -6.30899703e+03 -0.00000000e+00 -0.00000000e+00\n",
            "  0.00000000e+00  1.17866113e+04  7.56611613e+04]\n"
          ],
          "name": "stdout"
        }
      ]
    },
    {
      "metadata": {
        "id": "vJ8K4h4vi5l8",
        "colab_type": "code",
        "outputId": "f1a6322c-6cd9-4e60-a148-3773f47d694f",
        "colab": {}
      },
      "cell_type": "code",
      "source": [
        "paras_list = list()\n",
        "es = 0\n",
        "error = 0\n",
        "es_percent= 0\n",
        "error_per = 0\n",
        "IterTimes = 1000\n",
        "for Iter in range(IterTimes):\n",
        "    X_train_iter, X_test_iter, y_train_iter, y_test_iter = train_test_split(X_house, y_house, test_size=0.2, shuffle=True)\n",
        "    X_train_iter, X_val_iter, y_train_iter, y_val_iter = train_test_split(X_train_iter, y_train_iter, test_size=0.2, shuffle=True)\n",
        "\n",
        "    model = Lasso(fit_intercept=True, alpha=630, max_iter=2000)\n",
        "    model.fit(X_train_iter,y_train_iter)\n",
        "    ymodel = model.predict(X_val_iter)\n",
        "    \n",
        "    y_predict = np.array(ymodel)\n",
        "    y_true_val = np.array(y_val_iter)\n",
        "    y_true_train = np.array(y_train_iter)\n",
        "    X_true_val = np.array(X_val_iter)\n",
        "    X_true_train = np.array(X_train_iter)\n",
        "    \n",
        "    paras_list.append(model.coef_)\n",
        "    \n",
        "    es = np.sqrt( sum((y_predict - y_true_val)**2) / len(y_predict) )\n",
        "    es_percent = sum(np.abs(y_true_val - y_predict) / y_true_val) * 100 / len(y_true_val)\n",
        "    error += es\n",
        "    error_per += es_percent\n",
        "    \n",
        "params = pd.Series(np.sum(paras_list, axis=0) / IterTimes, index=X_train_iter.columns)\n",
        "\n",
        "print(\"\\nTotal Error: \", error / IterTimes)\n",
        "print(\"Percentage Error: \", error_per / IterTimes, '%')"
      ],
      "execution_count": 0,
      "outputs": [
        {
          "output_type": "stream",
          "text": [
            "\n",
            "Total Error:  43921.56809307317\n",
            "Percentage Error:  12.899891135248113 %\n"
          ],
          "name": "stdout"
        }
      ]
    },
    {
      "metadata": {
        "id": "hWOO6SSci5mC",
        "colab_type": "text"
      },
      "cell_type": "markdown",
      "source": [
        "## Conclusion- question 5(g)(h)"
      ]
    },
    {
      "metadata": {
        "id": "jA4EiSMxi5mD",
        "colab_type": "text"
      },
      "cell_type": "markdown",
      "source": [
        "1. There are two pattern shown on above:\n",
        "    a. The raw dataset as the input (treat the entire data, in TXT file, as numeric data)\n",
        "    \n",
        "    => I obtain (1) Normal Linear Regression: ~17% error rate using only training set\n",
        "                (2) Ridge Linear Regression: ~17% error rate (not with best Lambda) using only training set\n",
        "                (3) Lasso Linear Regression: ~17% error rate (not with best Lambda) using only training set\n",
        "                \n",
        "    b. Dropping out outliers in \"Sale Price\", \"Square Feet\" and \"Lot Size\" + one-hot encoder for other data\n",
        "    \n",
        "    => I obtain (1) Normal Linear Regression: incredible big error rate \n",
        "                (2) Ridge Linear Regression: ~13% error rate (with best Lambda) testing in validation set\n",
        "                (3) Lasso Linear Regression: ~13% error rate (with best Lambda) testing in validation set\n",
        "                \n",
        "2. I prefer to use Ridge Linear Regression to do this task, because I obtain similar accuracy both in Ridge and Lasso. Also, with the model selection, Lasso gives me up to 600 value for Lambda. Speaking of Normal Linear Regression, I think that it might be overfitting in some way (but the training error is not close ot 0). I'm still not sure why it can't be converged.\n",
        "\n",
        "\n",
        "3. Actually, I also try scaling and transforming to adjust the data, but I also obtain a worse predicted value compared with (b) pattern I mentioned."
      ]
    },
    {
      "metadata": {
        "id": "1zQfKBOW0R2x",
        "colab_type": "code",
        "colab": {}
      },
      "cell_type": "code",
      "source": [
        ""
      ],
      "execution_count": 0,
      "outputs": []
    }
  ]
}
