{
  "nbformat": 4,
  "nbformat_minor": 0,
  "metadata": {
    "colab": {
      "name": "Assignment4-Q3.ipynb",
      "version": "0.3.2",
      "provenance": [],
      "collapsed_sections": [],
      "include_colab_link": true
    },
    "kernelspec": {
      "display_name": "Python 3",
      "language": "python",
      "name": "python3"
    }
  },
  "cells": [
    {
      "cell_type": "markdown",
      "metadata": {
        "id": "view-in-github",
        "colab_type": "text"
      },
      "source": [
        "<a href=\"https://colab.research.google.com/github/KuanChihLee/Supervised-Learning/blob/master/Assignment4_Q3.ipynb\" target=\"_parent\"><img src=\"https://colab.research.google.com/assets/colab-badge.svg\" alt=\"Open In Colab\"/></a>"
      ]
    },
    {
      "metadata": {
        "id": "8t53UuDwUBr1",
        "colab_type": "text"
      },
      "cell_type": "markdown",
      "source": [
        "## This assignment section implements Gaussian and histogram kernel density estimation for IPOs dataset"
      ]
    },
    {
      "metadata": {
        "id": "MtUXwK8wT0pG",
        "colab_type": "code",
        "outputId": "5e310d7f-04e1-4af6-b458-d3a5daaa1637",
        "colab": {
          "base_uri": "https://localhost:8080/",
          "height": 162
        }
      },
      "cell_type": "code",
      "source": [
        "%matplotlib inline\n",
        "import matplotlib.pyplot as plt\n",
        "plt.style.use('seaborn-whitegrid')\n",
        "import numpy as np\n",
        "import pandas as pd\n",
        "import random\n",
        "from math import sqrt, ceil, floor\n",
        "from numpy.linalg import inv\n",
        "from statistics import stdev\n",
        "\n",
        "import csv\n",
        "\n",
        "csv_file = \"./IPO_dataset.csv\"\n",
        "\n",
        "# Saving CSV file to dataframe\n",
        "df_IPO = pd.read_csv(csv_file, names=['ID', 'Venture_Fund', 'Face_Value', 'Offer_shares', 'Lev_Buyout'])\n",
        "print(df_IPO.shape)\n",
        "df_IPO.head(3)"
      ],
      "execution_count": 0,
      "outputs": [
        {
          "output_type": "stream",
          "text": [
            "(482, 5)\n"
          ],
          "name": "stdout"
        },
        {
          "output_type": "execute_result",
          "data": {
            "text/html": [
              "<div>\n",
              "<style scoped>\n",
              "    .dataframe tbody tr th:only-of-type {\n",
              "        vertical-align: middle;\n",
              "    }\n",
              "\n",
              "    .dataframe tbody tr th {\n",
              "        vertical-align: top;\n",
              "    }\n",
              "\n",
              "    .dataframe thead th {\n",
              "        text-align: right;\n",
              "    }\n",
              "</style>\n",
              "<table border=\"1\" class=\"dataframe\">\n",
              "  <thead>\n",
              "    <tr style=\"text-align: right;\">\n",
              "      <th></th>\n",
              "      <th>ID</th>\n",
              "      <th>Venture_Fund</th>\n",
              "      <th>Face_Value</th>\n",
              "      <th>Offer_shares</th>\n",
              "      <th>Lev_Buyout</th>\n",
              "    </tr>\n",
              "  </thead>\n",
              "  <tbody>\n",
              "    <tr>\n",
              "      <th>0</th>\n",
              "      <td>1</td>\n",
              "      <td>0</td>\n",
              "      <td>1200000</td>\n",
              "      <td>3000000</td>\n",
              "      <td>0</td>\n",
              "    </tr>\n",
              "    <tr>\n",
              "      <th>1</th>\n",
              "      <td>2</td>\n",
              "      <td>0</td>\n",
              "      <td>1454000</td>\n",
              "      <td>1454000</td>\n",
              "      <td>1</td>\n",
              "    </tr>\n",
              "    <tr>\n",
              "      <th>2</th>\n",
              "      <td>3</td>\n",
              "      <td>0</td>\n",
              "      <td>1500000</td>\n",
              "      <td>300000</td>\n",
              "      <td>0</td>\n",
              "    </tr>\n",
              "  </tbody>\n",
              "</table>\n",
              "</div>"
            ],
            "text/plain": [
              "   ID  Venture_Fund  Face_Value  Offer_shares  Lev_Buyout\n",
              "0   1             0     1200000       3000000           0\n",
              "1   2             0     1454000       1454000           1\n",
              "2   3             0     1500000        300000           0"
            ]
          },
          "metadata": {
            "tags": []
          },
          "execution_count": 5
        }
      ]
    },
    {
      "metadata": {
        "id": "aSVz7g8fT0pa",
        "colab_type": "code",
        "outputId": "3850bac7-6ab2-45ba-98d1-51cef1c7acb9",
        "colab": {
          "base_uri": "https://localhost:8080/",
          "height": 418
        }
      },
      "cell_type": "code",
      "source": [
        "Train = df_IPO.sample(frac=0.7, random_state=20)\n",
        "df_IPO = df_IPO.drop(Train.index)\n",
        "Dev = df_IPO.sample(frac=0.7, random_state=20)\n",
        "Eval = df_IPO.drop(Dev.index)\n",
        "\n",
        "del Train['ID']\n",
        "del Dev['ID']\n",
        "del Eval['ID']\n",
        "print(\"Train size:\", Train.shape)\n",
        "print(\"Dev size:\",Dev.shape)\n",
        "print(\"Eval size:\",Eval.shape)\n",
        "Train.head(10)"
      ],
      "execution_count": 0,
      "outputs": [
        {
          "output_type": "stream",
          "text": [
            "Train size: (337, 4)\n",
            "Dev size: (102, 4)\n",
            "Eval size: (43, 4)\n"
          ],
          "name": "stdout"
        },
        {
          "output_type": "execute_result",
          "data": {
            "text/html": [
              "<div>\n",
              "<style scoped>\n",
              "    .dataframe tbody tr th:only-of-type {\n",
              "        vertical-align: middle;\n",
              "    }\n",
              "\n",
              "    .dataframe tbody tr th {\n",
              "        vertical-align: top;\n",
              "    }\n",
              "\n",
              "    .dataframe thead th {\n",
              "        text-align: right;\n",
              "    }\n",
              "</style>\n",
              "<table border=\"1\" class=\"dataframe\">\n",
              "  <thead>\n",
              "    <tr style=\"text-align: right;\">\n",
              "      <th></th>\n",
              "      <th>Venture_Fund</th>\n",
              "      <th>Face_Value</th>\n",
              "      <th>Offer_shares</th>\n",
              "      <th>Lev_Buyout</th>\n",
              "    </tr>\n",
              "  </thead>\n",
              "  <tbody>\n",
              "    <tr>\n",
              "      <th>13</th>\n",
              "      <td>0</td>\n",
              "      <td>3150000</td>\n",
              "      <td>450000</td>\n",
              "      <td>0</td>\n",
              "    </tr>\n",
              "    <tr>\n",
              "      <th>471</th>\n",
              "      <td>0</td>\n",
              "      <td>114000000</td>\n",
              "      <td>6000000</td>\n",
              "      <td>0</td>\n",
              "    </tr>\n",
              "    <tr>\n",
              "      <th>63</th>\n",
              "      <td>0</td>\n",
              "      <td>5850000</td>\n",
              "      <td>900000</td>\n",
              "      <td>0</td>\n",
              "    </tr>\n",
              "    <tr>\n",
              "      <th>328</th>\n",
              "      <td>0</td>\n",
              "      <td>29700000</td>\n",
              "      <td>3300000</td>\n",
              "      <td>0</td>\n",
              "    </tr>\n",
              "    <tr>\n",
              "      <th>185</th>\n",
              "      <td>1</td>\n",
              "      <td>15000000</td>\n",
              "      <td>1500000</td>\n",
              "      <td>0</td>\n",
              "    </tr>\n",
              "    <tr>\n",
              "      <th>179</th>\n",
              "      <td>1</td>\n",
              "      <td>14700000</td>\n",
              "      <td>2100000</td>\n",
              "      <td>0</td>\n",
              "    </tr>\n",
              "    <tr>\n",
              "      <th>156</th>\n",
              "      <td>0</td>\n",
              "      <td>13000000</td>\n",
              "      <td>1625000</td>\n",
              "      <td>0</td>\n",
              "    </tr>\n",
              "    <tr>\n",
              "      <th>372</th>\n",
              "      <td>0</td>\n",
              "      <td>35000000</td>\n",
              "      <td>5000000</td>\n",
              "      <td>0</td>\n",
              "    </tr>\n",
              "    <tr>\n",
              "      <th>365</th>\n",
              "      <td>1</td>\n",
              "      <td>33350000</td>\n",
              "      <td>2300000</td>\n",
              "      <td>0</td>\n",
              "    </tr>\n",
              "    <tr>\n",
              "      <th>362</th>\n",
              "      <td>1</td>\n",
              "      <td>32500000</td>\n",
              "      <td>2500000</td>\n",
              "      <td>0</td>\n",
              "    </tr>\n",
              "  </tbody>\n",
              "</table>\n",
              "</div>"
            ],
            "text/plain": [
              "     Venture_Fund  Face_Value  Offer_shares  Lev_Buyout\n",
              "13              0     3150000        450000           0\n",
              "471             0   114000000       6000000           0\n",
              "63              0     5850000        900000           0\n",
              "328             0    29700000       3300000           0\n",
              "185             1    15000000       1500000           0\n",
              "179             1    14700000       2100000           0\n",
              "156             0    13000000       1625000           0\n",
              "372             0    35000000       5000000           0\n",
              "365             1    33350000       2300000           0\n",
              "362             1    32500000       2500000           0"
            ]
          },
          "metadata": {
            "tags": []
          },
          "execution_count": 6
        }
      ]
    },
    {
      "metadata": {
        "id": "A5VYF83FT0pl",
        "colab_type": "text"
      },
      "cell_type": "markdown",
      "source": [
        "#### Gaussian kernel density estimation using class stddev as bandwith- question 3(a)"
      ]
    },
    {
      "metadata": {
        "id": "XLXWErHfT0pp",
        "colab_type": "code",
        "colab": {}
      },
      "cell_type": "code",
      "source": [
        "def _Gaussian_Kernerl(x, mean, stdev):\n",
        "    fx = (1 / (np.sqrt(2 * np.pi) * stdev)) * np.exp(-(pow(x - mean, 2) / (2 * pow(stdev, 2))))\n",
        "    return fx\n",
        "\n",
        "def _ProbByClass(mean_vectors, stdev_vectors, prior_vectors, observation):\n",
        "    probabilities = {}\n",
        "    prob_x = 0\n",
        "    for clas in range(len(prior_vectors)):\n",
        "        probabilities[clas] = prior_vectors[clas]\n",
        "        for predictor in range(len(mean_vectors[clas])):\n",
        "            mean, stdev = mean_vectors[clas][predictor], stdev_vectors[clas][predictor]\n",
        "            x = observation[predictor]\n",
        "            probabilities[clas] *= _Gaussian_Kernerl(x, mean, stdev)\n",
        "        prob_x += probabilities[clas]\n",
        "    for clas in range(len(prior_vectors)):\n",
        "        probabilities[clas] /= prob_x\n",
        "    return probabilities\n",
        "\n",
        "def predict(mean_vectors, stdev_vectors, prior_vectors, dataset):\n",
        "    predictions = []\n",
        "    for index in range(dataset.shape[0]):\n",
        "        probabilities = _ProbByClass(mean_vectors, stdev_vectors, prior_vectors, dataset[index])\n",
        "        best_label, best_prob = None, -1\n",
        "        for clas, probability in probabilities.items():\n",
        "            if best_label is None or probability > best_prob:\n",
        "                best_label = clas\n",
        "                best_prob = probability\n",
        "        predictions.append(best_label)\n",
        "    return predictions\n",
        "\n",
        "def getAccuracy(y, predictions):\n",
        "    correct = 0\n",
        "    for index in range(len(y)):\n",
        "        if y[index] == predictions[index]:\n",
        "            correct += 1\n",
        "    return (correct/float(len(y))) * 100.0"
      ],
      "execution_count": 0,
      "outputs": []
    },
    {
      "metadata": {
        "id": "DAH5RnAwT0px",
        "colab_type": "code",
        "outputId": "eebae09e-e3a5-446b-a491-f8dcda908d05",
        "colab": {
          "base_uri": "https://localhost:8080/",
          "height": 54
        }
      },
      "cell_type": "code",
      "source": [
        "predictor_num = Train.shape[1] - 1\n",
        "class_num = len(np.unique(Train.Venture_Fund.values))\n",
        "\n",
        "X_train = Train.drop(\"Venture_Fund\", axis=1).values\n",
        "y_train = Train.Venture_Fund.values\n",
        "X_dev = Dev.drop(\"Venture_Fund\", axis=1).values\n",
        "y_dev = Dev.Venture_Fund.values\n",
        "X_eval = Eval.drop(\"Venture_Fund\", axis=1).values\n",
        "y_eval = Eval.Venture_Fund.values\n",
        "\n",
        "X_train[:,0] = np.log1p(X_train[:,0])\n",
        "X_train[:,1] = np.log1p(X_train[:,1])\n",
        "X_dev[:,0] = np.log1p(X_dev[:,0])\n",
        "X_dev[:,1] = np.log1p(X_dev[:,1])\n",
        "X_eval[:,0] = np.log1p(X_eval[:,0])\n",
        "X_eval[:,1] = np.log1p(X_eval[:,1])\n",
        "\n",
        "mean_vectors = []\n",
        "stdev_vectors = []\n",
        "prior_vectors = []\n",
        "for clas in range(0, class_num):\n",
        "    x = X_train[y_train==clas]\n",
        "    mean_vectors.append(np.mean(x, axis=0))\n",
        "    stdev_vectors.append(np.sqrt(sum(pow(x - mean_vectors[clas], 2)) / (x.shape[0] - 1)))\n",
        "    prior_vectors.append(x.shape[0] / X_train.shape[0])\n",
        "predictions = predict(mean_vectors, stdev_vectors, prior_vectors, X_train)\n",
        "accurary = getAccuracy(y_train, predictions)\n",
        "print(\"Accurary on Training set: \", accurary, \"%\")\n",
        " \n",
        "predictions = predict(mean_vectors, stdev_vectors, prior_vectors, X_dev)\n",
        "accurary = getAccuracy(y_dev, predictions)\n",
        "print(\"Accurary on Eval set: \", accurary, \"%\")"
      ],
      "execution_count": 0,
      "outputs": [
        {
          "output_type": "stream",
          "text": [
            "Accurary on Training set:  64.68842729970326 %\n",
            "Accurary on Eval set:  65.68627450980392 %\n"
          ],
          "name": "stdout"
        }
      ]
    },
    {
      "metadata": {
        "id": "0NDdoEoYT0p5",
        "colab_type": "text"
      },
      "cell_type": "markdown",
      "source": [
        "Short summary: Just remember the accuracy we obtain, on training and validation set, are about 64~66% "
      ]
    },
    {
      "metadata": {
        "id": "flPt32q-T0qc",
        "colab_type": "text"
      },
      "cell_type": "markdown",
      "source": [
        "#### Choosing Lambda from validation set- question 3(b)"
      ]
    },
    {
      "metadata": {
        "id": "wX37I6D8Vf1N",
        "colab_type": "code",
        "colab": {}
      },
      "cell_type": "code",
      "source": [
        "def _Gaussian_Kernerl_BD(x, mean, stdev):\n",
        "    fx = (1 / (np.sqrt(2 * np.pi) * stdev)) * np.exp(-(pow(x - mean, 2) / (2 * pow(stdev, 2))))\n",
        "    return fx\n",
        "\n",
        "def _ProbByClass_BD(mean_vectors, lamdas, prior_vectors, observation):\n",
        "    probabilities = {}\n",
        "    prob_x = 0\n",
        "    for clas in range(len(prior_vectors)):\n",
        "        probabilities[clas] = prior_vectors[clas]\n",
        "        for predictor in range(len(mean_vectors[clas])):\n",
        "            mean, stdev = mean_vectors[clas][predictor], lamdas[clas]\n",
        "            x = observation[predictor]\n",
        "            probabilities[clas] *= _Gaussian_Kernerl_BD(x, mean, stdev)\n",
        "        prob_x += probabilities[clas]\n",
        "    for clas in range(len(prior_vectors)):\n",
        "        probabilities[clas] /= prob_x\n",
        "    return probabilities\n",
        "\n",
        "def predict_BD(mean_vectors, lamdas, prior_vectors, dataset):\n",
        "    predictions = []\n",
        "    for index in range(dataset.shape[0]):\n",
        "        probabilities = _ProbByClass_BD(mean_vectors, lamdas, prior_vectors, dataset[index])\n",
        "        best_label, best_prob = None, -1\n",
        "        for clas, probability in probabilities.items():\n",
        "            if best_label is None or probability > best_prob:\n",
        "                best_label = clas\n",
        "                best_prob = probability\n",
        "        predictions.append(best_label)\n",
        "    return predictions\n",
        "\n",
        "def getAccuracy(y, predictions):\n",
        "    correct = 0\n",
        "    for index in range(len(y)):\n",
        "        if y[index] == predictions[index]:\n",
        "            correct += 1\n",
        "    return (correct/float(len(y))) * 100.0"
      ],
      "execution_count": 0,
      "outputs": []
    },
    {
      "metadata": {
        "id": "tpW-6QHWV3Ds",
        "colab_type": "code",
        "outputId": "1b10693b-cfa1-4aac-d8cb-0f12f4564750",
        "colab": {
          "base_uri": "https://localhost:8080/",
          "height": 90
        }
      },
      "cell_type": "code",
      "source": [
        "mean_vectors = []\n",
        "stdev_vectors = []\n",
        "prior_vectors = []\n",
        "for clas in range(0, class_num):\n",
        "    x = X_train[y_train==clas]\n",
        "    mean_vectors.append(np.mean(x, axis=0))\n",
        "    prior_vectors.append(x.shape[0] / X_train.shape[0])\n",
        "predictions = predict_BD(mean_vectors, [0.01, 0.05], prior_vectors, X_train)\n",
        "accurary = getAccuracy(y_train, predictions)\n",
        "print(\"Accurary on Training set: \", accurary, \"%\")\n",
        " \n",
        "predictions = predict_BD(mean_vectors, [0.01, 0.05], prior_vectors, X_dev)\n",
        "accurary = getAccuracy(y_dev, predictions)\n",
        "print(\"Accurary on Eval set: \", accurary, \"%\")"
      ],
      "execution_count": 0,
      "outputs": [
        {
          "output_type": "stream",
          "text": [
            "Accurary on Training set:  46.29080118694362 %\n",
            "Accurary on Eval set:  57.84313725490197 %\n"
          ],
          "name": "stdout"
        },
        {
          "output_type": "stream",
          "text": [
            "/usr/local/lib/python3.6/dist-packages/ipykernel_launcher.py:16: RuntimeWarning: invalid value encountered in double_scalars\n",
            "  app.launch_new_instance()\n"
          ],
          "name": "stderr"
        }
      ]
    },
    {
      "metadata": {
        "id": "mDLvI_pCXb9e",
        "colab_type": "code",
        "outputId": "b62fd9c6-486a-4edf-e0fa-1c106e796cf0",
        "colab": {
          "base_uri": "https://localhost:8080/",
          "height": 90
        }
      },
      "cell_type": "code",
      "source": [
        "mean_vectors = []\n",
        "stdev_vectors = []\n",
        "prior_vectors = []\n",
        "\n",
        "for clas in range(0, class_num):\n",
        "    x = X_train[y_train==clas]\n",
        "    mean_vectors.append(np.mean(x, axis=0))\n",
        "    prior_vectors.append(x.shape[0] / X_train.shape[0])\n",
        "    \n",
        "lamda_range = np.linspace(.01, 10, num=30)\n",
        "lamda_vectors = []\n",
        "for i in lamda_range:\n",
        "    for j in lamda_range:\n",
        "        lamda_vectors.append([i, j])\n",
        "    \n",
        "accurary = []\n",
        "for lamdas in lamda_vectors:    \n",
        "    predictions = predict_BD(mean_vectors, lamdas, prior_vectors, X_dev)\n",
        "    accurary.append(getAccuracy(y_dev, predictions))\n",
        "    index_max = np.argmax(accurary)\n",
        "\n",
        "print(\"Accurary on Dev set: \", np.max(accurary), \"%\")\n",
        "print(\"Chosen Lambdas: \", lamda_vectors[index_max])    "
      ],
      "execution_count": 0,
      "outputs": [
        {
          "output_type": "stream",
          "text": [
            "/usr/local/lib/python3.6/dist-packages/ipykernel_launcher.py:16: RuntimeWarning: invalid value encountered in double_scalars\n",
            "  app.launch_new_instance()\n"
          ],
          "name": "stderr"
        },
        {
          "output_type": "stream",
          "text": [
            "Accurary on Dev set:  67.64705882352942 %\n",
            "Chosen Lambdas:  [1.0434482758620691, 0.6989655172413793]\n"
          ],
          "name": "stdout"
        }
      ]
    },
    {
      "metadata": {
        "id": "o1cHfF7_T0qo",
        "colab_type": "code",
        "outputId": "452c11d0-ad4d-4f69-c919-455765e26ea0",
        "colab": {
          "base_uri": "https://localhost:8080/",
          "height": 591
        }
      },
      "cell_type": "code",
      "source": [
        "lamda_list = [la for la in lamda_range]\n",
        "acc_matrix = np.array(accurary).reshape(len(lamda_list),len(lamda_list))\n",
        "\n",
        "fig, ax = plt.subplots(figsize=(16,10))\n",
        "heatmap = ax.pcolor(acc_matrix, cmap=plt.cm.Blues) # heatmap contient les valeurs\n",
        "\n",
        "plt.setp(ax.get_xticklabels(), visible=False)\n",
        "plt.setp(ax.get_yticklabels(), visible=False)\n",
        "ax.set_xlabel(\"Lambda for Label '0' (from 0.01 to 10)\", size=12)\n",
        "ax.set_ylabel(\"Lambda for Label '1' (from 0.01 to 10)\", size=12)\n",
        "cbar = plt.colorbar(heatmap)\n",
        "cbar.set_label('Accuracy (%)', size=12, rotation=270, labelpad=15)"
      ],
      "execution_count": 0,
      "outputs": [
        {
          "output_type": "display_data",
          "data": {
            "image/png": "[encoded data removed]",
            "text/plain": [
              "<Figure size 1152x720 with 2 Axes>"
            ]
          },
          "metadata": {
            "tags": []
          }
        }
      ]
    },
    {
      "metadata": {
        "id": "Pls3zxhvT0qu",
        "colab_type": "text"
      },
      "cell_type": "markdown",
      "source": [
        "#### Report the predictive performance on the evaluation set"
      ]
    },
    {
      "metadata": {
        "id": "oqYU9dp-T0qw",
        "colab_type": "code",
        "outputId": "66f9d76a-a11d-47ea-bbc3-239bc9ec9e01",
        "colab": {
          "base_uri": "https://localhost:8080/",
          "height": 35
        }
      },
      "cell_type": "code",
      "source": [
        "fixed_lamda = lamda_vectors[index_max]\n",
        "predictions = predict_BD(mean_vectors, fixed_lamda, prior_vectors, X_eval)\n",
        "acc = getAccuracy(y_eval, predictions)\n",
        "print(\"Accurary on Eval set: \", acc, \"%\")"
      ],
      "execution_count": 0,
      "outputs": [
        {
          "output_type": "stream",
          "text": [
            "Accurary on Eval set:  69.76744186046511 %\n"
          ],
          "name": "stdout"
        }
      ]
    },
    {
      "metadata": {
        "id": "Jaz0-RfWT0q6",
        "colab_type": "text"
      },
      "cell_type": "markdown",
      "source": [
        "1. As a result, the accuracy of evaluation set is about 69%. Although it's a pretty result, it's a better result compared with logistic regression I used in Assignment 3. Also, I don't need to extend the feature domain, such as higher dimension and interaction terms. \n",
        "2. Based on last assignment experience, this assignment only adopts log transformation to numeric features. I don't add any higher-order terms to increase model complexity. I want to see the basic performance for Gaussian kernel NB model and Kernel Density Estimation."
      ]
    },
    {
      "metadata": {
        "id": "aJMZLnumT0q7",
        "colab_type": "code",
        "colab": {}
      },
      "cell_type": "code",
      "source": [
        ""
      ],
      "execution_count": 0,
      "outputs": []
    }
  ]
}